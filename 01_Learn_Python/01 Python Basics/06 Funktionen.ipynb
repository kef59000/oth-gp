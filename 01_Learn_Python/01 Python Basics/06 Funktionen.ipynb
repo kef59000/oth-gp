{
 "cells": [
  {
   "cell_type": "markdown",
   "metadata": {},
   "source": [
    "# Learning by Doing: Python Basics"
   ]
  },
  {
   "cell_type": "markdown",
   "metadata": {},
   "source": [
    "## Lösungsvorschläge"
   ]
  },
  {
   "cell_type": "markdown",
   "metadata": {},
   "source": [
    "### Vorschlag 6: Funktionen"
   ]
  },
  {
   "cell_type": "code",
   "execution_count": null,
   "metadata": {},
   "outputs": [],
   "source": [
    "def berechne_brutto(netto_preis, mwst):\n",
    "    brutto_preis = netto_preis * mwst\n",
    "\n",
    "    return brutto_preis\n",
    "\n",
    "berechne_brutto(1, 1.19)"
   ]
  },
  {
   "cell_type": "markdown",
   "metadata": {},
   "source": [
    "#### Takeaways: Funktionen\n",
    "\n",
    "Funktionen sind wie kleine, unabhängige Programme innerhalb deines größeren Python-Programms. Sie ermöglichen es dir, Code in wiederverwendbare Blöcke zu kapseln, was deinen Code übersichtlicher, wartbarer und effizienter macht.\n",
    "\n",
    "### Warum Funktionen?\n",
    "\n",
    "* **Wiederverwendbarkeit:** Statt denselben Code immer wieder zu kopieren und einzufügen, kannst du ihn in eine Funktion packen und diese bei Bedarf einfach aufrufen.\n",
    "* **Organisation:** Funktionen helfen dir, deinen Code in logische Einheiten zu unterteilen, was ihn leichter verständlich und wartbar macht.\n",
    "* **Abstraktion:** Funktionen ermöglichen es dir, dich auf das \"Was\" zu konzentrieren, anstatt auf das \"Wie\". Du kannst eine Funktion aufrufen, ohne genau wissen zu müssen, wie sie intern funktioniert.\n",
    "\n",
    "### Wie definiert man eine Funktion in Python?\n",
    "\n",
    "Die grundlegende Syntax zum Definieren einer Funktion sieht so aus:\n",
    "\n",
    "```python\n",
    "def funktionsname(parameter1, parameter2, ...):\n",
    "    \"\"\"\n",
    "    (Optional) Ein Docstring, der die Funktion beschreibt.\n",
    "    \"\"\"\n",
    "    # Code, der innerhalb der Funktion ausgeführt wird\n",
    "    return ergebnis  # (Optional) Ein Wert, der von der Funktion zurückgegeben wird\n",
    "```\n",
    "\n",
    "* `def`: Das Schlüsselwort, das eine Funktionsdefinition einleitet.\n",
    "* `funktionsname`: Der Name, den du deiner Funktion gibst. Wähle einen aussagekräftigen Namen, der beschreibt, was die Funktion tut.\n",
    "* `parameter1, parameter2, ...`: (Optional) Parameter sind Platzhalter für Werte, die beim Aufruf der Funktion übergeben werden.\n",
    "* `Docstring`: (Optional) Ein String in dreifachen Anführungszeichen, der die Funktion dokumentiert.\n",
    "* `return ergebnis`: (Optional) Das Schlüsselwort `return` gibt einen Wert von der Funktion zurück. Wenn kein `return`-Statement vorhanden ist, gibt die Funktion `None` zurück.\n",
    "\n",
    "### Beispiel: Eine einfache Funktion\n",
    "\n",
    "```python\n",
    "def begruessung(name):\n",
    "    \"\"\"\n",
    "    Diese Funktion begrüßt eine Person mit ihrem Namen.\n",
    "    \"\"\"\n",
    "    print(\"Hallo,\", name + \"!\")\n",
    "\n",
    "# Funktion aufrufen\n",
    "begruessung(\"Alice\")  # Ausgabe: Hallo, Alice!\n",
    "```\n",
    "\n",
    "### Wichtige Konzepte:\n",
    "\n",
    "* **Parameter und Argumente:** Parameter sind die Platzhalter in der Funktionsdefinition, Argumente sind die tatsächlichen Werte, die beim Aufruf übergeben werden.\n",
    "* **Rückgabewert:** Eine Funktion kann einen Wert zurückgeben, der dann in einer Variablen gespeichert oder weiterverarbeitet werden kann.\n",
    "* **Lokale Variablen:** Variablen, die innerhalb einer Funktion definiert werden, sind nur innerhalb dieser Funktion sichtbar und existieren nicht außerhalb.\n",
    "* **Globale Variablen:** Variablen, die außerhalb von Funktionen definiert werden, sind global und können innerhalb von Funktionen gelesen werden. Um sie innerhalb einer Funktion zu verändern, muss man sie mit `global` kennzeichnen.\n",
    "\n",
    "### Anwendungsbeispiele:\n",
    "\n",
    "* **Berechnungen:** Funktionen können komplexe Berechnungen kapseln und wiederverwendbar machen.\n",
    "* **Datenverarbeitung:** Funktionen können verwendet werden, um Daten zu filtern, zu transformieren oder zu analysieren.\n",
    "* **Benutzereingaben:** Funktionen können Eingaben vom Benutzer entgegennehmen und verarbeiten.\n",
    "* **Ausgabeformatierung:** Funktionen können Ausgaben auf eine bestimmte Weise formatieren und präsentieren."
   ]
  },
  {
   "cell_type": "markdown",
   "metadata": {},
   "source": [
    "## Scope (Gültigkeitsbereich) in Python: Wo Variablen leben und wie lange\n",
    "\n",
    "Der Scope in Python beschreibt den Bereich in deinem Code, in dem eine Variable sichtbar und zugänglich ist. Das Verständnis des Scopes ist entscheidend, um Fehler zu vermeiden und sauberen Code zu schreiben.\n",
    "\n",
    "### Die LEGB-Regel\n",
    "\n",
    "Python folgt der LEGB-Regel, um den Scope einer Variable zu bestimmen:\n",
    "\n",
    "* **L**okal (Local): Innerhalb einer Funktion definierte Variablen sind nur innerhalb dieser Funktion sichtbar.\n",
    "* **E**inschließend (Enclosing): In verschachtelten Funktionen sind Variablen aus der äußeren Funktion in der inneren Funktion sichtbar, aber nicht umgekehrt.\n",
    "* **G**lobal (Global): Außerhalb von Funktionen definierte Variablen sind im gesamten Modul sichtbar.\n",
    "* **B**uilt-in (Eingebaut): Eingebaute Namen wie `print` oder `len` sind immer verfügbar.\n",
    "\n",
    "### Beispiel\n",
    "\n",
    "```python\n",
    "x = 10  # Globale Variable\n",
    "\n",
    "def meine_funktion():\n",
    "    y = 5  # Lokale Variable\n",
    "    print(x)  # Zugriff auf die globale Variable\n",
    "    print(y)  # Zugriff auf die lokale Variable\n",
    "\n",
    "meine_funktion()\n",
    "print(x)  # Zugriff auf die globale Variable\n",
    "# print(y)  # Würde einen Fehler verursachen, da y außerhalb der Funktion nicht sichtbar ist\n",
    "```\n",
    "\n",
    "### Wichtige Punkte\n",
    "\n",
    "* **Namenskonflikte:** Wenn eine lokale Variable denselben Namen wie eine globale Variable hat, wird innerhalb der Funktion die lokale Variable verwendet.\n",
    "* **Ändern globaler Variablen:** Um eine globale Variable innerhalb einer Funktion zu ändern, musst du sie mit dem Schlüsselwort `global` deklarieren.\n",
    "* **Verschachtelte Funktionen:** In verschachtelten Funktionen kannst du mit dem Schlüsselwort `nonlocal` auf Variablen aus der einschließenden Funktion zugreifen und sie ändern.\n",
    "* **Lebensdauer von Variablen:** Lokale Variablen existieren nur so lange, wie die Funktion ausgeführt wird. Globale Variablen existieren während der gesamten Laufzeit des Moduls.\n",
    "\n",
    "### Best Practices\n",
    "\n",
    "* **Vermeide globale Variablen:** Globale Variablen können deinen Code unübersichtlich und fehleranfällig machen. Verwende sie sparsam und nur wenn unbedingt nötig.\n",
    "* **Nutze aussagekräftige Namen:** Wähle beschreibende Namen für deine Variablen, um Verwechslungen zu vermeiden.\n",
    "* **Begrenze den Scope:** Definiere Variablen so nah wie möglich an der Stelle, an der sie verwendet werden, um ihren Scope einzuschränken und die Lesbarkeit zu verbessern.\n",
    "\n",
    "**Das Verständnis des Scopes ist entscheidend, um Fehler zu vermeiden und deinen Python-Code sauber und wartbar zu halten. Indem du die LEGB-Regel befolgst und Best Practices anwendest, kannst du sicherstellen, dass deine Variablen dort verfügbar sind, wo du sie brauchst, und dass dein Code leicht verständlich ist.** \n"
   ]
  }
 ],
 "metadata": {
  "kernelspec": {
   "display_name": "venv",
   "language": "python",
   "name": "python3"
  },
  "language_info": {
   "codemirror_mode": {
    "name": "ipython",
    "version": 3
   },
   "file_extension": ".py",
   "mimetype": "text/x-python",
   "name": "python",
   "nbconvert_exporter": "python",
   "pygments_lexer": "ipython3",
   "version": "3.11.8"
  }
 },
 "nbformat": 4,
 "nbformat_minor": 2
}

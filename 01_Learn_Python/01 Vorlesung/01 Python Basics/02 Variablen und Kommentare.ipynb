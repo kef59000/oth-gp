{
 "cells": [
  {
   "cell_type": "markdown",
   "metadata": {},
   "source": [
    "# Learning by Doing: Python Basics"
   ]
  },
  {
   "cell_type": "markdown",
   "metadata": {},
   "source": [
    "## Lösungsvorschläge"
   ]
  },
  {
   "cell_type": "markdown",
   "metadata": {},
   "source": [
    "### Vorschlag 2: Variablen und Kommentare"
   ]
  },
  {
   "cell_type": "code",
   "execution_count": 1,
   "metadata": {},
   "outputs": [
    {
     "name": "stdout",
     "output_type": "stream",
     "text": [
      "1.19\n",
      "Bei Mwst. = 1.19: Netto 1 wird zu Brutto: 1.19.\n",
      "Bei Mwst. = 1.19: Netto 2 wird zu Brutto: 2.38.\n",
      "Bei Mwst. = 1.19: Netto 3 wird zu Brutto: 3.57.\n",
      "================== Mwst. hat sich geändert. ==================\n",
      "1.07\n",
      "Bei Mwst. = 1.07: Netto 1 wird zu Brutto: 1.07.\n",
      "Bei Mwst. = 1.07: Netto 2 wird zu Brutto: 2.14.\n",
      "Bei Mwst. = 1.07: Netto 3 wird zu Brutto: 3.21.\n"
     ]
    }
   ],
   "source": [
    "# Die Mwst. wurde festgelegt auf 19%\n",
    "mwst = 1.19\n",
    "print(mwst)\n",
    "\n",
    "print(f\"Bei Mwst. = {mwst}: Netto {1} wird zu Brutto: {1 * mwst}.\")\n",
    "print(f\"Bei Mwst. = {mwst}: Netto {2} wird zu Brutto: {2 * mwst}.\")\n",
    "print(f\"Bei Mwst. = {mwst}: Netto {3} wird zu Brutto: {3 * mwst}.\")\n",
    "\n",
    "print(f\"================== Mwst. hat sich geändert. ==================\")\n",
    "\n",
    "# Die Mehrwertsteuer ändert sich\n",
    "mwst = 1.07\n",
    "print(mwst)\n",
    "\n",
    "print(f\"Bei Mwst. = {mwst}: Netto {1} wird zu Brutto: {1 * mwst}.\")\n",
    "print(f\"Bei Mwst. = {mwst}: Netto {2} wird zu Brutto: {2 * mwst}.\")\n",
    "print(f\"Bei Mwst. = {mwst}: Netto {3} wird zu Brutto: {3 * mwst}.\")"
   ]
  },
  {
   "cell_type": "markdown",
   "metadata": {},
   "source": [
    "#### Takeaways: Variablen in Python\n",
    "Variablen in Python sind wie benannte Behälter, in denen man Daten speichern kann. Sie ermöglichen es, Informationen während eines Programms zu speichern, zu verändern und wiederzuverwenden.\n",
    "\n",
    "**Grundlagen:**\n",
    "\n",
    "* **Deklaration:** In Python deklariert man eine Variable, indem man ihr einen Namen gibt und ihr einen Wert zuweist (z.B. `meine_variable = 5`).\n",
    "* **Datentypen:** Variablen können verschiedene Arten von Daten speichern, wie Zahlen (ganze Zahlen oder Fließkommazahlen), Text (Strings), Wahrheitswerte (Booleans) und komplexere Strukturen wie Listen oder Dictionaries.\n",
    "* **Namensgebung:** Variablennamen sollten beschreibend sein und mit einem Buchstaben oder Unterstrich beginnen. Sie können Buchstaben, Zahlen und Unterstriche enthalten, aber keine Leerzeichen oder Sonderzeichen.\n",
    "* **Veränderbarkeit:** Man kann den Wert einer Variable jederzeit ändern, indem man ihr einen neuen Wert zuweist.\n",
    "* **Geltungsbereich:** Variablen haben einen bestimmten Geltungsbereich, der bestimmt, wo im Programm auf sie zugegriffen werden kann.\n",
    "\n",
    "**Verwendung:**\n",
    "\n",
    "* **Speichern von Daten:** Variablen ermöglichen es, Daten zu speichern, die später im Programm wiederverwendet werden sollen, z.B. Benutzereingaben, Ergebnisse von Berechnungen oder Zwischenergebnisse.\n",
    "* **Verändern von Daten:** Man kann den Wert einer Variable während des Programms ändern, um Berechnungen durchzuführen, Bedingungen zu prüfen oder den Programmfluss zu steuern.\n",
    "* **Wiederverwendung von Daten:** Durch die Verwendung von Variablen kann man Code schreiben, der flexibler und wiederverwendbarer ist, da man den Wert der Variablen ändern kann, ohne den gesamten Code umschreiben zu müssen.\n",
    "\n",
    "**Fazit:**\n",
    "\n",
    "Variablen sind ein grundlegendes Konzept in Python und in fast jedem Programm unerlässlich. Sie machen den Code lesbarer, flexibler und einfacher zu warten. Indem man Variablen sinnvoll einsetzt, kann man Daten effizient verwalten und komplexe Programme erstellen.\n",
    "\n",
    "\n",
    "In Python gibt es eine Vielzahl von Datentypen, die man in Variablen speichern kann. Hier sind einige der wichtigsten:\n",
    "\n",
    "**Grundlegende Datentypen:**\n",
    "\n",
    "* **`int` (Integer):** Ganze Zahlen ohne Nachkommastellen (z.B. `5`, `-10`, `1000`).\n",
    "* **`float` (Floating-Point):** Zahlen mit Nachkommastellen (z.B. `3.14`, `-0.5`, `1e6` (wissenschaftliche Notation für 1 Million)).\n",
    "* **`str` (String):** Text, eingeschlossen in einfache oder doppelte Anführungszeichen (z.B. `\"Hallo Welt!\"`, `'Python ist toll'`).\n",
    "* **`bool` (Boolean):** Wahrheitswerte, die entweder `True` oder `False` sein können. Werden oft für Bedingungen und Entscheidungen verwendet.\n",
    "\n",
    "**Sammlungsdatentypen (Container):**\n",
    "\n",
    "* **`list`:** Eine geordnete Sammlung von Elementen, die verändert werden kann (mutable). Elemente können verschiedene Datentypen haben (z.B. `[1, 2, 3]`, `[\"Apfel\", \"Banane\", \"Orange\"]`).\n",
    "* **`tuple`:** Eine geordnete Sammlung von Elementen, die nach der Erstellung nicht mehr verändert werden kann (immutable). Ähnlich wie Listen, aber unveränderlich (z.B. `(1, 2, 3)`, `(\"rot\", \"grün\", \"blau\")`).\n",
    "* **`dict` (Dictionary):** Eine ungeordnete Sammlung von Schlüssel-Wert-Paaren. Jeder Schlüssel ist einzigartig und wird verwendet, um auf den zugehörigen Wert zuzugreifen (z.B. `{\"name\": \"Max\", \"age\": 30}`).\n",
    "* **`set`:** Eine ungeordnete Sammlung von eindeutigen Elementen. Kann verwendet werden, um Duplikate zu entfernen oder Zugehörigkeiten zu prüfen (z.B. `{1, 2, 3}`, `{\"Apfel\", \"Banane\"}`).\n",
    "\n",
    "**Weitere Datentypen:**\n",
    "\n",
    "* **`complex`:** Komplexe Zahlen, bestehend aus einem Real- und einem Imaginärteil (z.B. `2 + 3j`).\n",
    "* **`None`:** Ein spezieller Datentyp, der das Fehlen eines Wertes repräsentiert.\n",
    "\n",
    "**Dynamische Typisierung:**\n",
    "\n",
    "* In Python muss man den Datentyp einer Variable nicht explizit angeben. Python erkennt den Typ automatisch basierend auf dem zugewiesenen Wert.\n",
    "* Das macht Python flexibel, kann aber auch zu Fehlern führen, wenn man nicht aufpasst. Es ist immer eine gute Idee, sich bewusst zu sein, welchen Datentyp die Variablen haben.\n",
    "\n",
    "**Beispiel:**\n",
    "\n",
    "```python\n",
    "zahl = 42        # int\n",
    "pi = 3.14159     # float\n",
    "name = \"Alice\"    # str\n",
    "ist_wahr = True   # bool\n",
    "farben = [\"rot\", \"grün\", \"blau\"]  # list\n",
    "tage = (\"Montag\", \"Dienstag\", \"Mittwoch\") # tuple\n",
    "person = {\"name\": \"Bob\", \"alter\": 25}   # dict\n",
    "zahlen = {1, 2, 3, 3}  # set (Duplikate werden entfernt)\n",
    "```\n",
    "\n",
    "#### Takeaways: Kommentare\n",
    "\n",
    "Kommentare in Python dienen dazu, den Code verständlicher und leichter wartbar zu machen. Sie werden vom Python-Interpreter ignoriert und haben keinen Einfluss auf die Ausführung deines Programms. \n",
    "\n",
    "**Hier sind die wichtigsten Gründe, warum Kommentare nützlich sind:**\n",
    "\n",
    "* **Erklärungen:** Kommentare können verwendet werden, um zu erklären, was ein bestimmter Codeabschnitt macht oder warum er auf eine bestimmte Weise geschrieben wurde. Das ist besonders hilfreich, wenn der Code komplex oder nicht selbsterklärend ist.\n",
    "* **Dokumentation:** Kommentare können als eine Art Dokumentation für den Code dienen, die anderen Entwicklern (oder dir selbst in der Zukunft) hilft, deinen Code zu verstehen und zu verwenden.\n",
    "* **Debugging:** Kommentare können verwendet werden, um Codeabschnitte vorübergehend zu deaktivieren, um Fehler zu finden oder verschiedene Teile deines Codes zu testen, ohne sie vollständig löschen zu müssen.\n",
    "* **Organisation:** Kommentare können dazu beitragen, deinen Code zu strukturieren und übersichtlicher zu gestalten, indem sie verschiedene Abschnitte oder Funktionen voneinander trennen.\n",
    "\n",
    "**Wie schreibt man Kommentare in Python?**\n",
    "\n",
    "* **Einzeilige Kommentare:** Beginnen mit einem `#`-Symbol. Alles, was nach dem `#` in derselben Zeile steht, wird als Kommentar betrachtet.\n",
    "* **Mehrzeilige Kommentare:** Werden durch drei doppelte Anführungszeichen (`\"\"\"`) am Anfang und am Ende des Kommentarblocks gekennzeichnet.\n",
    "\n",
    "**Beispiel:**\n",
    "\n",
    "```python\n",
    "# Dies ist ein einzeiliger Kommentar\n",
    "\n",
    "\"\"\"\n",
    "Dies ist ein \n",
    "mehrzeiliger Kommentar.\n",
    "Er kann mehrere Zeilen umfassen.\n",
    "\"\"\"\n",
    "\n",
    "def meine_funktion(x, y):\n",
    "    \"\"\"\n",
    "    Diese Funktion berechnet die Summe von x und y.\n",
    "    \"\"\"\n",
    "    return x + y\n",
    "\n",
    "ergebnis = meine_funktion(5, 3)  # Rufe die Funktion auf und speichere das Ergebnis\n",
    "print(ergebnis)\n",
    "```\n",
    "\n",
    "**Tipps:**\n",
    "\n",
    "* Schreibe klare und prägnante Kommentare, die den Code sinnvoll ergänzen.\n",
    "* Vermeide es, offensichtliche Dinge zu kommentieren.\n",
    "* Aktualisiere deine Kommentare, wenn du deinen Code änderst.\n",
    "* Verwende Kommentare, um deinen Code für dich und andere verständlicher zu machen. \n",
    "\n",
    "**Kurz gesagt:** Kommentare sind ein unverzichtbares Werkzeug für jeden Python-Programmierer, um Code lesbarer, wartbarer und verständlicher zu machen. \n"
   ]
  }
 ],
 "metadata": {
  "kernelspec": {
   "display_name": "venv",
   "language": "python",
   "name": "python3"
  },
  "language_info": {
   "codemirror_mode": {
    "name": "ipython",
    "version": 3
   },
   "file_extension": ".py",
   "mimetype": "text/x-python",
   "name": "python",
   "nbconvert_exporter": "python",
   "pygments_lexer": "ipython3",
   "version": "3.11.8"
  }
 },
 "nbformat": 4,
 "nbformat_minor": 2
}

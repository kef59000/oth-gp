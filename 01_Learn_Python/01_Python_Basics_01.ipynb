{
 "cells": [
  {
   "cell_type": "markdown",
   "metadata": {},
   "source": [
    "# Learning by Doing: Python Basics"
   ]
  },
  {
   "cell_type": "markdown",
   "metadata": {},
   "source": [
    "## Aufgabe\n",
    "1. Schreiben Sie einen Python-Programm-Code, der Nettopreise mit 1,19 multipliziert, um daraus Bruttopreise zu berechnen.\n",
    "2. Machen Sie mehrere Lösungsvorschläge.\n",
    "\n",
    "## Lösungsvorschläge\n",
    "### Vorschlag 1: print()"
   ]
  },
  {
   "cell_type": "code",
   "execution_count": null,
   "metadata": {},
   "outputs": [],
   "source": [
    "print(1 * 1.19)\n",
    "print(2 * 1.19)\n",
    "print(3 * 1.19)"
   ]
  },
  {
   "cell_type": "markdown",
   "metadata": {},
   "source": [
    "#### Takeaways\n",
    "- `print` ist ein Werkzeug, um in Python Informationen auf dem Bildschirm anzuzeigen und mit dem Benutzer zu interagieren.\n"
   ]
  },
  {
   "cell_type": "markdown",
   "metadata": {},
   "source": [
    "### Vorschlag 2: Variablen"
   ]
  },
  {
   "cell_type": "code",
   "execution_count": 5,
   "metadata": {},
   "outputs": [
    {
     "name": "stdout",
     "output_type": "stream",
     "text": [
      "Bei Mwst. = 1.19: Netto 1 wird zu Brutto: 1.19.\n",
      "Bei Mwst. = 1.19: Netto 2 wird zu Brutto: 2.38.\n",
      "Bei Mwst. = 1.19: Netto 3 wird zu Brutto: 3.57.\n",
      "================== Mwst. hat sich geändert. ==================\n",
      "Bei Mwst. = 1.07: Netto 1 wird zu Brutto: 1.07.\n",
      "Bei Mwst. = 1.07: Netto 2 wird zu Brutto: 2.14.\n",
      "Bei Mwst. = 1.07: Netto 3 wird zu Brutto: 3.21.\n"
     ]
    }
   ],
   "source": [
    "mwst = 1.19\n",
    "print(f\"Bei Mwst. = {mwst}: Netto {1} wird zu Brutto: {1 * mwst}.\")\n",
    "print(f\"Bei Mwst. = {mwst}: Netto {2} wird zu Brutto: {2 * mwst}.\")\n",
    "print(f\"Bei Mwst. = {mwst}: Netto {3} wird zu Brutto: {3 * mwst}.\")\n",
    "\n",
    "print(f\"================== Mwst. hat sich geändert. ==================\")\n",
    "\n",
    "mwst = 1.07\n",
    "print(f\"Bei Mwst. = {mwst}: Netto {1} wird zu Brutto: {1 * mwst}.\")\n",
    "print(f\"Bei Mwst. = {mwst}: Netto {2} wird zu Brutto: {2 * mwst}.\")\n",
    "print(f\"Bei Mwst. = {mwst}: Netto {3} wird zu Brutto: {3 * mwst}.\")"
   ]
  }
 ],
 "metadata": {
  "kernelspec": {
   "display_name": "venv",
   "language": "python",
   "name": "python3"
  },
  "language_info": {
   "codemirror_mode": {
    "name": "ipython",
    "version": 3
   },
   "file_extension": ".py",
   "mimetype": "text/x-python",
   "name": "python",
   "nbconvert_exporter": "python",
   "pygments_lexer": "ipython3",
   "version": "3.11.8"
  }
 },
 "nbformat": 4,
 "nbformat_minor": 2
}

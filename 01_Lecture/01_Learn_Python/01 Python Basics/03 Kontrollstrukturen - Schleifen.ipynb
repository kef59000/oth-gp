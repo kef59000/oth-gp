{
 "cells": [
  {
   "cell_type": "markdown",
   "metadata": {},
   "source": [
    "# Learning by Doing: Python Basics"
   ]
  },
  {
   "cell_type": "markdown",
   "metadata": {},
   "source": [
    "## Lösungsvorschläge"
   ]
  },
  {
   "cell_type": "markdown",
   "metadata": {},
   "source": [
    "### Vorschlag 3: Kontrollstrukturen I (Schleifen)"
   ]
  },
  {
   "cell_type": "code",
   "execution_count": 3,
   "metadata": {},
   "outputs": [
    {
     "name": "stdout",
     "output_type": "stream",
     "text": [
      "Bei Mwst. = 1.19: Netto 1 wird zu Brutto: 1.19.\n",
      "Bei Mwst. = 1.19: Netto 2 wird zu Brutto: 2.38.\n",
      "Bei Mwst. = 1.19: Netto 3 wird zu Brutto: 3.57.\n",
      "================== Mwst. hat sich geändert. ==================\n",
      "Bei Mwst. = 1.07: Netto 2 wird zu Brutto: 2.14.\n",
      "Bei Mwst. = 1.07: Netto 3 wird zu Brutto: 3.21.\n",
      "Bei Mwst. = 1.07: Netto 4 wird zu Brutto: 4.28.\n"
     ]
    }
   ],
   "source": [
    "# Die Mwst. wurde festgelegt auf 19%\n",
    "mwst = 1.19\n",
    "\n",
    "for i in range(3):\n",
    "    print(f\"Bei Mwst. = {mwst}: Netto {i+1} wird zu Brutto: {(i+1) * mwst}.\")\n",
    "\n",
    "print(f\"================== Mwst. hat sich geändert. ==================\")\n",
    "\n",
    "# Die Mehrwertsteuer ändert sich\n",
    "mwst = 1.07\n",
    "i = 1\n",
    "while i < 4:\n",
    "  print(f\"Bei Mwst. = {mwst}: Netto {i} wird zu Brutto: {(i) * mwst}.\")\n",
    "  i += 1"
   ]
  },
  {
   "cell_type": "markdown",
   "metadata": {},
   "source": [
    "#### Takeaways: Schleifen\n",
    "Schleifen sind ein grundlegendes Konzept in der Programmierung, das es dir ermöglicht, Codeabschnitte wiederholt auszuführen. In Python gibt es zwei Haupttypen von Schleifen: die `for`-Schleife und die `while`-Schleife.\n",
    "\n",
    "**`for`-Schleifen:**\n",
    "\n",
    "* Werden verwendet, um über eine Sequenz von Elementen zu iterieren (z. B. eine Liste, ein Tupel oder ein String).\n",
    "* Der Codeblock innerhalb der Schleife wird für jedes Element in der Sequenz einmal ausgeführt.\n",
    "\n",
    "**Beispiel:**\n",
    "\n",
    "```python\n",
    "fruechte = [\"Apfel\", \"Banane\", \"Orange\"]\n",
    "\n",
    "for frucht in fruechte:\n",
    "    print(frucht)\n",
    "```\n",
    "\n",
    "**Ausgabe:**\n",
    "\n",
    "```\n",
    "Apfel\n",
    "Banane\n",
    "Orange\n",
    "```\n",
    "\n",
    "**`while`-Schleifen:**\n",
    "\n",
    "* Werden verwendet, um einen Codeblock wiederholt auszuführen, solange eine bestimmte Bedingung erfüllt ist.\n",
    "* Die Bedingung wird vor jedem Durchlauf der Schleife überprüft.\n",
    "\n",
    "**Beispiel:**\n",
    "\n",
    "```python\n",
    "zaehler = 0\n",
    "\n",
    "while zaehler < 5:\n",
    "    print(zaehler)\n",
    "    zaehler += 1 \n",
    "```\n",
    "\n",
    "**Ausgabe:**\n",
    "\n",
    "```\n",
    "0\n",
    "1\n",
    "2\n",
    "3\n",
    "4\n",
    "```\n",
    "\n",
    "**Wichtige Konzepte:**\n",
    "\n",
    "* **Schleifenvariable:** In einer `for`-Schleife speichert die Schleifenvariable das aktuelle Element der Sequenz. In einer `while`-Schleife wird oft eine Variable verwendet, um den Zustand der Schleife zu verfolgen und zu steuern.\n",
    "* **Schleifenkörper:** Der eingerückte Codeblock unter der Schleifenanweisung, der bei jedem Durchlauf der Schleife ausgeführt wird.\n",
    "* **Endlosschleifen:** Achte darauf, dass die Bedingung in einer `while`-Schleife irgendwann `False` wird, sonst läuft die Schleife endlos weiter.\n",
    "* **`break` und `continue`:** Diese Schlüsselwörter können verwendet werden, um den Ablauf einer Schleife zu steuern. `break` beendet die Schleife sofort, `continue` springt zum nächsten Durchlauf.\n",
    "\n",
    "**Schleifen sind ein mächtiges Werkzeug, um repetitive Aufgaben zu automatisieren und effizienten Code zu schreiben. Experimentiere mit beiden Schleifentypen und lerne, wie du sie in deinen eigenen Programmen einsetzen kannst!**\n",
    "\n",
    "**Wenn du Fragen zu einem bestimmten Aspekt von Schleifen hast oder Hilfe bei der Umsetzung in deinem Code benötigst, frag einfach nach!** \n"
   ]
  }
 ],
 "metadata": {
  "kernelspec": {
   "display_name": "venv",
   "language": "python",
   "name": "python3"
  },
  "language_info": {
   "codemirror_mode": {
    "name": "ipython",
    "version": 3
   },
   "file_extension": ".py",
   "mimetype": "text/x-python",
   "name": "python",
   "nbconvert_exporter": "python",
   "pygments_lexer": "ipython3",
   "version": "3.11.8"
  }
 },
 "nbformat": 4,
 "nbformat_minor": 2
}

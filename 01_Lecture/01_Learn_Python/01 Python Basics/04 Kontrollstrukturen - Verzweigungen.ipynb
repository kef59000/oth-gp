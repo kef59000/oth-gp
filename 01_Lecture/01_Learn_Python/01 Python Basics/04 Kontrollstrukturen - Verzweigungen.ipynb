{
 "cells": [
  {
   "cell_type": "markdown",
   "metadata": {},
   "source": [
    "# Learning by Doing: Python Basics"
   ]
  },
  {
   "cell_type": "markdown",
   "metadata": {},
   "source": [
    "## Lösungsvorschläge"
   ]
  },
  {
   "cell_type": "markdown",
   "metadata": {},
   "source": [
    "### Vorschlag 4: Kontrollstrukturen II (Verzweigungen)"
   ]
  },
  {
   "cell_type": "code",
   "execution_count": 12,
   "metadata": {},
   "outputs": [
    {
     "name": "stdout",
     "output_type": "stream",
     "text": [
      "Bei Mwst. = 1.07: Netto 1 wird zu Brutto: 1.07.\n",
      "Bei Mwst. = 1.07: Netto 2 wird zu Brutto: 2.14.\n",
      "Bei Mwst. = 1.07: Netto 3 wird zu Brutto: 3.21.\n"
     ]
    }
   ],
   "source": [
    "mwst = 1.07\n",
    "\n",
    "if (mwst != 1.19) and (mwst != 1.07):\n",
    "      print(\"Bitte gültigen Wert eingeben (1.19 oder 1.07)\")\n",
    "else:\n",
    "     for i in range(3):\n",
    "        # Berechne die Brutto-Preise\n",
    "        print(f\"Bei Mwst. = {mwst}: Netto {i+1} wird zu Brutto: {(i+1) * mwst}.\")"
   ]
  },
  {
   "cell_type": "markdown",
   "metadata": {},
   "source": [
    "#### Takeaways: `if-else`\n",
    "\n",
    "`if-else`-Anweisungen sind Kontrollstrukturen, die es dir ermöglichen, Entscheidungen in deinem Code zu treffen. Sie funktionieren wie folgt:\n",
    "\n",
    "* **`if` Bedingung:** Eine Bedingung wird überprüft. Wenn sie `True` ist (also wahr), wird der Codeblock innerhalb des `if`-Zweigs ausgeführt.\n",
    "* **`else` (optional):** Wenn die Bedingung im `if`-Zweig `False` ist (also falsch), und du einen `else`-Zweig hast, wird der Code innerhalb des `else`-Zweigs ausgeführt.\n",
    "\n",
    "**Grundlegende Syntax**\n",
    "\n",
    "```python\n",
    "if bedingung:\n",
    "    # Code, der ausgeführt wird, wenn die Bedingung True ist\n",
    "else:\n",
    "    # Code, der ausgeführt wird, wenn die Bedingung False ist\n",
    "```\n",
    "\n",
    "**Beispiel**\n",
    "\n",
    "```python\n",
    "zahl = 10\n",
    "\n",
    "if zahl > 5:\n",
    "    print(\"Die Zahl ist größer als 5\")\n",
    "else:\n",
    "    print(\"Die Zahl ist kleiner oder gleich 5\")\n",
    "```\n",
    "\n",
    "In diesem Beispiel wird \"Die Zahl ist größer als 5\" ausgegeben, da die Bedingung `zahl > 5` wahr ist.\n",
    "\n",
    "**Erweiterte Verwendung: `elif`**\n",
    "\n",
    "Wenn du mehrere Bedingungen überprüfen möchtest, kannst du `elif` (else if) verwenden.\n",
    "\n",
    "```python\n",
    "note = 3\n",
    "\n",
    "if note == 1:\n",
    "    print(\"Sehr gut\")\n",
    "elif note == 2:\n",
    "    print(\"Gut\")\n",
    "elif note == 3:\n",
    "    print(\"Befriedigend\")\n",
    "else:\n",
    "    print(\"Nicht bestanden\")\n",
    "```\n",
    "\n",
    "Hier wird \"Befriedigend\" ausgegeben, da die Bedingung `note == 3` wahr ist.\n",
    "\n",
    "**Wichtige Punkte**\n",
    "\n",
    "* **Einrückung:** Achte auf die korrekte Einrückung in Python. Der Code innerhalb der `if`, `elif` und `else`-Zweige muss eingerückt sein, um anzuzeigen, dass er zu diesem Zweig gehört.\n",
    "* **Vergleichsoperatoren:** Verwende Vergleichsoperatoren wie `>`, `<`, `==`, `!=`, `>=`, `<=`, um Bedingungen zu formulieren.\n",
    "* **Logische Operatoren:** Kombiniere Bedingungen mit `and`, `or` und `not`.\n",
    "* **Verschachtelung:** Du kannst `if-else`-Anweisungen auch ineinander verschachteln, um komplexere Entscheidungen zu treffen."
   ]
  }
 ],
 "metadata": {
  "kernelspec": {
   "display_name": "venv",
   "language": "python",
   "name": "python3"
  },
  "language_info": {
   "codemirror_mode": {
    "name": "ipython",
    "version": 3
   },
   "file_extension": ".py",
   "mimetype": "text/x-python",
   "name": "python",
   "nbconvert_exporter": "python",
   "pygments_lexer": "ipython3",
   "version": "3.11.8"
  }
 },
 "nbformat": 4,
 "nbformat_minor": 2
}

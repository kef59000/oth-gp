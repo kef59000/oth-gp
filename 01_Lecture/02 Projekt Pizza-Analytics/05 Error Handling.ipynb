{
 "cells": [
  {
   "cell_type": "markdown",
   "metadata": {},
   "source": [
    "# Learning by Doing: Python Basics"
   ]
  },
  {
   "cell_type": "markdown",
   "metadata": {},
   "source": [
    "## Lösungsvorschläge"
   ]
  },
  {
   "cell_type": "markdown",
   "metadata": {},
   "source": [
    "### Vorschlag 5: Error Handling"
   ]
  },
  {
   "cell_type": "code",
   "execution_count": 4,
   "metadata": {},
   "outputs": [
    {
     "ename": "NameError",
     "evalue": "name 'a' is not defined",
     "output_type": "error",
     "traceback": [
      "\u001b[1;31m---------------------------------------------------------------------------\u001b[0m",
      "\u001b[1;31mNameError\u001b[0m                                 Traceback (most recent call last)",
      "Cell \u001b[1;32mIn[4], line 1\u001b[0m\n\u001b[1;32m----> 1\u001b[0m mwst \u001b[38;5;241m=\u001b[39m \u001b[43ma\u001b[49m\n\u001b[0;32m      3\u001b[0m \u001b[38;5;28;01mtry\u001b[39;00m:\n\u001b[0;32m      4\u001b[0m     \u001b[38;5;28;01mfor\u001b[39;00m i \u001b[38;5;129;01min\u001b[39;00m \u001b[38;5;28mrange\u001b[39m(\u001b[38;5;241m3\u001b[39m):\n\u001b[0;32m      5\u001b[0m         \u001b[38;5;66;03m# Berechne die Brutto-Preise\u001b[39;00m\n",
      "\u001b[1;31mNameError\u001b[0m: name 'a' is not defined"
     ]
    }
   ],
   "source": [
    "mwst = a\n",
    "\n",
    "try:\n",
    "    for i in range(3):\n",
    "        # Berechne die Brutto-Preise\n",
    "        print(f\"Bei Mwst. = {mwst}: Netto {i+1} wird zu Brutto: {(i+1) * mwst}.\")\n",
    "except:\n",
    "    print(\"Fehlerhafte Mwst!\")\n",
    "else:\n",
    "    print(\"Berechnung erfolgreich!\")\n",
    "finally:\n",
    "    print(\"Programm abgeschlossen.\")  # Datei schließen, auch wenn ein Fehler auftritt"
   ]
  },
  {
   "cell_type": "markdown",
   "metadata": {},
   "source": [
    "#### Takeaways: Fehlerbehandlung (Error Handling) in Python: Robusteren Code schreiben\n",
    "\n",
    "Fehlerbehandlung ist ein essenzieller Bestandteil jedes Python-Programms. Sie stellt sicher, dass dein Code auch dann noch weiterläuft, wenn unerwartete Situationen auftreten. \n",
    "\n",
    "**Warum ist Fehlerbehandlung wichtig?**\n",
    "\n",
    "* **Stabilität:** Dein Programm stürzt nicht ab, wenn ein Fehler auftritt.\n",
    "* **Benutzerfreundlichkeit:** Du kannst dem Benutzer eine aussagekräftige Fehlermeldung anzeigen, anstatt ihn mit einem kryptischen Fehlercode zu verwirren.\n",
    "* **Kontrolle:** Du kannst entscheiden, wie dein Programm auf verschiedene Fehler reagieren soll (z.B. Wiederholung eines Vorgangs, Protokollierung des Fehlers, etc.).\n",
    "\n",
    "**Die `try-except`-Struktur**\n",
    "\n",
    "Die wichtigste Methode zur Fehlerbehandlung in Python ist die `try-except`-Struktur. Sie funktioniert so:\n",
    "\n",
    "```python\n",
    "try:\n",
    "    # Code, der möglicherweise einen Fehler verursachen könnte\n",
    "except Fehlertyp:\n",
    "    # Code, der ausgeführt wird, wenn ein Fehler des angegebenen Typs auftritt\n",
    "```\n",
    "\n",
    "**Beispiel:**\n",
    "\n",
    "```python\n",
    "try:\n",
    "    zahl = int(input(\"Gib eine Zahl ein: \"))\n",
    "    ergebnis = 10 / zahl\n",
    "    print(\"Das Ergebnis ist:\", ergebnis)\n",
    "except ValueError:\n",
    "    print(\"Ungültige Eingabe! Bitte gib eine Zahl ein.\")\n",
    "except ZeroDivisionError:\n",
    "    print(\"Division durch Null nicht erlaubt!\")\n",
    "```\n",
    "\n",
    "In diesem Beispiel versuchen wir, eine Zahl durch eine Benutzereingabe zu teilen. Die `try-except`-Struktur fängt mögliche Fehler ab:\n",
    "\n",
    "* `ValueError`: Wenn der Benutzer keine gültige Zahl eingibt.\n",
    "* `ZeroDivisionError`: Wenn der Benutzer 0 eingibt.\n",
    "\n",
    "**Weitere wichtige Elemente:**\n",
    "\n",
    "* `else`: Ein optionaler Block, der ausgeführt wird, wenn **kein** Fehler im `try`-Block auftritt.\n",
    "* `finally`: Ein optionaler Block, der **immer** ausgeführt wird, egal ob ein Fehler aufgetreten ist oder nicht. Oft verwendet, um Ressourcen freizugeben (z.B. Dateien zu schließen).\n",
    "\n",
    "**Beispiel mit `else` und `finally`:**\n",
    "\n",
    "```python\n",
    "try:\n",
    "    datei = open(\"meine_datei.txt\", \"r\")\n",
    "    inhalt = datei.read()\n",
    "except FileNotFoundError:\n",
    "    print(\"Datei nicht gefunden!\")\n",
    "else:\n",
    "    print(inhalt)\n",
    "finally:\n",
    "    datei.close()  # Datei schließen, auch wenn ein Fehler auftritt\n",
    "```\n",
    "\n",
    "**Tipps:**\n",
    "\n",
    "* **Spezifische Fehler abfangen:** Fange möglichst spezifische Fehlertypen ab, um gezielt darauf reagieren zu können.\n",
    "* **Nicht alle Fehler abfangen:** Vermeide es, `except Exception:` zu verwenden, da dies alle Fehler abfangen würde, auch solche, die du vielleicht nicht behandeln möchtest.\n",
    "* **Aussagekräftige Fehlermeldungen:** Gib dem Benutzer klare und hilfreiche Fehlermeldungen.\n",
    "* **Protokollierung:** In größeren Projekten kann es sinnvoll sein, Fehler in einer Logdatei zu protokollieren, um sie später analysieren zu können.\n",
    "\n",
    "**Fehlerbehandlung ist ein wichtiger Schritt, um deinen Code robuster und benutzerfreundlicher zu machen. Integriere sie von Anfang an in deine Programme, um unerwartete Situationen elegant zu meistern!** \n"
   ]
  }
 ],
 "metadata": {
  "kernelspec": {
   "display_name": "venv",
   "language": "python",
   "name": "python3"
  },
  "language_info": {
   "codemirror_mode": {
    "name": "ipython",
    "version": 3
   },
   "file_extension": ".py",
   "mimetype": "text/x-python",
   "name": "python",
   "nbconvert_exporter": "python",
   "pygments_lexer": "ipython3",
   "version": "3.11.8"
  }
 },
 "nbformat": 4,
 "nbformat_minor": 2
}

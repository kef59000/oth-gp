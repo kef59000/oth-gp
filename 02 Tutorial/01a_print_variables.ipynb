{
 "cells": [
  {
   "cell_type": "markdown",
   "id": "cc369544",
   "metadata": {},
   "source": [
    "\n",
    "# Introduction to Python & Jupyter Notebooks\n",
    "\n",
    "Welcome to your first programming tutorial! In this session, you'll learn what Python is, how to use Jupyter Notebooks, and write your very first Python code.\n"
   ]
  },
  {
   "cell_type": "markdown",
   "id": "a1e8f54b",
   "metadata": {},
   "source": [
    "\n",
    "## What is Python?\n",
    "\n",
    "Python is a popular, beginner-friendly programming language. It's used for web development, data analysis, artificial intelligence, automation, and much more. Python code is easy to read and write, making it perfect for beginners.\n"
   ]
  },
  {
   "cell_type": "markdown",
   "id": "048459ac",
   "metadata": {},
   "source": [
    "\n",
    "## What is a Jupyter Notebook?\n",
    "\n",
    "A Jupyter Notebook is an interactive environment where you can write and run code in small sections called *cells*. You can also add text, images, and equations to explain your code.\n",
    "\n",
    "- **Code cells**: Where you write and run Python code.\n",
    "- **Markdown cells**: Where you write explanations, instructions, or notes (like this one).\n",
    "\n",
    "To run a code cell, click on it and press **Shift + Enter**.\n"
   ]
  },
  {
   "cell_type": "markdown",
   "id": "4da3ee08",
   "metadata": {},
   "source": [
    "\n",
    "## Your First Python Code\n",
    "Let's write your first Python program!\n"
   ]
  },
  {
   "cell_type": "code",
   "execution_count": null,
   "id": "e9c5cf6d",
   "metadata": {},
   "outputs": [],
   "source": [
    "\n",
    "# This is a comment. Comments are ignored by Python and are for humans to read.\n",
    "print(\"Hello, world!\")  # This line prints a message to the screen\n"
   ]
  },
  {
   "cell_type": "markdown",
   "id": "1da5f886",
   "metadata": {},
   "source": [
    "\n",
    "### Comments in Python\n",
    "\n",
    "Comments start with a `#` symbol. Python ignores everything after the `#` on that line. Use comments to explain what your code does.\n"
   ]
  },
  {
   "cell_type": "code",
   "execution_count": null,
   "id": "914b2087",
   "metadata": {},
   "outputs": [],
   "source": [
    "\n",
    "# This is a comment\n",
    "# The next line prints your name\n",
    "print(\"My name is ...\")\n"
   ]
  },
  {
   "cell_type": "markdown",
   "id": "89127074",
   "metadata": {},
   "source": [
    "\n",
    "## Exercises: Introduction to Python & Jupyter Notebooks\n",
    "\n",
    "1. Write a Python program that prints your favorite color.\n",
    "2. Write a Python program that prints two different messages, each on a new line.\n",
    "3. Add a comment above each print statement explaining what it does.\n"
   ]
  },
  {
   "cell_type": "markdown",
   "id": "5813ebe4",
   "metadata": {},
   "source": [
    "\n",
    "# Variables and Data Types\n",
    "\n",
    "In Python, variables are used to store information. You can think of a variable as a box with a name, where you can put data.\n"
   ]
  },
  {
   "cell_type": "markdown",
   "id": "b551588e",
   "metadata": {},
   "source": [
    "\n",
    "## Assigning Variables\n",
    "\n",
    "To create a variable, just choose a name and use the `=` sign:\n"
   ]
  },
  {
   "cell_type": "code",
   "execution_count": null,
   "id": "e9662519",
   "metadata": {},
   "outputs": [],
   "source": [
    "\n",
    "name = \"Alice\"\n",
    "age = 20\n",
    "height = 1.75\n",
    "is_student = True\n"
   ]
  },
  {
   "cell_type": "markdown",
   "id": "d5a00fd7",
   "metadata": {},
   "source": [
    "\n",
    "- `name` is a string (text)\n",
    "- `age` is an integer (whole number)\n",
    "- `height` is a float (decimal number)\n",
    "- `is_student` is a boolean (True or False)\n"
   ]
  },
  {
   "cell_type": "markdown",
   "id": "488b4583",
   "metadata": {},
   "source": [
    "\n",
    "## Variable Naming Rules\n",
    "- Variable names can contain letters, numbers, and underscores (_)\n",
    "- They cannot start with a number\n",
    "- They are case-sensitive (`Age` and `age` are different)\n",
    "- Avoid using Python keywords (like `print`, `for`, `if`)\n"
   ]
  },
  {
   "cell_type": "markdown",
   "id": "8d7388af",
   "metadata": {},
   "source": [
    "\n",
    "## Basic Data Types\n",
    "\n",
    "Python has several basic data types:\n",
    "- `int` for integers (e.g., 5, -3, 42)\n",
    "- `float` for decimal numbers (e.g., 3.14, -0.5)\n",
    "- `str` for strings (text, e.g., \"hello\")\n",
    "- `bool` for boolean values (`True` or `False`)\n"
   ]
  },
  {
   "cell_type": "code",
   "execution_count": null,
   "id": "6e8cb3f7",
   "metadata": {},
   "outputs": [],
   "source": [
    "\n",
    "# Examples of data types\n",
    "print(type(10))      # int\n",
    "print(type(3.14))    # float\n",
    "print(type(\"hello\")) # str\n",
    "print(type(False))   # bool\n"
   ]
  },
  {
   "cell_type": "markdown",
   "id": "8802a02f",
   "metadata": {},
   "source": [
    "\n",
    "## Type Checking\n",
    "\n",
    "You can check the type of a variable using the `type()` function:\n"
   ]
  },
  {
   "cell_type": "code",
   "execution_count": null,
   "id": "1b3b1792",
   "metadata": {},
   "outputs": [],
   "source": [
    "\n",
    "my_var = 42\n",
    "print(type(my_var))\n"
   ]
  },
  {
   "cell_type": "markdown",
   "id": "e17b92c3",
   "metadata": {},
   "source": [
    "\n",
    "## Exercises: Variables and Data Types\n",
    "\n",
    "1. Create a variable called `city` and assign it the name of your city.\n",
    "2. Create a variable called `temperature` and assign it a decimal value.\n",
    "3. Create a variable called `is_raining` and assign it a boolean value.\n",
    "4. Print the type of each variable using `type()`.\n"
   ]
  },
  {
   "cell_type": "markdown",
   "id": "4868fa60",
   "metadata": {},
   "source": [
    "\n",
    "# Simple Math with Python\n",
    "\n",
    "Python can be used as a calculator! You can add, subtract, multiply, and divide numbers easily.\n"
   ]
  },
  {
   "cell_type": "markdown",
   "id": "8a2846cb",
   "metadata": {},
   "source": [
    "\n",
    "## Addition\n",
    "You can use the `+` operator to add numbers:\n"
   ]
  },
  {
   "cell_type": "code",
   "execution_count": null,
   "id": "05dd4042",
   "metadata": {},
   "outputs": [],
   "source": [
    "\n",
    "result = 2 + 3\n",
    "print(result)  # Output: 5\n"
   ]
  },
  {
   "cell_type": "markdown",
   "id": "5abc284a",
   "metadata": {},
   "source": [
    "\n",
    "## Subtraction\n",
    "Use the `-` operator to subtract:\n"
   ]
  },
  {
   "cell_type": "code",
   "execution_count": null,
   "id": "73d39b52",
   "metadata": {},
   "outputs": [],
   "source": [
    "\n",
    "result = 7 - 4\n",
    "print(result)  # Output: 3\n"
   ]
  },
  {
   "cell_type": "markdown",
   "id": "858a0f77",
   "metadata": {},
   "source": [
    "\n",
    "## Multiplication\n",
    "Use the `*` operator to multiply:\n"
   ]
  },
  {
   "cell_type": "code",
   "execution_count": null,
   "id": "e708f8bc",
   "metadata": {},
   "outputs": [],
   "source": [
    "\n",
    "result = 6 * 5\n",
    "print(result)  # Output: 30\n"
   ]
  },
  {
   "cell_type": "markdown",
   "id": "e646cd3d",
   "metadata": {},
   "source": [
    "\n",
    "## Division\n",
    "Use the `/` operator to divide:\n"
   ]
  },
  {
   "cell_type": "code",
   "execution_count": null,
   "id": "5ca0880f",
   "metadata": {},
   "outputs": [],
   "source": [
    "\n",
    "result = 10 / 2\n",
    "print(result)  # Output: 5.0\n"
   ]
  },
  {
   "cell_type": "markdown",
   "id": "6e079452",
   "metadata": {},
   "source": [
    "\n",
    "## Exercises: Simple Math with Python\n",
    "\n",
    "1. Calculate the sum of 8 and 12.\n",
    "2. Subtract 5 from 20.\n",
    "3. Multiply 4 by 7.\n",
    "4. Divide 36 by 6.\n"
   ]
  }
 ],
 "metadata": {
  "kernelspec": {
   "display_name": ".venv",
   "language": "python",
   "name": "python3"
  },
  "language_info": {
   "name": "python",
   "version": "3.13.2"
  }
 },
 "nbformat": 4,
 "nbformat_minor": 5
}

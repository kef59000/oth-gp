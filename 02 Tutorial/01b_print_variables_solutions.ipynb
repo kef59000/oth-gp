{
 "cells": [
  {
   "cell_type": "markdown",
   "id": "3006e157",
   "metadata": {},
   "source": [
    "\n",
    "# Sample Solutions\n",
    "\n",
    "## Section 1: Introduction to Python & Jupyter Notebooks\n"
   ]
  },
  {
   "cell_type": "markdown",
   "id": "0cfd7124",
   "metadata": {},
   "source": [
    "### Exercise 1: Write a Python program that prints your favorite color."
   ]
  },
  {
   "cell_type": "code",
   "execution_count": null,
   "id": "eb57ccc0",
   "metadata": {},
   "outputs": [],
   "source": [
    "print(\"Blue\")"
   ]
  },
  {
   "cell_type": "markdown",
   "id": "d693e9d9",
   "metadata": {},
   "source": [
    "### Exercise 2: Write a Python program that prints two different messages, each on a new line."
   ]
  },
  {
   "cell_type": "code",
   "execution_count": null,
   "id": "fa407c85",
   "metadata": {},
   "outputs": [],
   "source": [
    "print(\"Good morning!\")\n",
    "print(\"Welcome to programming!\")"
   ]
  },
  {
   "cell_type": "markdown",
   "id": "880858ae",
   "metadata": {},
   "source": [
    "### Exercise 3: Add a comment above each print statement explaining what it does."
   ]
  },
  {
   "cell_type": "code",
   "execution_count": null,
   "id": "d4a294ed",
   "metadata": {},
   "outputs": [],
   "source": [
    "# This prints my favorite animal\n",
    "print(\"Cat\")\n",
    "# This prints my favorite food\n",
    "print(\"Pizza\")"
   ]
  },
  {
   "cell_type": "markdown",
   "id": "92e7257c",
   "metadata": {},
   "source": [
    "\n",
    "## Section 2: Variables and Data Types\n"
   ]
  },
  {
   "cell_type": "markdown",
   "id": "cf9164a6",
   "metadata": {},
   "source": [
    "### Exercise 1: Create a variable called `city` and assign it the name of your city."
   ]
  },
  {
   "cell_type": "code",
   "execution_count": null,
   "id": "364ada73",
   "metadata": {},
   "outputs": [],
   "source": [
    "city = \"Berlin\""
   ]
  },
  {
   "cell_type": "markdown",
   "id": "42017560",
   "metadata": {},
   "source": [
    "### Exercise 2: Create a variable called `temperature` and assign it a decimal value."
   ]
  },
  {
   "cell_type": "code",
   "execution_count": null,
   "id": "f46fa5d2",
   "metadata": {},
   "outputs": [],
   "source": [
    "temperature = 18.5"
   ]
  },
  {
   "cell_type": "markdown",
   "id": "d77b97b8",
   "metadata": {},
   "source": [
    "### Exercise 3: Create a variable called `is_raining` and assign it a boolean value."
   ]
  },
  {
   "cell_type": "code",
   "execution_count": null,
   "id": "d3781c95",
   "metadata": {},
   "outputs": [],
   "source": [
    "is_raining = False"
   ]
  },
  {
   "cell_type": "markdown",
   "id": "743590c5",
   "metadata": {},
   "source": [
    "### Exercise 4: Print the type of each variable using `type()`."
   ]
  },
  {
   "cell_type": "code",
   "execution_count": null,
   "id": "d3409f2d",
   "metadata": {},
   "outputs": [],
   "source": [
    "print(type(city))\n",
    "print(type(temperature))\n",
    "print(type(is_raining))"
   ]
  },
  {
   "cell_type": "markdown",
   "id": "e3bbc971",
   "metadata": {},
   "source": [
    "\n",
    "## Section 3: Simple Math with Python\n"
   ]
  },
  {
   "cell_type": "markdown",
   "id": "d954cb82",
   "metadata": {},
   "source": [
    "### Exercise 1: Calculate the sum of 8 and 12."
   ]
  },
  {
   "cell_type": "code",
   "execution_count": null,
   "id": "72460625",
   "metadata": {},
   "outputs": [],
   "source": [
    "result = 8 + 12\n",
    "print(result)  # Output: 20"
   ]
  },
  {
   "cell_type": "markdown",
   "id": "02829a34",
   "metadata": {},
   "source": [
    "### Exercise 2: Subtract 5 from 20."
   ]
  },
  {
   "cell_type": "code",
   "execution_count": null,
   "id": "6fdd980f",
   "metadata": {},
   "outputs": [],
   "source": [
    "result = 20 - 5\n",
    "print(result)  # Output: 15"
   ]
  },
  {
   "cell_type": "markdown",
   "id": "bad7f396",
   "metadata": {},
   "source": [
    "### Exercise 3: Multiply 4 by 7."
   ]
  },
  {
   "cell_type": "code",
   "execution_count": null,
   "id": "34aedc67",
   "metadata": {},
   "outputs": [],
   "source": [
    "result = 4 * 7\n",
    "print(result)  # Output: 28"
   ]
  },
  {
   "cell_type": "markdown",
   "id": "3771304f",
   "metadata": {},
   "source": [
    "### Exercise 4: Divide 36 by 6."
   ]
  },
  {
   "cell_type": "code",
   "execution_count": null,
   "id": "f79d169d",
   "metadata": {},
   "outputs": [],
   "source": [
    "result = 36 / 6\n",
    "print(result)  # Output: 6.0"
   ]
  }
 ],
 "metadata": {},
 "nbformat": 4,
 "nbformat_minor": 5
}

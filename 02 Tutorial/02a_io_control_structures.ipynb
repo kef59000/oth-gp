{
 "cells": [
  {
   "cell_type": "markdown",
   "id": "05dbe94d",
   "metadata": {},
   "source": [
    "\n",
    "# Input and Output in Python\n",
    "\n",
    "In this section, you'll learn how to display information to the user and get input from the user.\n"
   ]
  },
  {
   "cell_type": "markdown",
   "id": "a4e086ab",
   "metadata": {},
   "source": [
    "\n",
    "## Output with print()\n",
    "\n",
    "The `print()` function displays information on the screen.\n"
   ]
  },
  {
   "cell_type": "code",
   "execution_count": null,
   "id": "0a53b51e",
   "metadata": {},
   "outputs": [],
   "source": [
    "\n",
    "print(\"Hello, world!\")\n",
    "print(\"The answer is\", 42)\n"
   ]
  },
  {
   "cell_type": "markdown",
   "id": "9dc6d08a",
   "metadata": {},
   "source": [
    "\n",
    "## Formatting Output\n",
    "\n",
    "You can use `f-strings` to format your output:\n"
   ]
  },
  {
   "cell_type": "code",
   "execution_count": null,
   "id": "1811f758",
   "metadata": {},
   "outputs": [],
   "source": [
    "\n",
    "name = \"Alice\"\n",
    "age = 25\n",
    "print(f\"My name is {name} and I am {age} years old.\")\n"
   ]
  },
  {
   "cell_type": "markdown",
   "id": "af3512b0",
   "metadata": {},
   "source": [
    "\n",
    "## Input with input()\n",
    "\n",
    "The `input()` function lets you get information from the user. It always returns a string.\n"
   ]
  },
  {
   "cell_type": "code",
   "execution_count": null,
   "id": "313c9692",
   "metadata": {},
   "outputs": [],
   "source": [
    "\n",
    "user_name = input(\"What is your name? \")\n",
    "print(f\"Hello, {user_name}!\")\n"
   ]
  },
  {
   "cell_type": "markdown",
   "id": "666ee250",
   "metadata": {},
   "source": [
    "\n",
    "## Exercises: Input and Output\n",
    "\n",
    "1. Write a program that asks the user for their favorite food and prints a message including their answer.\n",
    "2. Write a program that asks for two numbers, adds them, and prints the result.\n"
   ]
  },
  {
   "cell_type": "markdown",
   "id": "f8a0cddf",
   "metadata": {},
   "source": [
    "\n",
    "# Control Structures: if, for, while\n",
    "\n",
    "Control structures let you make decisions and repeat actions in your code.\n"
   ]
  },
  {
   "cell_type": "markdown",
   "id": "e6c2aa87",
   "metadata": {},
   "source": [
    "\n",
    "## if Statements\n",
    "\n",
    "Use `if`, `elif`, and `else` to make decisions:\n"
   ]
  },
  {
   "cell_type": "code",
   "execution_count": null,
   "id": "42d52008",
   "metadata": {},
   "outputs": [],
   "source": [
    "\n",
    "number = 10\n",
    "if number > 0:\n",
    "    print(\"Positive number\")\n",
    "elif number == 0:\n",
    "    print(\"Zero\")\n",
    "else:\n",
    "    print(\"Negative number\")\n"
   ]
  },
  {
   "cell_type": "markdown",
   "id": "8c613024",
   "metadata": {},
   "source": [
    "\n",
    "## for Loops\n",
    "\n",
    "Use a `for` loop to repeat actions a certain number of times:\n"
   ]
  },
  {
   "cell_type": "code",
   "execution_count": null,
   "id": "58a33040",
   "metadata": {},
   "outputs": [],
   "source": [
    "\n",
    "for i in range(5):\n",
    "    print(\"Iteration\", i)\n"
   ]
  },
  {
   "cell_type": "markdown",
   "id": "dfca2e9a",
   "metadata": {},
   "source": [
    "\n",
    "## while Loops\n",
    "\n",
    "A `while` loop repeats as long as a condition is true:\n"
   ]
  },
  {
   "cell_type": "code",
   "execution_count": null,
   "id": "1e89a4ae",
   "metadata": {},
   "outputs": [],
   "source": [
    "\n",
    "count = 0\n",
    "while count < 3:\n",
    "    print(\"Count is\", count)\n",
    "    count += 1\n"
   ]
  },
  {
   "cell_type": "markdown",
   "id": "adcd46c0",
   "metadata": {},
   "source": [
    "\n",
    "## Exercises: Control Structures\n",
    "\n",
    "1. Write a program that asks the user for a number and prints whether it is positive, negative, or zero.\n",
    "2. Write a program that prints the numbers from 1 to 5 using a for loop.\n",
    "3. Write a program that asks the user for a password and keeps asking until they enter \"python\".\n"
   ]
  },
  {
   "cell_type": "markdown",
   "id": "da11e272",
   "metadata": {},
   "source": [
    "\n",
    "# Combining Conditions in if Statements\n",
    "\n",
    "You can combine multiple conditions in an `if` statement using logical operators:\n",
    "- `and`: True if both conditions are true\n",
    "- `or`: True if at least one condition is true\n",
    "- `not`: True if the condition is false\n"
   ]
  },
  {
   "cell_type": "markdown",
   "id": "8d2e36fb",
   "metadata": {},
   "source": [
    "\n",
    "## Example: Using `and`\n"
   ]
  },
  {
   "cell_type": "code",
   "execution_count": null,
   "id": "aced4301",
   "metadata": {},
   "outputs": [],
   "source": [
    "\n",
    "age = 20\n",
    "has_ticket = True\n",
    "if age >= 18 and has_ticket:\n",
    "    print(\"You can enter the concert.\")\n",
    "else:\n",
    "    print(\"You cannot enter.\")\n"
   ]
  },
  {
   "cell_type": "markdown",
   "id": "8338e049",
   "metadata": {},
   "source": [
    "\n",
    "## Example: Using `or`\n"
   ]
  },
  {
   "cell_type": "code",
   "execution_count": null,
   "id": "efcba1c1",
   "metadata": {},
   "outputs": [],
   "source": [
    "\n",
    "weather = \"rainy\"\n",
    "has_umbrella = False\n",
    "if weather == \"rainy\" or has_umbrella:\n",
    "    print(\"Take an umbrella or be prepared for rain!\")\n",
    "else:\n",
    "    print(\"Enjoy your day!\")\n"
   ]
  },
  {
   "cell_type": "markdown",
   "id": "b44ee733",
   "metadata": {},
   "source": [
    "\n",
    "## Example: Using `not`\n"
   ]
  },
  {
   "cell_type": "code",
   "execution_count": null,
   "id": "7183b520",
   "metadata": {},
   "outputs": [],
   "source": [
    "\n",
    "is_logged_in = False\n",
    "if not is_logged_in:\n",
    "    print(\"Please log in to continue.\")\n"
   ]
  },
  {
   "cell_type": "markdown",
   "id": "12119add",
   "metadata": {},
   "source": [
    "\n",
    "## Exercise: Combining Conditions\n",
    "\n",
    "1. Write a program that asks the user for their age and whether they have a student ID (yes/no). If the user is under 18 **or** has a student ID, print \"Discount applies!\" Otherwise, print \"No discount.\"\n"
   ]
  }
 ],
 "metadata": {
  "kernelspec": {
   "display_name": "Python 3",
   "language": "python",
   "name": "python3"
  },
  "language_info": {
   "name": "python",
   "version": "3.12.9"
  }
 },
 "nbformat": 4,
 "nbformat_minor": 5
}

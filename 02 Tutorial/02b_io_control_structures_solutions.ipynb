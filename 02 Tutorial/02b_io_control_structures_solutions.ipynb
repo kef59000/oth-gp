{
 "cells": [
  {
   "cell_type": "markdown",
   "id": "c02507dc",
   "metadata": {},
   "source": [
    "\n",
    "# Sample Solutions\n",
    "\n",
    "## Section 1: Input and Output in Python\n"
   ]
  },
  {
   "cell_type": "markdown",
   "id": "1c6d8979",
   "metadata": {},
   "source": [
    "### Exercise 1: Write a program that asks the user for their favorite food and prints a message including their answer."
   ]
  },
  {
   "cell_type": "code",
   "execution_count": null,
   "id": "2a5f48ac",
   "metadata": {},
   "outputs": [],
   "source": [
    "food = input(\"What is your favorite food? \")\n",
    "print(f\"Yum! {food} sounds delicious.\")"
   ]
  },
  {
   "cell_type": "markdown",
   "id": "715ae237",
   "metadata": {},
   "source": [
    "### Exercise 2: Write a program that asks for two numbers, adds them, and prints the result."
   ]
  },
  {
   "cell_type": "code",
   "execution_count": null,
   "id": "01e2b1d6",
   "metadata": {},
   "outputs": [],
   "source": [
    "num1 = float(input(\"Enter the first number: \"))\n",
    "num2 = float(input(\"Enter the second number: \"))\n",
    "sum_result = num1 + num2\n",
    "print(f\"The sum is {sum_result}\")"
   ]
  },
  {
   "cell_type": "markdown",
   "id": "87bf01ca",
   "metadata": {},
   "source": [
    "\n",
    "## Section 2: Control Structures (if, for, while)\n"
   ]
  },
  {
   "cell_type": "markdown",
   "id": "1683facf",
   "metadata": {},
   "source": [
    "### Exercise 1: Write a program that asks the user for a number and prints whether it is positive, negative, or zero."
   ]
  },
  {
   "cell_type": "code",
   "execution_count": null,
   "id": "d09a6281",
   "metadata": {},
   "outputs": [],
   "source": [
    "num = float(input(\"Enter a number: \"))\n",
    "if num > 0:\n",
    "    print(\"Positive\")\n",
    "elif num == 0:\n",
    "    print(\"Zero\")\n",
    "else:\n",
    "    print(\"Negative\")"
   ]
  },
  {
   "cell_type": "markdown",
   "id": "bdef819c",
   "metadata": {},
   "source": [
    "### Exercise 2: Write a program that prints the numbers from 1 to 5 using a for loop."
   ]
  },
  {
   "cell_type": "code",
   "execution_count": null,
   "id": "9c77d4a0",
   "metadata": {},
   "outputs": [],
   "source": [
    "for i in range(1, 6):\n",
    "    print(i)"
   ]
  },
  {
   "cell_type": "markdown",
   "id": "170731a1",
   "metadata": {},
   "source": [
    "### Exercise 3: Write a program that asks the user for a password and keeps asking until they enter \"python\"."
   ]
  },
  {
   "cell_type": "code",
   "execution_count": null,
   "id": "7d569a82",
   "metadata": {},
   "outputs": [],
   "source": [
    "password = \"\"\n",
    "while password != \"python\":\n",
    "    password = input(\"Enter the password: \")\n",
    "print(\"Access granted!\")"
   ]
  },
  {
   "cell_type": "markdown",
   "id": "98f13fe6",
   "metadata": {},
   "source": [
    "\n",
    "## Section 3: Combining Conditions in if Statements\n"
   ]
  },
  {
   "cell_type": "markdown",
   "id": "897b0769",
   "metadata": {},
   "source": [
    "### Exercise 1: Write a program that asks the user for their age and whether they have a student ID (yes/no). If the user is under 18 or has a student ID, print 'Discount applies!' Otherwise, print 'No discount.'"
   ]
  },
  {
   "cell_type": "code",
   "execution_count": null,
   "id": "77d97847",
   "metadata": {},
   "outputs": [],
   "source": [
    "age = int(input(\"What is your age? \"))\n",
    "student_id = input(\"Do you have a student ID? (yes/no): \")\n",
    "if age < 18 or student_id.lower() == \"yes\":\n",
    "    print(\"Discount applies!\")\n",
    "else:\n",
    "    print(\"No discount.\")"
   ]
  }
 ],
 "metadata": {},
 "nbformat": 4,
 "nbformat_minor": 5
}

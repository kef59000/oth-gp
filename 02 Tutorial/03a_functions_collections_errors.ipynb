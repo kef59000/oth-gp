{
 "cells": [
  {
   "cell_type": "markdown",
   "id": "d9e65848",
   "metadata": {},
   "source": [
    "\n",
    "# Introduction to Functions, Lists, Sets, Tuples, Dictionaries, and Error Handling in Python\n",
    "\n",
    "Welcome to this tutorial! In this notebook, you'll learn about some of the most important data structures and concepts in Python: **functions, lists, sets, tuples, dictionaries, and error handling**. Each section includes explanations, examples, and exercises for you to practice.\n"
   ]
  },
  {
   "cell_type": "markdown",
   "id": "23ae2cc8",
   "metadata": {},
   "source": [
    "\n",
    "## 1. Functions\n",
    "Functions are reusable blocks of code that perform a specific task. You define a function using the `def` keyword.\n",
    "\n",
    "**Example:**\n"
   ]
  },
  {
   "cell_type": "code",
   "execution_count": null,
   "id": "d11d1f64",
   "metadata": {},
   "outputs": [],
   "source": [
    "\n",
    "def greet(name):\n",
    "    print(f\"Hello, {name}!\")\n",
    "\n",
    "greet(\"Alice\")\n"
   ]
  },
  {
   "cell_type": "markdown",
   "id": "ac218866",
   "metadata": {},
   "source": [
    "\n",
    "### Exercises: Functions\n",
    "1. Write a function called `add_numbers` that takes two numbers and returns their sum. *(Hint: Use `return`)*\n",
    "2. Write a function `is_even` that takes a number and prints \"Even\" if the number is even, otherwise prints \"Odd\".\n"
   ]
  },
  {
   "cell_type": "markdown",
   "id": "756ed03f",
   "metadata": {},
   "source": [
    "\n",
    "## 2. Lists\n",
    "A list is an ordered collection of items. Lists are mutable, meaning you can change their contents.\n",
    "\n",
    "**Example:**\n"
   ]
  },
  {
   "cell_type": "code",
   "execution_count": null,
   "id": "3d7695c1",
   "metadata": {},
   "outputs": [],
   "source": [
    "\n",
    "fruits = [\"apple\", \"banana\", \"cherry\"]\n",
    "print(fruits)\n",
    "fruits.append(\"orange\")\n",
    "print(fruits)\n"
   ]
  },
  {
   "cell_type": "markdown",
   "id": "cfa9ba8c",
   "metadata": {},
   "source": [
    "\n",
    "### Exercises: Lists\n",
    "1. Create a list of your three favorite movies and print it.\n",
    "2. Add another movie to your list and print the updated list.\n"
   ]
  },
  {
   "cell_type": "markdown",
   "id": "60b2a8c2",
   "metadata": {},
   "source": [
    "\n",
    "## 3. Sets\n",
    "A set is an unordered collection of unique items. Sets are useful when you want to store items without duplicates.\n",
    "\n",
    "**Example:**\n"
   ]
  },
  {
   "cell_type": "code",
   "execution_count": null,
   "id": "89f598cf",
   "metadata": {},
   "outputs": [],
   "source": [
    "\n",
    "numbers = {1, 2, 3, 2, 1}\n",
    "print(numbers)  # Duplicates are removed\n",
    "numbers.add(4)\n",
    "print(numbers)\n"
   ]
  },
  {
   "cell_type": "markdown",
   "id": "e4ca22ad",
   "metadata": {},
   "source": [
    "\n",
    "### Exercises: Sets\n",
    "1. Create a set with the numbers 1, 2, 3, 4, 5. Then add the number 6 to the set.\n",
    "2. Try adding the number 3 again to the set. What happens?\n"
   ]
  },
  {
   "cell_type": "markdown",
   "id": "6713f0bd",
   "metadata": {},
   "source": [
    "\n",
    "## 4. Tuples\n",
    "A tuple is an ordered collection of items, just like a list, but tuples are immutable (cannot be changed after creation).\n",
    "\n",
    "**Example:**\n"
   ]
  },
  {
   "cell_type": "code",
   "execution_count": null,
   "id": "b9da3aad",
   "metadata": {},
   "outputs": [],
   "source": [
    "\n",
    "coordinates = (10, 20)\n",
    "print(coordinates)\n"
   ]
  },
  {
   "cell_type": "markdown",
   "id": "1ef4239e",
   "metadata": {},
   "source": [
    "\n",
    "### Exercises: Tuples\n",
    "1. Create a tuple with your birth year, birth month, and birth day.\n",
    "2. Try changing one value in your tuple. What happens?\n"
   ]
  },
  {
   "cell_type": "markdown",
   "id": "2fac94ac",
   "metadata": {},
   "source": [
    "\n",
    "## 5. Dictionaries\n",
    "A dictionary stores data as key-value pairs. Keys must be unique.\n",
    "\n",
    "**Example:**\n"
   ]
  },
  {
   "cell_type": "code",
   "execution_count": null,
   "id": "4337f0ec",
   "metadata": {},
   "outputs": [],
   "source": [
    "\n",
    "student = {\"name\": \"Alice\", \"age\": 21, \"major\": \"Business\"}\n",
    "print(student)\n",
    "print(student[\"name\"])\n"
   ]
  },
  {
   "cell_type": "markdown",
   "id": "66e75cbe",
   "metadata": {},
   "source": [
    "\n",
    "### Exercises: Dictionaries\n",
    "1. Create a dictionary for a book with keys: `title`, `author`, and `year`.\n",
    "2. Add a new key `pages` to your dictionary and assign it a value.\n"
   ]
  },
  {
   "cell_type": "markdown",
   "id": "2ef2e7f8",
   "metadata": {},
   "source": [
    "\n",
    "## 6. Error Handling\n",
    "Sometimes, errors happen in your code. You can handle them using `try` and `except` blocks.\n",
    "\n",
    "**Example:**\n"
   ]
  },
  {
   "cell_type": "code",
   "execution_count": null,
   "id": "3ec3d042",
   "metadata": {},
   "outputs": [],
   "source": [
    "\n",
    "try:\n",
    "    result = 10 / 0\n",
    "except ZeroDivisionError:\n",
    "    print(\"You can't divide by zero!\")\n"
   ]
  },
  {
   "cell_type": "markdown",
   "id": "73e81c0b",
   "metadata": {},
   "source": [
    "\n",
    "### Exercises: Error Handling\n",
    "1. Write code that tries to convert the string \"abc\" to an integer using `int()`. Handle the error with a `try`/`except` block and print a friendly message.\n",
    "2. Write code that asks the user for a number and prints its reciprocal (1 divided by the number). Handle the case where the user enters 0.\n"
   ]
  }
 ],
 "metadata": {},
 "nbformat": 4,
 "nbformat_minor": 5
}

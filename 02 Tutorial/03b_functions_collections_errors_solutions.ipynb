{
 "cells": [
  {
   "cell_type": "markdown",
   "id": "26a07979",
   "metadata": {},
   "source": [
    "\n",
    "# Solutions: Functions, Lists, Sets, Tuples, Dictionaries, and Error Handling in Python\n",
    "\n",
    "This notebook contains sample solutions for the exercises in the tutorial notebook.\n"
   ]
  },
  {
   "cell_type": "markdown",
   "id": "aea652ba",
   "metadata": {},
   "source": [
    "\n",
    "## 1. Functions\n",
    "### Exercise 1\n",
    "Write a function called `add_numbers` that takes two numbers and returns their sum.\n"
   ]
  },
  {
   "cell_type": "code",
   "execution_count": null,
   "id": "40becc98",
   "metadata": {},
   "outputs": [],
   "source": [
    "\n",
    "def add_numbers(a, b):\n",
    "    return a + b\n",
    "\n",
    "# Example usage:\n",
    "result = add_numbers(3, 5)\n",
    "print(result)  # Output: 8\n"
   ]
  },
  {
   "cell_type": "markdown",
   "id": "8abac529",
   "metadata": {},
   "source": [
    "\n",
    "### Exercise 2\n",
    "Write a function `is_even` that takes a number and prints \"Even\" if the number is even, otherwise prints \"Odd\".\n"
   ]
  },
  {
   "cell_type": "code",
   "execution_count": null,
   "id": "1d82c858",
   "metadata": {},
   "outputs": [],
   "source": [
    "\n",
    "def is_even(n):\n",
    "    if n % 2 == 0:\n",
    "        print(\"Even\")\n",
    "    else:\n",
    "        print(\"Odd\")\n",
    "\n",
    "is_even(4)  # Output: Even\n",
    "is_even(7)  # Output: Odd\n"
   ]
  },
  {
   "cell_type": "markdown",
   "id": "f139f332",
   "metadata": {},
   "source": [
    "\n",
    "## 2. Lists\n",
    "### Exercise 1\n",
    "Create a list of your three favorite movies and print it.\n"
   ]
  },
  {
   "cell_type": "code",
   "execution_count": null,
   "id": "d94fb14a",
   "metadata": {},
   "outputs": [],
   "source": [
    "\n",
    "favorite_movies = [\"Inception\", \"The Matrix\", \"Interstellar\"]\n",
    "print(favorite_movies)\n"
   ]
  },
  {
   "cell_type": "markdown",
   "id": "0b6ddd5d",
   "metadata": {},
   "source": [
    "\n",
    "### Exercise 2\n",
    "Add another movie to your list and print the updated list.\n"
   ]
  },
  {
   "cell_type": "code",
   "execution_count": null,
   "id": "e25c2f64",
   "metadata": {},
   "outputs": [],
   "source": [
    "\n",
    "favorite_movies.append(\"The Lion King\")\n",
    "print(favorite_movies)\n"
   ]
  },
  {
   "cell_type": "markdown",
   "id": "335b158b",
   "metadata": {},
   "source": [
    "\n",
    "## 3. Sets\n",
    "### Exercise 1\n",
    "Create a set with the numbers 1, 2, 3, 4, 5. Then add the number 6 to the set.\n"
   ]
  },
  {
   "cell_type": "code",
   "execution_count": null,
   "id": "420e6762",
   "metadata": {},
   "outputs": [],
   "source": [
    "\n",
    "numbers = {1, 2, 3, 4, 5}\n",
    "numbers.add(6)\n",
    "print(numbers)\n"
   ]
  },
  {
   "cell_type": "markdown",
   "id": "1b84a0de",
   "metadata": {},
   "source": [
    "\n",
    "### Exercise 2\n",
    "Try adding the number 3 again to the set. What happens?\n"
   ]
  },
  {
   "cell_type": "code",
   "execution_count": null,
   "id": "c7e3603c",
   "metadata": {},
   "outputs": [],
   "source": [
    "\n",
    "numbers.add(3)\n",
    "print(numbers)  # The set does not change because 3 is already present.\n"
   ]
  },
  {
   "cell_type": "markdown",
   "id": "70107a5b",
   "metadata": {},
   "source": [
    "\n",
    "## 4. Tuples\n",
    "### Exercise 1\n",
    "Create a tuple with your birth year, birth month, and birth day.\n"
   ]
  },
  {
   "cell_type": "code",
   "execution_count": null,
   "id": "bbc39e66",
   "metadata": {},
   "outputs": [],
   "source": [
    "\n",
    "birthday = (1990, 5, 15)\n",
    "print(birthday)\n"
   ]
  },
  {
   "cell_type": "markdown",
   "id": "1127ea1d",
   "metadata": {},
   "source": [
    "\n",
    "### Exercise 2\n",
    "Try changing one value in your tuple. What happens?\n"
   ]
  },
  {
   "cell_type": "code",
   "execution_count": null,
   "id": "6e947d56",
   "metadata": {},
   "outputs": [],
   "source": [
    "\n",
    "# Uncommenting the next line will cause an error because tuples are immutable:\n",
    "# birthday[0] = 2000  # TypeError: 'tuple' object does not support item assignment\n"
   ]
  },
  {
   "cell_type": "markdown",
   "id": "1de1c1ee",
   "metadata": {},
   "source": [
    "\n",
    "## 5. Dictionaries\n",
    "### Exercise 1\n",
    "Create a dictionary for a book with keys: `title`, `author`, and `year`.\n"
   ]
  },
  {
   "cell_type": "code",
   "execution_count": null,
   "id": "fcc8b424",
   "metadata": {},
   "outputs": [],
   "source": [
    "\n",
    "book = {\"title\": \"1984\", \"author\": \"George Orwell\", \"year\": 1949}\n",
    "print(book)\n"
   ]
  },
  {
   "cell_type": "markdown",
   "id": "f83a771f",
   "metadata": {},
   "source": [
    "\n",
    "### Exercise 2\n",
    "Add a new key `pages` to your dictionary and assign it a value.\n"
   ]
  },
  {
   "cell_type": "code",
   "execution_count": null,
   "id": "8e1711bb",
   "metadata": {},
   "outputs": [],
   "source": [
    "\n",
    "book[\"pages\"] = 328\n",
    "print(book)\n"
   ]
  },
  {
   "cell_type": "markdown",
   "id": "0abe30fb",
   "metadata": {},
   "source": [
    "\n",
    "## 6. Error Handling\n",
    "### Exercise 1\n",
    "Write code that tries to convert the string \"abc\" to an integer using `int()`. Handle the error with a `try`/`except` block and print a friendly message.\n"
   ]
  },
  {
   "cell_type": "code",
   "execution_count": null,
   "id": "60d8f954",
   "metadata": {},
   "outputs": [],
   "source": [
    "\n",
    "try:\n",
    "    number = int(\"abc\")\n",
    "except ValueError:\n",
    "    print(\"Oops! That was not a valid number.\")\n"
   ]
  },
  {
   "cell_type": "markdown",
   "id": "b8033c86",
   "metadata": {},
   "source": [
    "\n",
    "### Exercise 2\n",
    "Write code that asks the user for a number and prints its reciprocal (1 divided by the number). Handle the case where the user enters 0.\n"
   ]
  },
  {
   "cell_type": "code",
   "execution_count": null,
   "id": "a03193c7",
   "metadata": {},
   "outputs": [],
   "source": [
    "\n",
    "try:\n",
    "    num = float(input(\"Enter a number: \"))\n",
    "    print(\"Reciprocal:\", 1/num)\n",
    "except ZeroDivisionError:\n",
    "    print(\"Cannot divide by zero!\")\n",
    "except ValueError:\n",
    "    print(\"Please enter a valid number.\")\n"
   ]
  }
 ],
 "metadata": {},
 "nbformat": 4,
 "nbformat_minor": 5
}

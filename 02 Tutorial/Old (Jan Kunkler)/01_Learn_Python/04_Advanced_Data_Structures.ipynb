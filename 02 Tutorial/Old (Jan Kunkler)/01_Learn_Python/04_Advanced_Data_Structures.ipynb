{
 "cells": [
  {
   "cell_type": "markdown",
   "id": "94c1180d-1437-4de4-8d85-efc4f92884b1",
   "metadata": {},
   "source": [
    "# Session 4: Expanding Pizza Paradise with Advanced Data Structures (90 minutes)"
   ]
  },
  {
   "cell_type": "markdown",
   "id": "4218cb39-63ce-418e-888a-5231b6af733c",
   "metadata": {},
   "source": [
    "# Welcome to Session 4: Scaling Up Pizza Paradise\n",
    "\n",
    "Welcome back, junior programmer! Pizza Paradise has been a huge success, and we need to scale up our systems. Today, we'll learn about more advanced data structures and operations that will help us manage our growing business. We'll cover:\n",
    "\n",
    "1. Lists: To manage our menu items\n",
    "2. Loops: To process multiple orders efficiently\n",
    "3. Dictionaries: To store detailed information about each pizza\n",
    "4. Sets: To handle unique toppings\n",
    "5. Comparisons: To make decisions about pricing and promotions\n",
    "\n",
    "Before we dive into new concepts, let's quickly review and set up the essential functions we created in our last session. This will ensure we have all the tools we need to expand Pizza Paradise."
   ]
  },
  {
   "cell_type": "markdown",
   "id": "acb9d44a-7376-4bcf-af3b-f18fc4dbbf3d",
   "metadata": {},
   "source": [
    "## Quick Review and Setup (10 minutes)\n",
    "\n",
    "Let's recreate the key functions from our previous session:"
   ]
  },
  {
   "cell_type": "code",
   "execution_count": 4,
   "id": "5b3e9e1e-74f0-4bd8-b3e5-f6463966463d",
   "metadata": {},
   "outputs": [
    {
     "name": "stdout",
     "output_type": "stream",
     "text": [
      "Order received: Medium Margherita pizza\n",
      "Price after discount: $8.99\n",
      "Total pizzas sold: 1\n",
      "Thank you for choosing Pizza Paradise!\n",
      "------------------------------\n"
     ]
    }
   ],
   "source": [
    "# Pizza price calculation\n",
    "def calculate_pizza_price(size):\n",
    "    if size == \"Small\":\n",
    "        return 8.99\n",
    "    elif size == \"Medium\":\n",
    "        return 10.99\n",
    "    elif size == \"Large\":\n",
    "        return 14.99\n",
    "    elif size == \"Extra Large\":\n",
    "        return 17.99\n",
    "    else:\n",
    "        return \"Invalid size\"\n",
    "\n",
    "# Discount application\n",
    "def apply_discount(price):\n",
    "    if isinstance(price, (int, float)):\n",
    "        return price - 2\n",
    "    else:\n",
    "        return price\n",
    "\n",
    "# Global variable for tracking sales\n",
    "total_pizzas_sold = 0\n",
    "\n",
    "# Order processing\n",
    "def process_pizza_order(pizza_type, size):\n",
    "    global total_pizzas_sold\n",
    "    price = calculate_pizza_price(size)\n",
    "    final_price = apply_discount(price)\n",
    "    print(f\"Order received: {size} {pizza_type} pizza\")\n",
    "    print(f\"Price after discount: ${final_price}\")\n",
    "    total_pizzas_sold += 1\n",
    "    print(f\"Total pizzas sold: {total_pizzas_sold}\")\n",
    "    print(\"Thank you for choosing Pizza Paradise!\")\n",
    "    print(\"-\" * 30)\n",
    "\n",
    "# Quick test to ensure everything is working\n",
    "process_pizza_order(\"Margherita\", \"Medium\")"
   ]
  },
  {
   "cell_type": "markdown",
   "id": "b625ee02-6d8f-4d0d-926a-d5b0e5a8a985",
   "metadata": {},
   "source": [
    "Great! Now we have our core functions ready to go. Let's recap what each does:\n",
    "\n",
    "1. `calculate_pizza_price(size)`: Determines the price of a pizza based on its size.\n",
    "2. `apply_discount(price)`: Applies a $2 discount to the pizza price.\n",
    "3. `process_pizza_order(pizza_type, size)`: Handles the entire order process, including calculating price, applying discount, and updating our sales tracker.\n",
    "\n",
    "With these functions in place, we're ready to scale up Pizza Paradise with more advanced data structures and operations!"
   ]
  },
  {
   "cell_type": "markdown",
   "id": "c76021a0-9a4c-45a5-bebb-a3aa5243fbe8",
   "metadata": {},
   "source": [
    "## Part 1: Lists - Managing Our Pizza Menu (20 minutes)\n",
    "\n",
    "The CEO wants to easily update and manage our pizza menu. Lists in Python are perfect for this!"
   ]
  },
  {
   "cell_type": "code",
   "execution_count": 1,
   "id": "87e76830-da86-459c-9d73-b9d305e8891c",
   "metadata": {},
   "outputs": [
    {
     "name": "stdout",
     "output_type": "stream",
     "text": [
      "Our current menu:\n",
      "- Margherita\n",
      "- Pepperoni\n",
      "- Vegetarian\n",
      "- Hawaiian\n",
      "- Supreme\n",
      "\n",
      "Our updated menu:\n",
      "- Margherita\n",
      "- Pepperoni\n",
      "- Vegetarian\n",
      "- Hawaiian\n",
      "- Supreme\n",
      "- BBQ Chicken\n"
     ]
    }
   ],
   "source": [
    "pizza_menu = [\"Margherita\", \"Pepperoni\", \"Vegetarian\", \"Hawaiian\", \"Supreme\"]\n",
    "\n",
    "print(\"Our current menu:\")\n",
    "for pizza in pizza_menu:\n",
    "    print(f\"- {pizza}\")\n",
    "\n",
    "# Add a new pizza to the menu\n",
    "pizza_menu.append(\"BBQ Chicken\")\n",
    "print(\"\\nOur updated menu:\")\n",
    "for pizza in pizza_menu:\n",
    "    print(f\"- {pizza}\")"
   ]
  },
  {
   "cell_type": "markdown",
   "id": "4d393732-b409-4859-9283-6bd8a34fc9bb",
   "metadata": {},
   "source": [
    "Lists are ordered collections that can be modified. We can add, remove, or change items easily.\n",
    "\n",
    "Exercise 1 (5 minutes):\n",
    "The marketing team wants to promote our vegetarian options by moving \"Vegetarian\" to the start of the menu. Use list methods to accomplish this.\n"
   ]
  },
  {
   "cell_type": "code",
   "execution_count": 2,
   "id": "ba59e4e4-d137-44c3-bd2b-794292161ee5",
   "metadata": {},
   "outputs": [],
   "source": [
    "# Your code here to move \"Vegetarian\" to the start of the menu\n"
   ]
  },
  {
   "cell_type": "markdown",
   "id": "b7899a81-b2e1-4f3e-b767-9aa80af3a9e6",
   "metadata": {},
   "source": [
    "## Part 2: Loops - Processing Multiple Orders (15 minutes)\n",
    "\n",
    "It's Friday night, and orders are pouring in! We need a way to process multiple orders quickly. Let's use a loop to handle this."
   ]
  },
  {
   "cell_type": "code",
   "execution_count": 5,
   "id": "a9594f10-9bf9-4755-8b97-0ad253e31976",
   "metadata": {},
   "outputs": [
    {
     "name": "stdout",
     "output_type": "stream",
     "text": [
      "Order received: Medium Margherita pizza\n",
      "Price after discount: $8.99\n",
      "Total pizzas sold: 2\n",
      "Thank you for choosing Pizza Paradise!\n",
      "------------------------------\n",
      "Order received: Large Pepperoni pizza\n",
      "Price after discount: $12.99\n",
      "Total pizzas sold: 3\n",
      "Thank you for choosing Pizza Paradise!\n",
      "------------------------------\n",
      "Order received: Small Vegetarian pizza\n",
      "Price after discount: $6.99\n",
      "Total pizzas sold: 4\n",
      "Thank you for choosing Pizza Paradise!\n",
      "------------------------------\n",
      "Order received: Extra Large Supreme pizza\n",
      "Price after discount: $15.989999999999998\n",
      "Total pizzas sold: 5\n",
      "Thank you for choosing Pizza Paradise!\n",
      "------------------------------\n",
      "Total pizzas sold today: 5\n"
     ]
    }
   ],
   "source": [
    "orders = [\n",
    "    (\"Margherita\", \"Medium\"),\n",
    "    (\"Pepperoni\", \"Large\"),\n",
    "    (\"Vegetarian\", \"Small\"),\n",
    "    (\"Supreme\", \"Extra Large\")\n",
    "]\n",
    "\n",
    "for pizza, size in orders:\n",
    "    process_pizza_order(pizza, size)\n",
    "\n",
    "print(f\"Total pizzas sold today: {total_pizzas_sold}\")"
   ]
  },
  {
   "cell_type": "markdown",
   "id": "f001268b-4404-4f6b-99ed-ee85ab671a17",
   "metadata": {},
   "source": [
    "Loops allow us to repeat actions efficiently, saving us from writing repetitive code.\n",
    "\n",
    "<div class=\"alert alert-block alert-info\">\n",
    "<b>🤖</b> Ask Jupyternaut about the values in Parentheses like (\"Margherita\", \"Medium\") to learn about <b>Tuples</b>.</div>\n",
    "\n",
    "## Part 3: Dictionaries - Detailed Pizza Information (20 minutes)\n",
    "\n",
    "The kitchen staff needs more detailed information about each pizza. Dictionaries are perfect for storing multiple pieces of information about each item.\n"
   ]
  },
  {
   "cell_type": "code",
   "execution_count": 6,
   "id": "4d038f5b-4e96-461f-9ba0-ea8c13c9fc49",
   "metadata": {},
   "outputs": [
    {
     "name": "stdout",
     "output_type": "stream",
     "text": [
      "Vegetarian Pizza:\n",
      "Ingredients: tomato sauce, mozzarella, mushrooms, bell peppers, olives\n",
      "Vegetarian: Yes\n"
     ]
    }
   ],
   "source": [
    "pizza_details = {\n",
    "    \"Margherita\": {\"ingredients\": [\"tomato sauce\", \"mozzarella\", \"basil\"], \"vegetarian\": True},\n",
    "    \"Pepperoni\": {\"ingredients\": [\"tomato sauce\", \"mozzarella\", \"pepperoni\"], \"vegetarian\": False},\n",
    "    \"Vegetarian\": {\"ingredients\": [\"tomato sauce\", \"mozzarella\", \"mushrooms\", \"bell peppers\", \"olives\"], \"vegetarian\": True},\n",
    "    \"Hawaiian\": {\"ingredients\": [\"tomato sauce\", \"mozzarella\", \"ham\", \"pineapple\"], \"vegetarian\": False},\n",
    "    \"Supreme\": {\"ingredients\": [\"tomato sauce\", \"mozzarella\", \"pepperoni\", \"sausage\", \"mushrooms\", \"bell peppers\", \"onions\"], \"vegetarian\": False}\n",
    "}\n",
    "\n",
    "# Let's print details of a specific pizza\n",
    "pizza_name = \"Vegetarian\"\n",
    "print(f\"{pizza_name} Pizza:\")\n",
    "print(f\"Ingredients: {', '.join(pizza_details[pizza_name]['ingredients'])}\")\n",
    "print(f\"Vegetarian: {'Yes' if pizza_details[pizza_name]['vegetarian'] else 'No'}\")"
   ]
  },
  {
   "cell_type": "markdown",
   "id": "325f5255-0388-4566-a92c-f9ea5d0392ce",
   "metadata": {},
   "source": [
    "<div class=\"alert alert-block alert-info\">\n",
    "<b>🤖</b> Use Jupyternaut to explain the concept of <b>Dictionaries</b> in Python.</div>"
   ]
  },
  {
   "cell_type": "markdown",
   "id": "321cc112-30c5-465d-aeae-5dee071473bd",
   "metadata": {},
   "source": [
    "Dictionaries allow us to store and retrieve multiple pieces of related information efficiently.\n",
    "\n",
    "Exercise 2 (5 minutes):\n",
    "Add the \"BBQ Chicken\" pizza to our `pizza_details` dictionary. It should have tomato sauce, mozzarella, chicken, and BBQ sauce as ingredients, and it's not vegetarian.\n"
   ]
  },
  {
   "cell_type": "code",
   "execution_count": 7,
   "id": "4a005fd6-43c5-44e9-a635-139e37adadcd",
   "metadata": {},
   "outputs": [],
   "source": [
    "# Your code here to add BBQ Chicken to pizza_details\n"
   ]
  },
  {
   "cell_type": "markdown",
   "id": "f1a5d101-35bb-4d87-b57d-3a7fca8702f9",
   "metadata": {},
   "source": [
    "## Part 4: Sets - Managing Unique Toppings (15 minutes)\n",
    "\n",
    "To help with inventory, we need to know all the unique toppings we use across all our pizzas. Sets are perfect for this as they only store unique items."
   ]
  },
  {
   "cell_type": "code",
   "execution_count": 8,
   "id": "13648e93-1d44-4dcb-b3d5-8aecbbf0db7d",
   "metadata": {},
   "outputs": [
    {
     "name": "stdout",
     "output_type": "stream",
     "text": [
      "All unique toppings used in our pizzas:\n",
      "- sausage\n",
      "- ham\n",
      "- pineapple\n",
      "- pepperoni\n",
      "- mushrooms\n",
      "- mozzarella\n",
      "- tomato sauce\n",
      "- bell peppers\n",
      "- basil\n",
      "- onions\n",
      "- olives\n"
     ]
    }
   ],
   "source": [
    "all_toppings = set()\n",
    "\n",
    "####### ASK JUPYTERNAUT WHAT IS HAPPENING HERE\n",
    "for pizza in pizza_details.values():\n",
    "    all_toppings.update(pizza['ingredients'])\n",
    "#######\n",
    "\n",
    "print(\"All unique toppings used in our pizzas:\")\n",
    "for topping in all_toppings:\n",
    "    print(f\"- {topping}\")\n"
   ]
  },
  {
   "cell_type": "markdown",
   "id": "e5352b1c-08c9-444c-927d-b7f58186fb75",
   "metadata": {},
   "source": [
    "<div class=\"alert alert-block alert-info\">\n",
    "<b>🤖</b> Let Jupyternaut explain what is happening in the highlighted code block.</div>"
   ]
  },
  {
   "cell_type": "markdown",
   "id": "86cb5a63-43be-4bd1-a52a-361d972aa6f1",
   "metadata": {},
   "source": [
    "Sets are unordered collections of unique elements. They're great for removing duplicates and checking membership."
   ]
  },
  {
   "cell_type": "markdown",
   "id": "357eaa64-cbc7-4c49-bdfd-6eee6f9bddee",
   "metadata": {},
   "source": [
    "## Part 5: Comparisons - Making Business Decisions (15 minutes)\n",
    "\n",
    "Let's use comparisons to make some business decisions. We'll create a simple loyalty program based on the number of pizzas ordered."
   ]
  },
  {
   "cell_type": "code",
   "execution_count": 9,
   "id": "453a23d4-82b7-4106-8f05-3dccb4a99a7a",
   "metadata": {},
   "outputs": [
    {
     "name": "stdout",
     "output_type": "stream",
     "text": [
      "A customer who ordered 3 pizzas has Bronze status.\n",
      "A customer who ordered 7 pizzas has Silver status.\n",
      "A customer who ordered 12 pizzas has Gold status.\n"
     ]
    }
   ],
   "source": [
    "def assign_loyalty_status(pizzas_ordered):\n",
    "    if pizzas_ordered < 5:\n",
    "        return \"Bronze\"\n",
    "    elif 5 <= pizzas_ordered < 10:\n",
    "        return \"Silver\"\n",
    "    else:\n",
    "        return \"Gold\"\n",
    "\n",
    "# Test the function\n",
    "test_orders = [3, 7, 12]\n",
    "for order in test_orders:\n",
    "    status = assign_loyalty_status(order)\n",
    "    print(f\"A customer who ordered {order} pizzas has {status} status.\")"
   ]
  },
  {
   "cell_type": "markdown",
   "id": "75ac524d-91d6-40da-9540-7910f16f2513",
   "metadata": {},
   "source": [
    "Comparisons allow us to make decisions in our code based on different conditions.\n",
    "\n",
    "Exercise 3 (5 minutes):\n",
    "Create a function that determines if a pizza order is eligible for free delivery. Orders over $30 are eligible. Use the `calculate_pizza_price` function we created earlier.\n"
   ]
  },
  {
   "cell_type": "code",
   "execution_count": 11,
   "id": "706641cd-d0fb-40cd-91b7-bc7aded99054",
   "metadata": {},
   "outputs": [
    {
     "ename": "SyntaxError",
     "evalue": "incomplete input (778866679.py, line 6)",
     "output_type": "error",
     "traceback": [
      "\u001b[0;36m  Cell \u001b[0;32mIn[11], line 6\u001b[0;36m\u001b[0m\n\u001b[0;31m    # Your code to test the function\u001b[0m\n\u001b[0m                                    ^\u001b[0m\n\u001b[0;31mSyntaxError\u001b[0m\u001b[0;31m:\u001b[0m incomplete input\n"
     ]
    }
   ],
   "source": [
    "# Your free delivery eligibility function here\n",
    "\n",
    "# Test your function\n",
    "test_orders = [(\"Margherita\", \"Small\"), (\"Supreme\", \"Large\"), (\"Vegetarian\", \"Medium\")]\n",
    "for pizza, size in test_orders:\n",
    "    # Your code to test the function"
   ]
  },
  {
   "cell_type": "markdown",
   "id": "d1d70a69-300b-425d-9010-fc0999eb68f3",
   "metadata": {},
   "source": [
    "## Wrap-up and Review (10 minutes)\n",
    "\n",
    "Excellent work! You've significantly upgraded Pizza Paradise's systems. Let's review what we've learned:\n",
    "\n",
    "1. Lists: Ordered, mutable collections, great for managing changing data like our menu.\n",
    "2. Loops: Efficient way to perform repetitive tasks, like processing multiple orders.\n",
    "3. Dictionaries: Key-value pairs for storing detailed information, perfect for our pizza details.\n",
    "4. Sets: Unordered collections of unique items, useful for managing our unique toppings.\n",
    "5. Comparisons: Essential for making decisions in our code, like assigning loyalty status.\n",
    "\n",
    "These tools will help Pizza Paradise manage its booming business more effectively!\n",
    "\n",
    "For additional practice:\n",
    "1. Create a function that returns all vegetarian pizzas from our menu.\n",
    "2. Implement a 'daily special' system that randomly selects a pizza from the menu each day.\n",
    "3. Create a 'custom pizza' function that allows adding toppings from our set of all toppings.\n",
    "\n",
    "Next session, we'll look at how to save our data to files and read it back, ensuring Pizza Paradise can track its sales over time!\n"
   ]
  },
  {
   "cell_type": "code",
   "execution_count": null,
   "id": "a582cd3a-d7d1-43ba-9e21-2948aee8ab7c",
   "metadata": {},
   "outputs": [],
   "source": []
  }
 ],
 "metadata": {
  "kernelspec": {
   "display_name": "Python 3 (ipykernel)",
   "language": "python",
   "name": "python3"
  },
  "language_info": {
   "codemirror_mode": {
    "name": "ipython",
    "version": 3
   },
   "file_extension": ".py",
   "mimetype": "text/x-python",
   "name": "python",
   "nbconvert_exporter": "python",
   "pygments_lexer": "ipython3",
   "version": "3.10.10"
  }
 },
 "nbformat": 4,
 "nbformat_minor": 5
}

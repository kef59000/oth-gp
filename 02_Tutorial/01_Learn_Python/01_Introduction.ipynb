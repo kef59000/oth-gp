{
 "cells": [
  {
   "cell_type": "markdown",
   "id": "e885cf60-71ce-4b36-9c6e-e8aa2dbb97fa",
   "metadata": {},
   "source": [
    "# Welcome to Introduction to Programming (5 minutes)\n",
    "\n",
    "Hello and welcome to your first programming class! Today, we're going to learn some very basic concepts about computers, programming, and the Python language. \n",
    "\n",
    "## What is Programming? (10 minutes)\n",
    "\n",
    "Programming is like giving instructions to a computer. Imagine you're teaching a very literal-minded friend how to make a sandwich. You'd need to explain every single step in detail. That's what programming is like – we write very specific instructions for computers to follow.\n",
    "\n",
    "Computers don't understand human languages like English or German. They operate using a binary system of 0s and 1s. Programming languages, like Python, act as a bridge between human language and machine language.\n",
    "\n",
    "## What is the AI Chatbot?\n",
    "\n",
    "Luckily for us, it has gotten a whole lot easier to talk to Computers recently through the advent of so-called Large Language Models or, more generally, Generative AI.\n",
    "\n",
    "Chatbots are a Game-Changer for programmers and in this course, you will learn why this is the case and how to leverage its full potential.\n",
    "\n",
    "Throughout the course, you will find banners such as this.\n",
    "Whenever you come across this banner, it means that you should interact with Jupyternaut, our very own AI Coding Assistant.\n",
    "Under the hood, Jupyternaut runs OpenAI's ChatGPT 4o-mini, one of the latest and most powerful Large Language Models.\n",
    "It is perfect for coding assistance. Let's try it out!\n",
    "\n",
    "<div class=\"alert alert-block alert-info\">\n",
    "<b>🤖</b> Say hello to Jupyternaut.</div>\n",
    "\n",
    "Let's ask our AI assistant for more information:\n",
    "\n",
    "1. Look at the Jupyter AI chat window on the left side of your screen\n",
    "2. At the bottom, you'll see a place where you can type\n",
    "3. Click in that space\n",
    "4. Type this question exactly: **What are some real-world examples of computer programming?**\n",
    "5. Press the `Enter` key on your keyboard\n",
    "6. Wait for the AI to respond, then read its answer\n",
    "\n",
    "Take a few minutes to read and understand the AI's response. When you're done, we'll continue learning.\n",
    "\n",
    "## Our Learning Environment (10 minutes)\n",
    "\n",
    "You're currently looking at a \"Jupyter Notebook\". This is a special document that lets us mix explanations (like this text) with actual computer code.\n",
    "\n",
    "On your screen, you should see:\n",
    "1. This notebook on the right side\n",
    "2. A chat window on the left side - this is your AI assistant\n",
    "\n",
    "We'll use both of these to help you learn!\n",
    "\n",
    "In this notebook, you'll see two types of boxes (we call them \"cells\"):\n",
    "\n",
    "1. Text cells (like this one) with explanations\n",
    "2. Code cells where you can write and run Python code\n",
    "\n",
    "To move from one cell to the next:\n",
    "1. Use your mouse to click on the next cell, or\n",
    "2. Use the up and down arrow keys on your keyboard\n",
    "\n",
    "Let's try running a code cell:\n",
    "\n",
    "1. Look at the gray box below (that's a code cell)\n",
    "2. Click on it with your mouse to select it\n",
    "3. Press the `Shift` key + the `Enter` key at the same time\n",
    "4. Watch what happens!"
   ]
  },
  {
   "cell_type": "code",
   "execution_count": 3,
   "id": "72df3e8a-e913-4c35-853a-85b1c5d09c9d",
   "metadata": {},
   "outputs": [
    {
     "name": "stdout",
     "output_type": "stream",
     "text": [
      "Hello, World!\n"
     ]
    }
   ],
   "source": [
    "print(\"Hello, World!\")"
   ]
  },
  {
   "cell_type": "markdown",
   "id": "02ac358f-9599-45e7-a5bf-50e893f32135",
   "metadata": {},
   "source": [
    "If you followed those steps, you should see the words \"Hello, World!\" appear below the gray box. Congratulations! You've just run your first Python code!\n",
    "\n",
    "## What Just Happened? (5 minutes)\n",
    "\n",
    "Let's break down what we did:\n",
    "\n",
    "1. The `print()` function in Python is used to display text.\n",
    "2. The text to display goes inside parentheses () and quotation marks \"\".\n",
    "3. When we ran the cell, Python followed our instruction to print the text.\n",
    "\n",
    "But wait, I want to know more!\n",
    "Let's ask Jupyternaut what this mysterious \"Hello World\" passphrase means.\n",
    "\n",
    "<div class=\"alert alert-block alert-info\">\n",
    "<b>🤖</b>Ask Jupyternaut: What is Hello World?</div>\n"
   ]
  },
  {
   "cell_type": "code",
   "execution_count": 6,
   "id": "6023049a-3a69-4cda-986b-605c19a24f45",
   "metadata": {},
   "outputs": [
    {
     "ename": "SyntaxError",
     "evalue": "invalid syntax (2360420440.py, line 3)",
     "output_type": "error",
     "traceback": [
      "\u001b[0;36m  Cell \u001b[0;32mIn[6], line 3\u001b[0;36m\u001b[0m\n\u001b[0;31m    Hello, World ist ein simples Standardprogramm, welches in jeder Programmiersprache von Anfängern dazu verwendet wird, die grundlegende Syntax zu verstehen sowie die Entwicklungsumgebung auf Funktionalität zu überprüfen\u001b[0m\n\u001b[0m                 ^\u001b[0m\n\u001b[0;31mSyntaxError\u001b[0m\u001b[0;31m:\u001b[0m invalid syntax\n"
     ]
    }
   ],
   "source": [
    "# TODO: Write down a short explanation of what Hello, World means and why it is important.\n",
    "\n",
    "Hello, World ist ein simples Standardprogramm, welches in jeder Programmiersprache von Anfängern dazu verwendet wird, die grundlegende Syntax zu verstehen sowie die Entwicklungsumgebung auf Funktionalität zu überprüfen"
   ]
  },
  {
   "cell_type": "markdown",
   "id": "315a3e2b-5bda-42e4-aa4b-5577cecfc5db",
   "metadata": {
    "jp-MarkdownHeadingCollapsed": true
   },
   "source": [
    "## Oh shoot! In case you got an error, Jupyternaut is here to help you.\n",
    "\n",
    "<div class=\"alert alert-block alert-info\">\n",
    "<b>🤖</b>With the Error Cell selected, type /fix in the Jupyternaut window.</div>"
   ]
  },
  {
   "cell_type": "markdown",
   "id": "7fb33403-c72d-4456-bda0-be780730d040",
   "metadata": {},
   "source": [
    "## Introduction to Variables (15 minutes)\n",
    "\n",
    "In programming, we often need to store information for later use. We do this using 'variables'. You can think of a variable like a labeled box where you can put some information.\n",
    "\n",
    "Let's create our first variable:\n",
    "\n",
    "1. Look at the code cell below\n",
    "2. Click on it to select it\n",
    "3. Press Shift+Enter to run it"
   ]
  },
  {
   "cell_type": "code",
   "execution_count": 7,
   "id": "7cf8998e-231a-49c8-956b-1971049bef55",
   "metadata": {},
   "outputs": [
    {
     "name": "stdout",
     "output_type": "stream",
     "text": [
      "Alice\n"
     ]
    }
   ],
   "source": [
    "my_name = \"Alice\"\n",
    "print(my_name)"
   ]
  },
  {
   "cell_type": "markdown",
   "id": "83b827c2-1819-417b-8085-8442d6177e0e",
   "metadata": {},
   "source": [
    "Let's break down what happened:\n",
    "\n",
    "1. We created a variable called `my_name`\n",
    "2. We put the text \"Alice\" into this variable\n",
    "3. We then used `print()` to display what's in the `my_name` variable\n",
    "\n",
    "You can change what's in a variable. Let's try that:\n",
    "\n",
    "1. Look at the code cell below\n",
    "2. Change \"Alice\" to your own name (keep the quotes!)\n",
    "3. Click on the cell and press `Shift`+`Enter` to run it"
   ]
  },
  {
   "cell_type": "code",
   "execution_count": 9,
   "id": "b1ce325c-358a-4acc-86d1-01aa6896eed5",
   "metadata": {},
   "outputs": [
    {
     "name": "stdout",
     "output_type": "stream",
     "text": [
      "Hello, Alice\n"
     ]
    }
   ],
   "source": [
    "# TODO: Change \"Alice\" to your name and see what happens.\n",
    "my_name = \"Alice\"\n",
    "print(\"Hello,\", my_name)"
   ]
  },
  {
   "cell_type": "markdown",
   "id": "035951c3-e2b1-4edd-a2e6-b461b8e5c30b",
   "metadata": {},
   "source": [
    "Great job! You've created and used your first variable.\n",
    "\n",
    "Now, let's ask our AI assistant about variables:\n",
    "\n",
    "1. Go to the AI chat window\n",
    "2. Type this question: Why are variables important in programming?\n",
    "3. Press Enter and read the response\n",
    "\n",
    "Take your time to read and understand the AI's explanation. When you're done, come back here.\n",
    "\n",
    "<div class=\"alert alert-block alert-info\">\n",
    "<b>🤖</b>Ask Jupyternaut about Variables in Programming.</div>"
   ]
  },
  {
   "cell_type": "markdown",
   "id": "14c249dd-d63f-470b-8694-4d040ff29145",
   "metadata": {},
   "source": [
    "## Data Types: Strings and Numbers (20 minutes)\n",
    "\n",
    "In Python, different kinds of data are called \"data types\". We've already used one data type: strings.\n",
    "\n",
    "Strings are used for text, and they always go inside quotes. For example: \"Hello\" or \"Alice\" are strings.\n",
    "\n",
    "Another important data type is numbers. Unlike strings, numbers don't use quotes. Let's try using a number:\n",
    "\n",
    "1. Look at the code cell below\n",
    "2. Click on it and press `Shift`+`Enter` to run it"
   ]
  },
  {
   "cell_type": "code",
   "execution_count": 10,
   "id": "0d3c93fd-78ad-4632-845c-2e11a34d6aa0",
   "metadata": {},
   "outputs": [
    {
     "name": "stdout",
     "output_type": "stream",
     "text": [
      "Age: 25\n"
     ]
    }
   ],
   "source": [
    "my_age = 25\n",
    "print(\"Age:\", my_age)"
   ]
  },
  {
   "cell_type": "markdown",
   "id": "ccc9b657-e1cd-4350-88b8-11603fa3b77a",
   "metadata": {},
   "source": [
    "In this example, `my_age` is a variable that stores a number.\n",
    "\n",
    "Python actually has different types of numbers:\n",
    "\n",
    "1. Integers (int): Whole numbers like 5, -3, 0\n",
    "2. Floating-point numbers (float): Decimal numbers like 3.14, -0.5, 2.0\n",
    "\n",
    "Let's see the difference:"
   ]
  },
  {
   "cell_type": "code",
   "execution_count": 11,
   "id": "aa72d26b-95ab-45f1-a4a4-9367992de8c2",
   "metadata": {},
   "outputs": [
    {
     "name": "stdout",
     "output_type": "stream",
     "text": [
      "Integer: 5\n",
      "Float: 5.0\n"
     ]
    }
   ],
   "source": [
    "integer_number = 5\n",
    "float_number = 5.0\n",
    "\n",
    "print(\"Integer:\", integer_number)\n",
    "print(\"Float:\", float_number)"
   ]
  },
  {
   "cell_type": "markdown",
   "id": "770b6d06-10e1-4b7b-bacb-8d04d8439fa5",
   "metadata": {},
   "source": [
    "Even though these numbers look similar when printed, Python treats them differently in some situations.\n",
    "\n",
    "Let's practice with strings and numbers:\n",
    "\n",
    "1. In the cell below, create a variable called `favorite_color` and set it to your favorite color\n",
    "2. Create another variable called `year_born` and set it to the year you were born\n",
    "3. Print both variables\n",
    "4. Run the cell"
   ]
  },
  {
   "cell_type": "code",
   "execution_count": 14,
   "id": "b71c7936-81e1-4cc3-a883-d53b131cdd62",
   "metadata": {},
   "outputs": [],
   "source": [
    "# Your code here\n"
   ]
  },
  {
   "cell_type": "markdown",
   "id": "dc68d508-5c8f-4454-be69-50b2651167ec",
   "metadata": {},
   "source": [
    "Great job! You've now worked with both string and number variables.\n",
    "\n",
    "## Simple Math with Python (10 minutes)\n",
    "\n",
    "Python can perform mathematical operations. Let's try some:"
   ]
  },
  {
   "cell_type": "code",
   "execution_count": 15,
   "id": "13fd8a2a-63cd-43b6-bb2b-d384ab399a6b",
   "metadata": {},
   "outputs": [
    {
     "name": "stdout",
     "output_type": "stream",
     "text": [
      "Addition: 8\n",
      "Subtraction: 2\n",
      "Multiplication: 15\n",
      "Division: 1.6666666666666667\n"
     ]
    }
   ],
   "source": [
    "a = 5\n",
    "b = 3\n",
    "\n",
    "print(\"Addition:\", a + b)\n",
    "print(\"Subtraction:\", a - b)\n",
    "print(\"Multiplication:\", a * b)\n",
    "print(\"Division:\", a / b)"
   ]
  },
  {
   "cell_type": "markdown",
   "id": "c3371307-078d-41a9-97d3-1152771bd882",
   "metadata": {},
   "source": [
    "Now it's your turn. In the cell below:\n",
    "\n",
    "1. Create two number variables with any values you like\n",
    "2. Perform addition, subtraction, multiplication, and division with these variables\n",
    "3. Print the results\n",
    "4. Run the cell"
   ]
  },
  {
   "cell_type": "code",
   "execution_count": 16,
   "id": "5592d06d-794e-4d43-bfa0-7b41a2148e16",
   "metadata": {},
   "outputs": [],
   "source": [
    "# Your code here\n"
   ]
  },
  {
   "cell_type": "markdown",
   "id": "aa21278a-ca8b-4d1a-a65a-35edd06265e6",
   "metadata": {},
   "source": [
    "Excellent work! You're now doing math with Python."
   ]
  },
  {
   "cell_type": "markdown",
   "id": "d37c3135-1f5b-4db1-bdbd-4818b45d5fa5",
   "metadata": {},
   "source": [
    "## Wrap-up and Review (15 minutes)\n",
    "\n",
    "In this session, we've learned:\n",
    "1. What programming is\n",
    "2. How to use Jupyter Notebooks\n",
    "3. How to use the AI assistant\n",
    "4. What variables are and how to create them\n",
    "5. Two data types: strings (for text) and numbers (integers and floats)\n",
    "6. Basic mathematical operations in Python"
   ]
  },
  {
   "cell_type": "markdown",
   "id": "74eac1d3-c7ec-476d-8cb5-1d46076e69b8",
   "metadata": {},
   "source": [
    "Let's do a final exercise to review:\n",
    "\n",
    "1. Create a variable called `name` and set it to your name\n",
    "2. Create a variable called `birth_year` and set it to the year you were born\n",
    "3. Calculate your age by subtracting `birth_year` from the current year (2024)\n",
    "4. Print a message that says \"Hello, [your name]! You are approximately [age] years old.\"\n",
    "5. Run your code\n",
    "\n",
    "Use the cell below for this exercise:"
   ]
  },
  {
   "cell_type": "code",
   "execution_count": 18,
   "id": "91a07792-e240-4197-ba83-e218a8f16644",
   "metadata": {},
   "outputs": [],
   "source": [
    "# Your review exercise code here\n"
   ]
  },
  {
   "cell_type": "markdown",
   "id": "41ba0859-4297-4007-ab39-3af8803a51a1",
   "metadata": {},
   "source": [
    "<div class=\"alert alert-block alert-info\">\n",
    "<b>🤖</b>Remember: Jupyternaut is here to help you.</div>"
   ]
  },
  {
   "cell_type": "markdown",
   "id": "98b289f2-0b65-482f-9420-7c281fb8fe12",
   "metadata": {},
   "source": [
    "Great job completing your first programming session!\n",
    "\n",
    "For practice at home:\n",
    "1. Think of five things you'd like to keep track of (like favorite movie, number of pets, etc.)\n",
    "2. For each thing, decide if it should be stored as a string or a number\n",
    "3. Write these down and bring your list to the next class\n",
    "\n",
    "Remember, if you have any questions, you can always ask the AI assistant for help!\n",
    "\n",
    "This concludes our first session. You've taken your first big step into the world of programming!\n",
    "\n",
    "## Technically, you are now a programmer. Welcome to the club! 💪🏿"
   ]
  },
  {
   "cell_type": "code",
   "execution_count": null,
   "id": "d528ec95-2199-4c63-9636-9c28aee74645",
   "metadata": {},
   "outputs": [],
   "source": []
  }
 ],
 "metadata": {
  "kernelspec": {
   "display_name": "Python 3 (ipykernel)",
   "language": "python",
   "name": "python3"
  },
  "language_info": {
   "codemirror_mode": {
    "name": "ipython",
    "version": 3
   },
   "file_extension": ".py",
   "mimetype": "text/x-python",
   "name": "python",
   "nbconvert_exporter": "python",
   "pygments_lexer": "ipython3",
   "version": "3.10.10"
  }
 },
 "nbformat": 4,
 "nbformat_minor": 5
}

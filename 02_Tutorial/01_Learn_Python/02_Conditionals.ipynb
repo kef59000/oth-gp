{
 "cells": [
  {
   "cell_type": "markdown",
   "id": "305d7f02-bf3c-48bd-8304-c1d9c30abb4d",
   "metadata": {},
   "source": [
    "# Welcome to Session 2: Expanding Our Python Knowledge\n",
    "\n",
    "Welcome back! In this 90-minute session, we'll build on what we learned last time and introduce some new concepts. Let's get started!"
   ]
  },
  {
   "cell_type": "markdown",
   "id": "cf2232b5-ecbf-4319-b2f5-1899d5cdd2c1",
   "metadata": {},
   "source": [
    "## Quick Review (10 minutes)\n",
    "\n",
    "Let's begin by reviewing what we learned in the last session:\n",
    "\n",
    "1. Variables are like labeled boxes that store information\n",
    "2. Strings are for storing text and use quotes\n",
    "3. Numbers can be integers (whole numbers) or floats (decimal numbers)\n",
    "4. We can perform basic math operations in Python\n",
    "\n",
    "Let's practice with a quick exercise:\n",
    "\n",
    "1. Create a variable `name` with your name\n",
    "2. Create a variable `age` with your age\n",
    "3. Create a variable `height` with your height in meters (use a decimal)\n",
    "4. Print a sentence using all these variables\n",
    "\n",
    "Use the cell below:"
   ]
  },
  {
   "cell_type": "code",
   "execution_count": 1,
   "id": "8fb39957-9111-49a5-beda-21e9972dd005",
   "metadata": {},
   "outputs": [],
   "source": [
    "# Your review code goes here\n"
   ]
  },
  {
   "cell_type": "markdown",
   "id": "e36a2395-909e-4ed2-bd5b-a3684e4026ff",
   "metadata": {},
   "source": [
    "Great job! Now let's move on to new concepts.\n",
    "\n",
    "## More on Data Types: Booleans (15 minutes)\n",
    "\n",
    "We've worked with strings and numbers. Now let's introduce another important data type: Booleans.\n",
    "\n",
    "A Boolean is a data type that can only have two values: True or False. It's named after mathematician George Boole.\n",
    "\n",
    "Let's see how they work:"
   ]
  },
  {
   "cell_type": "code",
   "execution_count": 2,
   "id": "6245afce-f16f-4ed3-b8d6-6537f35bcb0b",
   "metadata": {},
   "outputs": [
    {
     "name": "stdout",
     "output_type": "stream",
     "text": [
      "Are you a student? True\n",
      "Do you like pizza? False\n"
     ]
    }
   ],
   "source": [
    "is_student = True\n",
    "likes_pizza = False\n",
    "\n",
    "print(\"Are you a student?\", is_student)\n",
    "print(\"Do you like pizza?\", likes_pizza)"
   ]
  },
  {
   "cell_type": "markdown",
   "id": "00bdffcb-0101-4266-b750-9805b1b5d3e0",
   "metadata": {},
   "source": [
    "Booleans are often used to represent yes/no or on/off situations. They're crucial for making decisions in our code, which we'll see soon.\n",
    "\n",
    "Let's ask our AI assistant for more information:\n",
    "\n",
    "1. Go to the AI chat window\n",
    "2. Type: **What are some real-world examples where Boolean values might be used in programming?**\n",
    "3. Read the response\n",
    "\n",
    "<div class=\"alert alert-block alert-info\">\n",
    "<b>🤖</b> Ask Jupyternaut about real-world examples for Boolean values.</div>\n",
    "\n",
    "After reading the response, try creating your own Boolean variables:\n",
    "\n",
    "1. Create a variable `is_raining` and set it to either True or False\n",
    "2. Create a variable `is_weekend` and set it appropriately\n",
    "3. Print both variables"
   ]
  },
  {
   "cell_type": "code",
   "execution_count": 3,
   "id": "2c7be1dc-9136-4a42-96c1-8a352a5744a4",
   "metadata": {},
   "outputs": [],
   "source": [
    "# Your Boolean Variables Here\n"
   ]
  },
  {
   "cell_type": "markdown",
   "id": "f4eef54c-e50a-4702-92c2-7d8302010088",
   "metadata": {},
   "source": [
    "Excellent work with Booleans!\n",
    "\n",
    "## Introduction to Conditional Statements (25 minutes)\n",
    "\n",
    "Now that we understand Booleans, we can use them to make decisions in our code. We do this using 'if' statements.\n",
    "\n",
    "An 'if' statement allows the program to do something only if a condition is True. Here's the basic structure:\n",
    "\n",
    "if condition:\n",
    "    \n",
    "    # do something\n",
    "\n",
    "Let's see an example:"
   ]
  },
  {
   "cell_type": "code",
   "execution_count": 6,
   "id": "96870e28-6c62-45e1-a3d7-8f92f2bddb0b",
   "metadata": {},
   "outputs": [
    {
     "name": "stdout",
     "output_type": "stream",
     "text": [
      "You are an adult.\n",
      "This always prints, regardless of age.\n"
     ]
    }
   ],
   "source": [
    "age = 20\n",
    "\n",
    "if age >= 18:\n",
    "    print(\"You are an adult.\")\n",
    "\n",
    "print(\"This always prints, regardless of age.\")"
   ]
  },
  {
   "cell_type": "markdown",
   "id": "09b4fed4-dc42-4457-9d54-e400ef85c304",
   "metadata": {},
   "source": [
    "In this example, the message \"You are an adult.\" only prints if the condition (age >= 18) is True.\n",
    "\n",
    "We can also add an 'else' statement to do something when the condition is False:\n",
    "\n",
    "if condition:\n",
    "    \n",
    "    # do something\n",
    "else:\n",
    "    \n",
    "    # do something else\n",
    "\n",
    "Let's try it:"
   ]
  },
  {
   "cell_type": "code",
   "execution_count": 7,
   "id": "7818e6c2-0360-49d7-bf42-018927a5212f",
   "metadata": {},
   "outputs": [
    {
     "name": "stdout",
     "output_type": "stream",
     "text": [
      "You are not yet an adult.\n"
     ]
    }
   ],
   "source": [
    "age = 15\n",
    "\n",
    "if age >= 18:\n",
    "    print(\"You are an adult.\")\n",
    "else:\n",
    "    print(\"You are not yet an adult.\")"
   ]
  },
  {
   "cell_type": "markdown",
   "id": "98c820a9-d10c-4cfd-91e6-4e5f08a46d34",
   "metadata": {},
   "source": [
    "Now it's your turn. Write a program that:\n",
    "\n",
    "1. Creates a variable `temperature` with a number value\n",
    "2. If the temperature is above 30, print \"It's hot outside!\"\n",
    "3. Otherwise, print \"It's not too hot today.\"\n",
    "\n",
    "Use the code cell below:"
   ]
  },
  {
   "cell_type": "code",
   "execution_count": 8,
   "id": "672f667e-fdb2-4242-b21f-cdcdb0ae5b0c",
   "metadata": {},
   "outputs": [],
   "source": [
    "# Your temperature program here\n"
   ]
  },
  {
   "cell_type": "markdown",
   "id": "1fa8f60d-302e-4d23-9858-46666dacddc6",
   "metadata": {},
   "source": [
    "Great job using conditional statements!\n",
    "\n",
    "## Combining Conditions (20 minutes)\n",
    "\n",
    "We can make more complex decisions by combining conditions. We use:\n",
    "- `and`: both conditions must be True\n",
    "- `or`: at least one condition must be True\n",
    "\n",
    "Let's see an example:\n"
   ]
  },
  {
   "cell_type": "code",
   "execution_count": 9,
   "id": "802b5712-b5bd-4e74-944a-29e26c14edfe",
   "metadata": {},
   "outputs": [
    {
     "name": "stdout",
     "output_type": "stream",
     "text": [
      "You can drive a car.\n"
     ]
    }
   ],
   "source": [
    "age = 25\n",
    "has_license = True\n",
    "\n",
    "if age >= 18 and has_license:\n",
    "    print(\"You can drive a car.\")\n",
    "else:\n",
    "    print(\"You cannot drive a car.\")"
   ]
  },
  {
   "cell_type": "markdown",
   "id": "564578a1-9bcb-443f-be69-a139a88d7e77",
   "metadata": {},
   "source": [
    "Now, let's practice. Write a program that:\n",
    "\n",
    "1. Creates variables for `is_raining` and `is_cold`\n",
    "2. If it's raining and cold, print \"Stay inside!\"\n",
    "3. If it's raining but not cold, print \"Take an umbrella!\"\n",
    "4. If it's not raining but it's cold, print \"Take a jacket!\"\n",
    "5. If it's neither raining nor cold, print \"Great weather!\"\n",
    "\n",
    "**Hint:** You'll need to use `if`, `elif` (else if), and `else`.\n",
    "\n",
    "**Suggestion:** Start writing this code by yourself first to test your understanding and hone your coding skills.\n",
    "\n",
    "**But remember:** Feel free to ask Jupyternaut for help if you get stuck or need further information on any of these concepts or building blocks.\n",
    "\n",
    "For example:\n",
    "\n",
    "<div class=\"alert alert-block alert-info\">\n",
    "<b>🤖</b> Please provide me with a short example of if, elif, else in Python.</div>"
   ]
  },
  {
   "cell_type": "code",
   "execution_count": 10,
   "id": "63439880-22c6-44bb-811d-3cebc422520a",
   "metadata": {},
   "outputs": [],
   "source": [
    "# Your weather program here\n"
   ]
  },
  {
   "cell_type": "markdown",
   "id": "33fa77b0-5e92-43db-a575-f15ae1d38543",
   "metadata": {},
   "source": [
    "Excellent work combining conditions!\n",
    "\n",
    "## Final Exercise and Wrap-up (20 minutes)\n",
    "\n",
    "For our final exercise, let's create a simple quiz game:\n",
    "\n",
    "1. Create a variable `score` starting at 0\n",
    "2. Ask the user a question (you can use `input(\"Your question here? \")`)\n",
    "3. If they answer correctly (you choose the correct answer), increase the score by 1\n",
    "4. Print their final score\n",
    "\n",
    "Here's a start for you:"
   ]
  },
  {
   "cell_type": "code",
   "execution_count": 11,
   "id": "a99d2d96-6319-4ced-8210-9a0df784803a",
   "metadata": {},
   "outputs": [
    {
     "name": "stdin",
     "output_type": "stream",
     "text": [
      "What is the capital of France?  Paris\n"
     ]
    },
    {
     "name": "stdout",
     "output_type": "stream",
     "text": [
      "Correct!\n",
      "Your final score is: 1\n"
     ]
    }
   ],
   "source": [
    "score = 0\n",
    "\n",
    "answer = input(\"What is the capital of France? \")\n",
    "if answer.lower() == \"paris\":\n",
    "    print(\"Correct!\")\n",
    "    score += 1\n",
    "else:\n",
    "    print(\"Sorry, that's incorrect.\")\n",
    "\n",
    "# Add two more questions here\n",
    "\n",
    "print(\"Your final score is:\", score)"
   ]
  },
  {
   "cell_type": "markdown",
   "id": "0dcf42b2-51c8-44c4-bfcc-357d894a66de",
   "metadata": {},
   "source": [
    "Great job completing this session! Let's recap what we've learned:\n",
    "\n",
    "1. We reviewed variables and basic data types\n",
    "2. We learned about Booleans (True/False)\n",
    "3. We introduced conditional statements (if/else)\n",
    "4. We practiced combining conditions with 'and' and 'or'\n",
    "5. We created a simple interactive program\n",
    "\n",
    "For practice at home:\n",
    "1. Try creating more complex quiz games with multiple questions\n",
    "2. Experiment with different types of conditions in your if statements\n",
    "3. Think about how you might use these concepts in real-world situations\n",
    "\n",
    "Remember, you can always ask the AI assistant if you have any questions!\n",
    "\n",
    "You're making great progress in your programming journey!"
   ]
  },
  {
   "cell_type": "code",
   "execution_count": null,
   "id": "003f1680-6c01-4811-b062-15da928c73ca",
   "metadata": {},
   "outputs": [],
   "source": []
  }
 ],
 "metadata": {
  "kernelspec": {
   "display_name": "Python 3 (ipykernel)",
   "language": "python",
   "name": "python3"
  },
  "language_info": {
   "codemirror_mode": {
    "name": "ipython",
    "version": 3
   },
   "file_extension": ".py",
   "mimetype": "text/x-python",
   "name": "python",
   "nbconvert_exporter": "python",
   "pygments_lexer": "ipython3",
   "version": "3.10.10"
  }
 },
 "nbformat": 4,
 "nbformat_minor": 5
}

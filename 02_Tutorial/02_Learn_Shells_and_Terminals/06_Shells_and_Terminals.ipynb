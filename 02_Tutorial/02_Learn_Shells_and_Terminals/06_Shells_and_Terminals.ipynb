{
 "cells": [
  {
   "cell_type": "markdown",
   "metadata": {},
   "source": [
    "# Session 6: Introduction to Shells and Terminals in JupyterHub (90 minutes)"
   ]
  },
  {
   "cell_type": "markdown",
   "metadata": {},
   "source": [
    "# Welcome to Session 6: Mastering Shells and Terminals\n",
    "\n",
    "Welcome back to Pizza Paradise! As our business grows, we need to become more efficient with our development tools. Today, we'll learn about shells and terminals, which are powerful tools that every developer uses daily.\n",
    "\n",
    "## Part 1: Introduction to Shells and Terminals (10 minutes)\n",
    "\n",
    "### What is a Shell?\n",
    "A shell is a command-line interface (CLI) that allows us to interact with our computer using text commands instead of clicking buttons. Think of it as a different way to tell your computer what to do.\n",
    "\n",
    "### Accessing the Terminal in JupyterHub\n",
    "1. Click on the \"+\" button in the top left of your JupyterHub interface\n",
    "2. Select \"Terminal\" from the Launcher menu\n",
    "\n",
    "You should now see a terminal window. This is where we'll be working today.\n"
   ]
  },
  {
   "cell_type": "markdown",
   "metadata": {},
   "source": [
    "### First Commands\n",
    "In your terminal, try these commands:\n",
    "1. Type `pwd` and press Enter (shows your current location)\n",
    "2. Type `whoami` and press Enter (shows your username)\n",
    "3. Type `date` and press Enter (shows current date/time)\n",
    "\n",
    "Try these now in your terminal!\n",
    "\n",
    "<div class=\"alert alert-block alert-warning\">\n",
    "<b>❗</b> These commands are not OS-agnostic. On Linux and MacOS, these work fine. On Windows, there might be issues.</div>"
   ]
  },
  {
   "cell_type": "code",
   "execution_count": null,
   "metadata": {},
   "outputs": [],
   "source": [
    "%%bash\n",
    "# This cell will show the output of these commands\n",
    "pwd\n",
    "whoami\n",
    "date\n"
   ]
  },
  {
   "cell_type": "markdown",
   "metadata": {},
   "source": [
    "# Hold on a second. What just happened?\n",
    "\n",
    "As you can see, from within Jupyter, we can use a so-called \"magic command\" with `%%bash` to tell the Jupyter Interpreter / Compiler that the code within this Code Cell will be BASH (Born-Again Shell) or terminal commands."
   ]
  },
  {
   "cell_type": "markdown",
   "metadata": {},
   "source": [
    "## Part 2: Basic Navigation and File Operations (20 minutes)\n",
    "\n",
    "Let's create a proper project structure for Pizza Paradise. We'll use these essential commands:\n",
    "\n",
    "- `ls`: List files and directories\n",
    "- `cd`: Change directory\n",
    "- `mkdir`: Make directory\n",
    "- `touch`: Create empty file\n",
    "- `rm`: Remove file\n",
    "- `rmdir`: Remove empty directory\n",
    "\n",
    "### Exercise 1: Creating Project Structure\n",
    "\n",
    "Follow these steps in your terminal:\n",
    "\n",
    "1. Create a project directory:\n",
    "```bash\n",
    "mkdir pizza_paradise\n",
    "cd pizza_paradise\n",
    "```\n",
    "2.\tCreate subdirectories:\n",
    "```bash\n",
    "mkdir data\n",
    "mkdir scripts\n",
    "mkdir config\n",
    "```\n",
    "3.\tVerify your structure:\n",
    "```bash\n",
    "ls\n",
    "```\n",
    "Try these commands in your terminal now!"
   ]
  },
  {
   "cell_type": "markdown",
   "metadata": {},
   "source": [
    "Below you find a shorthand snippet to do the same in two lines of condensed code. Both produce the same result."
   ]
  },
  {
   "cell_type": "code",
   "execution_count": null,
   "metadata": {},
   "outputs": [],
   "source": [
    "%%bash\n",
    "# This cell will create our project structure\n",
    "mkdir -p pizza_paradise/{data,scripts,config}\n",
    "ls -R pizza_paradise"
   ]
  },
  {
   "cell_type": "markdown",
   "metadata": {},
   "source": [
    "## Understanding Directory Structure\n",
    "\n",
    "Let's look at some important navigation commands:\n",
    "- `.` represents current directory\n",
    "- `..` represents parent directory\n",
    "- `~` represents home directory\n",
    "\n",
    "Try these commands:\n",
    "\n",
    "```bash\n",
    "cd pizza_paradise\n",
    "pwd\n",
    "cd ..\n",
    "pwd\n",
    "cd ~\n",
    "pwd\n"
   ]
  },
  {
   "cell_type": "markdown",
   "metadata": {},
   "source": [
    "## Exercise 2: Creating Project Files\n",
    "\n",
    "Let's create some files for our project:\n",
    "\n",
    "1.\tNavigate to the project:\n",
    "\n",
    "```bash\n",
    "cd pizza_paradise\n",
    "```\n",
    "\n",
    "2.\tCreate configuration files:\n",
    "\n",
    "```bash\n",
    "touch config/menu.json\n",
    "touch config/prices.json\n",
    "```\n",
    "\n",
    "3.\tCreate script files:\n",
    "\n",
    "```bash\n",
    "touch scripts/process_orders.py\n",
    "touch scripts/generate_report.py\n",
    "```"
   ]
  },
  {
   "cell_type": "code",
   "execution_count": null,
   "metadata": {},
   "outputs": [],
   "source": [
    "%%bash\n",
    "# Create some example files\n",
    "cd pizza_paradise\n",
    "echo '{\"Margherita\": {\"price\": 10.99}}' > config/menu.json\n",
    "echo 'print(\"Processing orders...\")' > scripts/process_orders.py\n",
    "ls -R"
   ]
  },
  {
   "cell_type": "markdown",
   "metadata": {},
   "source": [
    "## Part 3: Working with Python from the Terminal (20 minutes)\n",
    "\n",
    "We can run Python scripts directly from the terminal. Let's try it!\n",
    "\n",
    "### Running Python Scripts\n",
    "\n",
    "1.\tCreate a simple script:\n",
    "\n",
    "```bash\n",
    "echo 'print(\"Welcome to Pizza Paradise!\")' > scripts/welcome.py\n",
    "```\n",
    "\n",
    "2.\tRun it:\n",
    "\n",
    "```bash\n",
    "python scripts/welcome.py\n",
    "````\n",
    "\n",
    "### Managing Python Packages\n",
    "\n",
    "The pip command manages Python packages. Common commands:\n",
    "- `pip list`: Show installed packages\n",
    "- `pip install package_name`: Install a package\n",
    "- `pip uninstall package_name`: Remove a package\n",
    "\n",
    "<div class=\"alert alert-block alert-warning\">\n",
    "<b>❗</b> In Jupyter Hub, by default only Admin users are allowed to install pip packages.</div>\n",
    "\n",
    "Try checking your installed packages:\n",
    "\n",
    "```bash\n",
    "pip list\n",
    "```\n"
   ]
  },
  {
   "cell_type": "code",
   "execution_count": null,
   "metadata": {},
   "outputs": [],
   "source": [
    "%%bash\n",
    "# Show installed packages\n",
    "pip list"
   ]
  },
  {
   "cell_type": "markdown",
   "metadata": {},
   "source": [
    "## Part 4: File Permissions and Management (15 minutes)\n",
    "\n",
    "Unix-like systems (Linux, macOS) use permissions to control file access.\n",
    "\n",
    "Viewing permissions:\n",
    "```bash\n",
    "ls -l\n",
    "```\n",
    "\n",
    "### Understanding permissions:\n",
    "- `r`: read\n",
    "- `w`: write\n",
    "- `x`: execute\n",
    "\n",
    "### Changing permissions:\n",
    "\n",
    "```bash\n",
    "chmod +x scripts/process_orders.py  # Make script executable\n",
    "```"
   ]
  },
  {
   "cell_type": "markdown",
   "metadata": {},
   "source": [
    "## Exercise 3: Managing Permissions\n",
    "\n",
    "1.\tMake all Python scripts executable:\n",
    "\n",
    "```bash\n",
    "chmod +x scripts/*.py\n",
    "````\n",
    "\n",
    "2.\tVerify permissions:\n",
    "\n",
    "```bash\n",
    "ls -l scripts/\n",
    "```"
   ]
  },
  {
   "cell_type": "code",
   "execution_count": null,
   "metadata": {},
   "outputs": [],
   "source": [
    "%%bash\n",
    "# Show file permissions\n",
    "ls -l pizza_paradise/scripts/"
   ]
  },
  {
   "cell_type": "markdown",
   "metadata": {},
   "source": [
    "## Part 5: Terminal Tips and Tricks (15 minutes)\n",
    "\n",
    "### Command History\n",
    "- Press `↑` (up arrow) to see previous commands\n",
    "- Press `↓` (down arrow) to move forward in history\n",
    "- Type `history` to see all commands\n",
    "\n",
    "### Tab Completion\n",
    "1. Start typing a command or path\n",
    "2. Press Tab to auto-complete\n",
    "3. Press Tab twice to see all possibilities\n",
    "\n",
    "### Keyboard Shortcuts\n",
    "- `Ctrl + C`: Cancel current command\n",
    "- `Ctrl + L`: Clear screen\n",
    "- `Ctrl + A`: Move to start of line\n",
    "- `Ctrl + E`: Move to end of line\n",
    "\n",
    "Try these shortcuts in your terminal!"
   ]
  },
  {
   "cell_type": "markdown",
   "metadata": {},
   "source": [
    "## Part 6: Practical Exercises (10 minutes)\n",
    "\n",
    "Let's put it all together with some practical exercises.\n",
    "\n",
    "## Exercise 4: Creating a Backup Script\n",
    "\n",
    "1.\tCreate a backup script:\n",
    "\n",
    "```bash\n",
    "touch scripts/backup.py\n",
    "```\n",
    "\n",
    "2.\tAdd this content to backup.py:\n"
   ]
  },
  {
   "cell_type": "code",
   "execution_count": null,
   "metadata": {},
   "outputs": [],
   "source": [
    "%%writefile pizza_paradise/scripts/backup.py\n",
    "import shutil\n",
    "from datetime import datetime\n",
    "import os\n",
    "\n",
    "def create_backup():\n",
    "    timestamp = datetime.now().strftime(\"%Y%m%d_%H%M%S\")\n",
    "    backup_dir = f\"backup_{timestamp}\"\n",
    "\n",
    "    # Create backup directory\n",
    "    os.makedirs(backup_dir, exist_ok=True)\n",
    "\n",
    "    # Backup config files\n",
    "    shutil.copytree(\"config\", f\"{backup_dir}/config\", dirs_exist_ok=True)\n",
    "\n",
    "    print(f\"Backup created in {backup_dir}\")\n",
    "\n",
<<<<<<< HEAD
    "if __name__ == \"__main__\":\n",
=======
    "if name == \"main\":\n",
>>>>>>> f1e9f9ec5d1625de47e7ab5292eca18344133d70
    "    create_backup()\n"
   ]
  },
  {
   "cell_type": "markdown",
   "metadata": {},
   "source": [
    "3. Run the backup script:\n",
    "\n",
    "```bash\n",
    "python scripts/backup.py\n",
    "```"
   ]
  },
  {
   "cell_type": "markdown",
   "metadata": {},
   "source": [
    "## Exercise 5: Creating an Order Processing Script\n",
    "\n",
    "Create a script that reads orders from a file and processes them:\n",
    "\n",
    "1.\tCreate an orders file:\n",
    "```bash\n",
    "echo \"Margherita,Medium\" > data/orders.txt\n",
    "echo \"Pepperoni,Large\" >> data/orders.txt\n",
    "```\n",
    "\n",
    "2.\tCreate a processing script:"
   ]
  },
  {
   "cell_type": "code",
   "execution_count": null,
   "metadata": {},
   "outputs": [],
   "source": [
    "%%writefile pizza_paradise/scripts/process_orders.py\n",
    "\n",
    "def process_orders(filename):\n",
    "    with open(filename, 'r') as f:\n",
    "        orders = f.readlines()\n",
    "\n",
    "    print(f\"Processing {len(orders)} orders...\")\n",
    "    for order in orders:\n",
    "        pizza, size = order.strip().split(',')\n",
    "        print(f\"Order: {size} {pizza}\")\n",
    "\n",
<<<<<<< HEAD
    "if __name__ == \"__main__\":\n",
=======
    "if name == \"main\":\n",
>>>>>>> f1e9f9ec5d1625de47e7ab5292eca18344133d70
    "    process_orders(\"data/orders.txt\")"
   ]
  },
  {
   "cell_type": "markdown",
   "metadata": {},
   "source": [
    "3. Run the order processing script:\n",
    "\n",
    "```bash\n",
    "python scripts/process_orders.py\n",
    "```"
   ]
  },
  {
   "cell_type": "markdown",
   "metadata": {},
   "source": [
    "## Wrap-up\n",
    "\n",
    "Congratulations! You've learned the basics of working with shells and terminals. You can now:\n",
    "1.\tNavigate the file system\n",
    "2.\tCreate and manage files and directories\n",
    "3.\tRun Python scripts from the terminal\n",
    "4.\tManage file permissions\n",
    "5.\tUse terminal shortcuts and features\n",
    "\n",
    "For practice:\n",
    "1.\tCreate more complex directory structures\n",
    "2.\tWrite shell commands to automate repetitive tasks\n",
    "3.\tExperiment with different terminal commands\n",
    "\n",
    "Next session, we'll learn about Git and version control, building on these terminal skills!"
   ]
  },
  {
   "cell_type": "markdown",
   "metadata": {},
   "source": [
    "# Terminal Command Cheat Sheet\n",
    "\n",
    "## Basic Navigation:\n",
    "- `pwd`: Print working directory\n",
    "- `ls`: List files\n",
    "- `cd`: Change directory\n",
    "- `mkdir`: Create directory\n",
    "- `rmdir`: Remove directory\n",
    "- `touch`: Create empty file\n",
    "- `rm`: Remove file\n",
    "\n",
    "## File Operations:\n",
    "- `cp`: Copy files\n",
    "- `mv`: Move/rename files\n",
    "- `cat`: View file contents\n",
    "- `less`: View file contents page by page\n",
    "- `head`: View start of file\n",
    "- `tail`: View end of file\n",
    "\n",
    "Remember: You can always use `man command` or `command --help` to get help about any command!"
   ]
  },
  {
   "cell_type": "markdown",
   "metadata": {},
   "source": []
  }
 ],
 "metadata": {
  "kernelspec": {
   "display_name": "oth-gp",
   "language": "python",
   "name": "python3"
  },
  "language_info": {
   "codemirror_mode": {
    "name": "ipython",
    "version": 3
   },
   "file_extension": ".py",
   "mimetype": "text/x-python",
   "name": "python",
   "nbconvert_exporter": "python",
   "pygments_lexer": "ipython3",
   "version": "3.12.6"
  }
 },
 "nbformat": 4,
 "nbformat_minor": 2
}

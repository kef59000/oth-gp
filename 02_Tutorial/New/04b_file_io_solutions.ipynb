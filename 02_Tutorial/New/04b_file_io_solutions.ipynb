{
 "cells": [
  {
   "cell_type": "markdown",
   "id": "f3a351c0",
   "metadata": {},
   "source": [
    "\n",
    "# Solutions: File I/O in Python (TXT, CSV, JSON)\n",
    "\n",
    "This notebook contains sample solutions for the exercises in the File I/O tutorial covering TXT, CSV, and JSON files.\n"
   ]
  },
  {
   "cell_type": "markdown",
   "id": "e7ca8517",
   "metadata": {},
   "source": [
    "\n",
    "## 1. Working with TXT Files\n",
    "### Exercise 1\n",
    "Write a program that creates a file called `notes.txt` and writes three lines of text to it.\n"
   ]
  },
  {
   "cell_type": "code",
   "execution_count": null,
   "id": "0e4ed745",
   "metadata": {},
   "outputs": [],
   "source": [
    "\n",
    "with open(\"notes.txt\", \"w\") as file:\n",
    "    file.write(\"First line.\n",
    "\")\n",
    "    file.write(\"Second line.\n",
    "\")\n",
    "    file.write(\"Third line.\n",
    "\")\n"
   ]
  },
  {
   "cell_type": "markdown",
   "id": "38061f00",
   "metadata": {},
   "source": [
    "\n",
    "### Exercise 2\n",
    "Write a program that reads `notes.txt` and prints each line in uppercase.\n"
   ]
  },
  {
   "cell_type": "code",
   "execution_count": null,
   "id": "ef70a780",
   "metadata": {},
   "outputs": [],
   "source": [
    "\n",
    "with open(\"notes.txt\", \"r\") as file:\n",
    "    for line in file:\n",
    "        print(line.strip().upper())\n"
   ]
  },
  {
   "cell_type": "markdown",
   "id": "7cfd6fca",
   "metadata": {},
   "source": [
    "\n",
    "## 2. Working with CSV Files\n",
    "### Exercise 1\n",
    "Write a program that creates a CSV file called `grades.csv` with columns `Name` and `Grade`, and adds three students' grades.\n"
   ]
  },
  {
   "cell_type": "code",
   "execution_count": null,
   "id": "6c586105",
   "metadata": {},
   "outputs": [],
   "source": [
    "\n",
    "import csv\n",
    "\n",
    "grades = [\n",
    "    [\"Name\", \"Grade\"],\n",
    "    [\"Alice\", 85],\n",
    "    [\"Bob\", 92],\n",
    "    [\"Charlie\", 78]\n",
    "]\n",
    "\n",
    "with open(\"grades.csv\", \"w\", newline=\"\") as csvfile:\n",
    "    writer = csv.writer(csvfile)\n",
    "    writer.writerows(grades)\n"
   ]
  },
  {
   "cell_type": "markdown",
   "id": "235e3cea",
   "metadata": {},
   "source": [
    "\n",
    "### Exercise 2\n",
    "Write a program that reads `grades.csv` and prints only the names of students who scored above 80.\n"
   ]
  },
  {
   "cell_type": "code",
   "execution_count": null,
   "id": "9f90b37d",
   "metadata": {},
   "outputs": [],
   "source": [
    "\n",
    "import csv\n",
    "\n",
    "with open(\"grades.csv\", \"r\") as csvfile:\n",
    "    reader = csv.reader(csvfile)\n",
    "    header = next(reader)  # Skip header\n",
    "    for row in reader:\n",
    "        name, grade = row[0], int(row[1])\n",
    "        if grade > 80:\n",
    "            print(name)\n"
   ]
  },
  {
   "cell_type": "markdown",
   "id": "83fd8ca4",
   "metadata": {},
   "source": [
    "\n",
    "## 3. Working with JSON Files\n",
    "### Exercise 1\n",
    "Write a program that creates a JSON file called `book.json` with keys: `title`, `author`, and `year`.\n"
   ]
  },
  {
   "cell_type": "code",
   "execution_count": null,
   "id": "18dd9651",
   "metadata": {},
   "outputs": [],
   "source": [
    "\n",
    "import json\n",
    "\n",
    "book = {\"title\": \"1984\", \"author\": \"George Orwell\", \"year\": 1949}\n",
    "with open(\"book.json\", \"w\") as jsonfile:\n",
    "    json.dump(book, jsonfile)\n"
   ]
  },
  {
   "cell_type": "markdown",
   "id": "ad6891bb",
   "metadata": {},
   "source": [
    "\n",
    "### Exercise 2\n",
    "Write a program that reads `book.json` and prints the value of the `author` key.\n"
   ]
  },
  {
   "cell_type": "code",
   "execution_count": null,
   "id": "752ce406",
   "metadata": {},
   "outputs": [],
   "source": [
    "\n",
    "import json\n",
    "\n",
    "with open(\"book.json\", \"r\") as jsonfile:\n",
    "    book = json.load(jsonfile)\n",
    "    print(book[\"author\"])\n"
   ]
  }
 ],
 "metadata": {},
 "nbformat": 4,
 "nbformat_minor": 5
}

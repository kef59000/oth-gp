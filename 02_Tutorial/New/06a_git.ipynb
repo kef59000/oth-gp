{
 "cells": [
  {
   "cell_type": "markdown",
   "id": "c9e0c4e8",
   "metadata": {},
   "source": [
    "\n",
    "# Git Fundamentals\n",
    "\n",
    "This tutorial introduces you to the basics of Git, a powerful version control system. You'll learn what Git is, key concepts, common commands, and simple workflows. Each section includes explanations, example commands, and exercises for you to practice.\n"
   ]
  },
  {
   "cell_type": "markdown",
   "id": "f7d10e20",
   "metadata": {},
   "source": [
    "\n",
    "## 1. What is Git?\n",
    "Git is a version control system that helps you track changes in your code and collaborate with others. It lets you save versions of your work, go back to previous versions, and work with others on the same project.\n",
    "\n",
    "**Key Concepts:**\n",
    "- **Repository (repo):** A folder tracked by Git.\n",
    "- **Commit:** A snapshot of your changes.\n",
    "- **Branch:** A parallel version of your project.\n",
    "- **Merge:** Combining changes from different branches.\n",
    "\n",
    "**Exercise:**\n",
    "1. In your own words, what is a Git repository?\n",
    "2. Why is version control important for programming projects?\n"
   ]
  },
  {
   "cell_type": "markdown",
   "id": "c7bf45a1",
   "metadata": {},
   "source": [
    "\n",
    "## 2. Initializing and Cloning Repositories\n",
    "- `git init`: Create a new Git repository in your current folder.\n",
    "- `git clone <url>`: Copy an existing repository from the internet.\n",
    "\n",
    "**Example:**\n",
    "```bash\n",
    "git init\n",
    "# or\n",
    "git clone https://github.com/username/repo.git\n",
    "```\n",
    "\n",
    "**Exercises:**\n",
    "1. Create a new folder and initialize it as a Git repository.\n",
    "2. Find a public repository on GitHub and clone it to your computer.\n"
   ]
  },
  {
   "cell_type": "markdown",
   "id": "b204ae99",
   "metadata": {},
   "source": [
    "\n",
    "## 3. Adding and Committing Changes\n",
    "- `git status`: See which files have changed.\n",
    "- `git add <file>`: Stage a file for commit.\n",
    "- `git commit -m \"message\"`: Save your changes with a message.\n",
    "\n",
    "**Example:**\n",
    "```bash\n",
    "echo \"Hello Git\" > hello.txt\n",
    "git add hello.txt\n",
    "git commit -m \"Add hello.txt\"\n",
    "```\n",
    "\n",
    "**Exercises:**\n",
    "1. Create a new file, add some text, and commit it to your repository.\n",
    "2. Change the file, check the status, and commit the changes with a new message.\n"
   ]
  },
  {
   "cell_type": "markdown",
   "id": "d08a5ec0",
   "metadata": {},
   "source": [
    "\n",
    "## 4. Viewing History\n",
    "- `git log`: Show the commit history.\n",
    "\n",
    "**Example:**\n",
    "```bash\n",
    "git log\n",
    "```\n",
    "\n",
    "**Exercises:**\n",
    "1. Run `git log` and see the history of your commits.\n",
    "2. Try `git log --oneline` for a shorter summary.\n"
   ]
  },
  {
   "cell_type": "markdown",
   "id": "0a0a989f",
   "metadata": {},
   "source": [
    "\n",
    "## 5. Branching and Merging\n",
    "- `git branch`: List branches or create a new one.\n",
    "- `git checkout <branch>`: Switch to a branch.\n",
    "- `git merge <branch>`: Merge another branch into your current branch.\n",
    "\n",
    "**Example:**\n",
    "```bash\n",
    "git branch feature\n",
    "git checkout feature\n",
    "echo \"New feature\" > feature.txt\n",
    "git add feature.txt\n",
    "git commit -m \"Add feature.txt\"\n",
    "git checkout main\n",
    "git merge feature\n",
    "```\n",
    "\n",
    "**Exercises:**\n",
    "1. Create a new branch called `experiment` and switch to it.\n",
    "2. Make a change in `experiment`, commit it, then merge it back into `main`.\n"
   ]
  },
  {
   "cell_type": "markdown",
   "id": "9882e668",
   "metadata": {},
   "source": [
    "\n",
    "## 6. Working with Remotes\n",
    "- `git remote add origin <url>`: Link your local repo to a remote one.\n",
    "- `git push`: Upload your commits to the remote repo.\n",
    "- `git pull`: Download new commits from the remote repo.\n",
    "\n",
    "**Example:**\n",
    "```bash\n",
    "git remote add origin https://github.com/username/repo.git\n",
    "git push -u origin main\n",
    "git pull origin main\n",
    "```\n",
    "\n",
    "**Exercises:**\n",
    "1. Add a remote to your repository (you can use a test URL).\n",
    "2. Try pushing your commits (if you have a GitHub account and a remote repo).\n"
   ]
  },
  {
   "cell_type": "markdown",
   "id": "48376062",
   "metadata": {},
   "source": [
    "\n",
    "## 7. Simple Git Workflow\n",
    "A typical workflow:\n",
    "1. Make changes to your files.\n",
    "2. Check status: `git status`\n",
    "3. Stage changes: `git add <file>`\n",
    "4. Commit: `git commit -m \"message\"`\n",
    "5. Push: `git push`\n",
    "\n",
    "**Exercise:**\n",
    "1. Describe the steps you would take to add a new feature to a project using Git.\n",
    "2. What command would you use to see what files have changed?\n"
   ]
  }
 ],
 "metadata": {},
 "nbformat": 4,
 "nbformat_minor": 5
}

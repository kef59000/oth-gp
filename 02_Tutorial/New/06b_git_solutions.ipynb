{
 "cells": [
  {
   "cell_type": "markdown",
   "id": "c070db7d",
   "metadata": {},
   "source": [
    "\n",
    "# Solutions: Git Fundamentals\n",
    "\n",
    "This notebook contains sample solutions for the exercises in the Git Fundamentals tutorial.\n"
   ]
  },
  {
   "cell_type": "markdown",
   "id": "3368c234",
   "metadata": {},
   "source": [
    "\n",
    "## 1. What is Git?\n",
    "**Exercise 1:**\n",
    "In your own words, what is a Git repository?\n"
   ]
  },
  {
   "cell_type": "markdown",
   "id": "a0dad3d2",
   "metadata": {},
   "source": [
    "\n",
    "A Git repository is a folder on your computer that is tracked by Git. It stores all your project files and the history of changes made to them.\n"
   ]
  },
  {
   "cell_type": "markdown",
   "id": "468e11df",
   "metadata": {},
   "source": [
    "\n",
    "**Exercise 2:**\n",
    "Why is version control important for programming projects?\n"
   ]
  },
  {
   "cell_type": "markdown",
   "id": "bc93155b",
   "metadata": {},
   "source": [
    "\n",
    "Version control helps you keep track of changes, collaborate with others, and recover previous versions if something goes wrong.\n"
   ]
  },
  {
   "cell_type": "markdown",
   "id": "75f7f31f",
   "metadata": {},
   "source": [
    "\n",
    "## 2. Initializing and Cloning Repositories\n",
    "**Exercise 1:**\n",
    "Create a new folder and initialize it as a Git repository.\n"
   ]
  },
  {
   "cell_type": "code",
   "execution_count": null,
   "id": "fb923720",
   "metadata": {},
   "outputs": [],
   "source": [
    "\n",
    "!mkdir myproject\n",
    "!cd myproject && git init\n"
   ]
  },
  {
   "cell_type": "markdown",
   "id": "39571a92",
   "metadata": {},
   "source": [
    "\n",
    "**Exercise 2:**\n",
    "Find a public repository on GitHub and clone it to your computer.\n"
   ]
  },
  {
   "cell_type": "code",
   "execution_count": null,
   "id": "9694c2cb",
   "metadata": {},
   "outputs": [],
   "source": [
    "\n",
    "# Example (replace with any public repo):\n",
    "!git clone https://github.com/python/cpython.git\n"
   ]
  },
  {
   "cell_type": "markdown",
   "id": "6c86efda",
   "metadata": {},
   "source": [
    "\n",
    "## 3. Adding and Committing Changes\n",
    "**Exercise 1:**\n",
    "Create a new file, add some text, and commit it to your repository.\n"
   ]
  },
  {
   "cell_type": "code",
   "execution_count": null,
   "id": "89efa737",
   "metadata": {},
   "outputs": [],
   "source": [
    "\n",
    "!echo \"Hello Git\" > hello.txt\n",
    "!git add hello.txt\n",
    "!git commit -m \"Add hello.txt\"\n"
   ]
  },
  {
   "cell_type": "markdown",
   "id": "8717a29b",
   "metadata": {},
   "source": [
    "\n",
    "**Exercise 2:**\n",
    "Change the file, check the status, and commit the changes with a new message.\n"
   ]
  },
  {
   "cell_type": "code",
   "execution_count": null,
   "id": "99ad8670",
   "metadata": {},
   "outputs": [],
   "source": [
    "\n",
    "!echo \"Another line\" >> hello.txt\n",
    "!git status\n",
    "!git add hello.txt\n",
    "!git commit -m \"Update hello.txt with another line\"\n"
   ]
  },
  {
   "cell_type": "markdown",
   "id": "33da94b9",
   "metadata": {},
   "source": [
    "\n",
    "## 4. Viewing History\n",
    "**Exercise 1:**\n",
    "Run `git log` and see the history of your commits.\n"
   ]
  },
  {
   "cell_type": "code",
   "execution_count": null,
   "id": "2dd18455",
   "metadata": {},
   "outputs": [],
   "source": [
    "\n",
    "!git log\n"
   ]
  },
  {
   "cell_type": "markdown",
   "id": "78dd82f2",
   "metadata": {},
   "source": [
    "\n",
    "**Exercise 2:**\n",
    "Try `git log --oneline` for a shorter summary.\n"
   ]
  },
  {
   "cell_type": "code",
   "execution_count": null,
   "id": "7880a20d",
   "metadata": {},
   "outputs": [],
   "source": [
    "\n",
    "!git log --oneline\n"
   ]
  },
  {
   "cell_type": "markdown",
   "id": "b04d0baa",
   "metadata": {},
   "source": [
    "\n",
    "## 5. Branching and Merging\n",
    "**Exercise 1:**\n",
    "Create a new branch called `experiment` and switch to it.\n"
   ]
  },
  {
   "cell_type": "code",
   "execution_count": null,
   "id": "1d455f77",
   "metadata": {},
   "outputs": [],
   "source": [
    "\n",
    "!git branch experiment\n",
    "!git checkout experiment\n"
   ]
  },
  {
   "cell_type": "markdown",
   "id": "cc1e5dc7",
   "metadata": {},
   "source": [
    "\n",
    "**Exercise 2:**\n",
    "Make a change in `experiment`, commit it, then merge it back into `main`.\n"
   ]
  },
  {
   "cell_type": "code",
   "execution_count": null,
   "id": "61696fb8",
   "metadata": {},
   "outputs": [],
   "source": [
    "\n",
    "!echo \"Experiment change\" > experiment.txt\n",
    "!git add experiment.txt\n",
    "!git commit -m \"Add experiment.txt\"\n",
    "!git checkout main\n",
    "!git merge experiment\n"
   ]
  },
  {
   "cell_type": "markdown",
   "id": "48475583",
   "metadata": {},
   "source": [
    "\n",
    "## 6. Working with Remotes\n",
    "**Exercise 1:**\n",
    "Add a remote to your repository (you can use a test URL).\n"
   ]
  },
  {
   "cell_type": "code",
   "execution_count": null,
   "id": "c601f0f7",
   "metadata": {},
   "outputs": [],
   "source": [
    "\n",
    "!git remote add origin https://github.com/username/repo.git\n",
    "!git remote -v\n"
   ]
  },
  {
   "cell_type": "markdown",
   "id": "9857bc42",
   "metadata": {},
   "source": [
    "\n",
    "**Exercise 2:**\n",
    "Try pushing your commits (if you have a GitHub account and a remote repo).\n"
   ]
  },
  {
   "cell_type": "code",
   "execution_count": null,
   "id": "a3500cd2",
   "metadata": {},
   "outputs": [],
   "source": [
    "\n",
    "!git push -u origin main\n"
   ]
  },
  {
   "cell_type": "markdown",
   "id": "601e0cac",
   "metadata": {},
   "source": [
    "\n",
    "## 7. Simple Git Workflow\n",
    "**Exercise 1:**\n",
    "Describe the steps you would take to add a new feature to a project using Git.\n"
   ]
  },
  {
   "cell_type": "markdown",
   "id": "a9b580a4",
   "metadata": {},
   "source": [
    "\n",
    "1. Create a new branch for the feature: `git branch feature`\n",
    "2. Switch to the branch: `git checkout feature`\n",
    "3. Make changes and save files\n",
    "4. Stage changes: `git add <file>`\n",
    "5. Commit: `git commit -m \"Add new feature\"`\n",
    "6. Merge back to main: `git checkout main` then `git merge feature`\n",
    "7. Push to remote: `git push`\n"
   ]
  },
  {
   "cell_type": "markdown",
   "id": "b98d4393",
   "metadata": {},
   "source": [
    "\n",
    "**Exercise 2:**\n",
    "What command would you use to see what files have changed?\n"
   ]
  },
  {
   "cell_type": "code",
   "execution_count": null,
   "id": "5c955ec4",
   "metadata": {},
   "outputs": [],
   "source": [
    "\n",
    "!git status\n"
   ]
  }
 ],
 "metadata": {},
 "nbformat": 4,
 "nbformat_minor": 5
}

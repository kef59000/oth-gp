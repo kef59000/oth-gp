{
 "cells": [
  {
   "cell_type": "markdown",
   "id": "95c2d8fd",
   "metadata": {},
   "source": [
    "\n",
    "# Object-Oriented Programming (OOP) with Python\n",
    "\n",
    "This tutorial introduces you to the basics of Object-Oriented Programming (OOP) in Python. You'll learn about classes, objects, attributes, methods, the `__init__` method, inheritance, and more. Each section includes explanations, example code, and exercises for you to practice.\n"
   ]
  },
  {
   "cell_type": "markdown",
   "id": "e1fbe19c",
   "metadata": {},
   "source": [
    "\n",
    "## 1. Classes and Objects\n",
    "A **class** is like a blueprint for creating objects. An **object** is an instance of a class.\n",
    "\n",
    "**Example:**\n"
   ]
  },
  {
   "cell_type": "code",
   "execution_count": null,
   "id": "94aeb553",
   "metadata": {},
   "outputs": [],
   "source": [
    "\n",
    "class Dog:\n",
    "    pass\n",
    "\n",
    "my_dog = Dog()\n",
    "print(type(my_dog))\n"
   ]
  },
  {
   "cell_type": "markdown",
   "id": "2267a283",
   "metadata": {},
   "source": [
    "\n",
    "### Exercises: Classes and Objects\n",
    "1. Create a class called `Car`.\n",
    "2. Create an object of the `Car` class and print its type.\n"
   ]
  },
  {
   "cell_type": "markdown",
   "id": "c8f3d82f",
   "metadata": {},
   "source": [
    "\n",
    "## 2. Attributes\n",
    "Attributes are variables that belong to a class or object.\n",
    "\n",
    "**Example:**\n"
   ]
  },
  {
   "cell_type": "code",
   "execution_count": null,
   "id": "a6aedaa4",
   "metadata": {},
   "outputs": [],
   "source": [
    "\n",
    "class Cat:\n",
    "    def __init__(self, name):\n",
    "        self.name = name\n",
    "\n",
    "my_cat = Cat(\"Whiskers\")\n",
    "print(my_cat.name)\n"
   ]
  },
  {
   "cell_type": "markdown",
   "id": "38b44cab",
   "metadata": {},
   "source": [
    "\n",
    "### Exercises: Attributes\n",
    "1. Add an attribute `color` to the `Car` class and set it in the constructor.\n",
    "2. Create a `Car` object with a color and print the color.\n"
   ]
  },
  {
   "cell_type": "markdown",
   "id": "f36fcf11",
   "metadata": {},
   "source": [
    "\n",
    "## 3. Methods\n",
    "Methods are functions that belong to a class.\n",
    "\n",
    "**Example:**\n"
   ]
  },
  {
   "cell_type": "code",
   "execution_count": null,
   "id": "f6931b14",
   "metadata": {},
   "outputs": [],
   "source": [
    "\n",
    "class Person:\n",
    "    def __init__(self, name):\n",
    "        self.name = name\n",
    "    def greet(self):\n",
    "        print(f\"Hello, my name is {self.name}.\")\n",
    "\n",
    "p = Person(\"Alice\")\n",
    "p.greet()\n"
   ]
  },
  {
   "cell_type": "markdown",
   "id": "4024ecb1",
   "metadata": {},
   "source": [
    "\n",
    "### Exercises: Methods\n",
    "1. Add a method `drive` to the `Car` class that prints \"Driving...\".\n",
    "2. Create a `Car` object and call its `drive` method.\n"
   ]
  },
  {
   "cell_type": "markdown",
   "id": "345b7f72",
   "metadata": {},
   "source": [
    "\n",
    "## 4. The __init__ Method\n",
    "The `__init__` method is a special method that runs when you create a new object. It is used to initialize attributes.\n",
    "\n",
    "**Example:**\n"
   ]
  },
  {
   "cell_type": "code",
   "execution_count": null,
   "id": "b0f81c64",
   "metadata": {},
   "outputs": [],
   "source": [
    "\n",
    "class Student:\n",
    "    def __init__(self, name, age):\n",
    "        self.name = name\n",
    "        self.age = age\n",
    "\n",
    "s = Student(\"Bob\", 20)\n",
    "print(s.name, s.age)\n"
   ]
  },
  {
   "cell_type": "markdown",
   "id": "53a56625",
   "metadata": {},
   "source": [
    "\n",
    "### Exercises: __init__ Method\n",
    "1. Update the `Car` class to take `brand` and `year` as attributes in the constructor.\n",
    "2. Create a `Car` object with brand and year, and print both attributes.\n"
   ]
  },
  {
   "cell_type": "markdown",
   "id": "35ced48d",
   "metadata": {},
   "source": [
    "\n",
    "## 5. Inheritance\n",
    "Inheritance lets you create a new class based on an existing class. The new class (child) inherits attributes and methods from the existing class (parent).\n",
    "\n",
    "**Example:**\n"
   ]
  },
  {
   "cell_type": "code",
   "execution_count": null,
   "id": "8d1d304c",
   "metadata": {},
   "outputs": [],
   "source": [
    "\n",
    "class Animal:\n",
    "    def speak(self):\n",
    "        print(\"Some sound\")\n",
    "\n",
    "class Dog(Animal):\n",
    "    def speak(self):\n",
    "        print(\"Woof!\")\n",
    "\n",
    "my_dog = Dog()\n",
    "my_dog.speak()\n"
   ]
  },
  {
   "cell_type": "markdown",
   "id": "f6526676",
   "metadata": {},
   "source": [
    "\n",
    "### Exercises: Inheritance\n",
    "1. Create a class `ElectricCar` that inherits from `Car`.\n",
    "2. Add a method `charge` to `ElectricCar` that prints \"Charging...\".\n"
   ]
  },
  {
   "cell_type": "markdown",
   "id": "a92ba089",
   "metadata": {},
   "source": [
    "\n",
    "## 6. Putting It All Together\n",
    "Try creating your own class with attributes and methods. Experiment with inheritance and method overriding.\n",
    "\n",
    "**Exercise:**\n",
    "1. Create a class `Book` with attributes `title` and `author`, and a method `describe` that prints both.\n",
    "2. Create a class `EBook` that inherits from `Book` and adds an attribute `file_size`.\n"
   ]
  }
 ],
 "metadata": {},
 "nbformat": 4,
 "nbformat_minor": 5
}

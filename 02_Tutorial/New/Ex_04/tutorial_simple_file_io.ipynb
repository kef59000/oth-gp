{
 "cells": [
  {
   "cell_type": "markdown",
   "id": "81db0870",
   "metadata": {},
   "source": [
    "\n",
    "# File I/O in Python: TXT, CSV, and JSON\n",
    "\n",
    "In this tutorial, you'll learn how to read from and write to three common file types in Python: **TXT, CSV, and JSON**. Each section includes explanations, examples, and exercises for you to practice.\n"
   ]
  },
  {
   "cell_type": "markdown",
   "id": "5bad2a34",
   "metadata": {},
   "source": [
    "\n",
    "## 1. Working with TXT Files\n",
    "Text files are the simplest way to store data. You can use Python's built-in `open()` function to read and write text files.\n",
    "\n",
    "**Writing to a TXT file:**\n"
   ]
  },
  {
   "cell_type": "code",
   "execution_count": null,
   "id": "3c03da4f",
   "metadata": {},
   "outputs": [],
   "source": [
    "\n",
    "with open(\"sample.txt\", \"w\") as file:\n",
    "    file.write(\"Hello, world!\n",
    "\")\n",
    "    file.write(\"This is a text file.\n",
    "\")\n"
   ]
  },
  {
   "cell_type": "markdown",
   "id": "26d958b1",
   "metadata": {},
   "source": [
    "\n",
    "**Reading from a TXT file:**\n"
   ]
  },
  {
   "cell_type": "code",
   "execution_count": null,
   "id": "902b0797",
   "metadata": {},
   "outputs": [],
   "source": [
    "\n",
    "with open(\"sample.txt\", \"r\") as file:\n",
    "    content = file.read()\n",
    "    print(content)\n"
   ]
  },
  {
   "cell_type": "markdown",
   "id": "523691a7",
   "metadata": {},
   "source": [
    "\n",
    "### Exercises: TXT Files\n",
    "1. Write a program that creates a file called `notes.txt` and writes three lines of text to it.\n",
    "2. Write a program that reads `notes.txt` and prints each line in uppercase.\n"
   ]
  },
  {
   "cell_type": "markdown",
   "id": "1983829c",
   "metadata": {},
   "source": [
    "\n",
    "## 2. Working with CSV Files\n",
    "CSV (Comma-Separated Values) files are used to store tabular data. Python's `csv` module makes it easy to read and write CSV files.\n",
    "\n",
    "**Writing to a CSV file:**\n"
   ]
  },
  {
   "cell_type": "code",
   "execution_count": null,
   "id": "bc6c2b39",
   "metadata": {},
   "outputs": [],
   "source": [
    "\n",
    "import csv\n",
    "\n",
    "with open(\"people.csv\", \"w\", newline=\"\") as csvfile:\n",
    "    writer = csv.writer(csvfile)\n",
    "    writer.writerow([\"Name\", \"Age\"])\n",
    "    writer.writerow([\"Alice\", 30])\n",
    "    writer.writerow([\"Bob\", 25])\n"
   ]
  },
  {
   "cell_type": "markdown",
   "id": "bbb9f96e",
   "metadata": {},
   "source": [
    "\n",
    "**Reading from a CSV file:**\n"
   ]
  },
  {
   "cell_type": "code",
   "execution_count": null,
   "id": "d67e54b8",
   "metadata": {},
   "outputs": [],
   "source": [
    "\n",
    "import csv\n",
    "\n",
    "with open(\"people.csv\", \"r\") as csvfile:\n",
    "    reader = csv.reader(csvfile)\n",
    "    for row in reader:\n",
    "        print(row)\n"
   ]
  },
  {
   "cell_type": "markdown",
   "id": "0cb573f4",
   "metadata": {},
   "source": [
    "\n",
    "### Exercises: CSV Files\n",
    "1. Write a program that creates a CSV file called `grades.csv` with columns `Name` and `Grade`, and adds three students' grades.\n",
    "2. Write a program that reads `grades.csv` and prints only the names of students who scored above 80.\n"
   ]
  },
  {
   "cell_type": "markdown",
   "id": "666e1dfa",
   "metadata": {},
   "source": [
    "\n",
    "## 3. Working with JSON Files\n",
    "JSON (JavaScript Object Notation) is a popular format for storing structured data. Python's `json` module lets you read and write JSON files easily.\n",
    "\n",
    "**Writing to a JSON file:**\n"
   ]
  },
  {
   "cell_type": "code",
   "execution_count": null,
   "id": "b8ef9cdc",
   "metadata": {},
   "outputs": [],
   "source": [
    "\n",
    "import json\n",
    "\n",
    "data = {\"name\": \"Alice\", \"age\": 30, \"city\": \"Berlin\"}\n",
    "with open(\"person.json\", \"w\") as jsonfile:\n",
    "    json.dump(data, jsonfile)\n"
   ]
  },
  {
   "cell_type": "markdown",
   "id": "d7b7bee7",
   "metadata": {},
   "source": [
    "\n",
    "**Reading from a JSON file:**\n"
   ]
  },
  {
   "cell_type": "code",
   "execution_count": null,
   "id": "92207d1d",
   "metadata": {},
   "outputs": [],
   "source": [
    "\n",
    "import json\n",
    "\n",
    "with open(\"person.json\", \"r\") as jsonfile:\n",
    "    data = json.load(jsonfile)\n",
    "    print(data)\n"
   ]
  },
  {
   "cell_type": "markdown",
   "id": "e1879c4e",
   "metadata": {},
   "source": [
    "\n",
    "### Exercises: JSON Files\n",
    "1. Write a program that creates a JSON file called `book.json` with keys: `title`, `author`, and `year`.\n",
    "2. Write a program that reads `book.json` and prints the value of the `author` key.\n"
   ]
  }
 ],
 "metadata": {},
 "nbformat": 4,
 "nbformat_minor": 5
}

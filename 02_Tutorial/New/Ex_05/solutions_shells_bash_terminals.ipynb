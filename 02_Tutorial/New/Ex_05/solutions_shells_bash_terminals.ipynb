{
 "cells": [
  {
   "cell_type": "markdown",
   "id": "64398991",
   "metadata": {},
   "source": [
    "\n",
    "# Solutions: Shells, Bash, and Terminals\n",
    "\n",
    "This notebook contains sample solutions for the exercises in the Shells, Bash, and Terminals tutorial.\n"
   ]
  },
  {
   "cell_type": "markdown",
   "id": "f8dd38ab",
   "metadata": {},
   "source": [
    "\n",
    "## 1. What is a Shell and a Terminal?\n",
    "**Exercise 1:**\n",
    "Open your terminal (or Command Prompt/PowerShell on Windows). What shell are you using?\n"
   ]
  },
  {
   "cell_type": "code",
   "execution_count": null,
   "id": "75802c1c",
   "metadata": {},
   "outputs": [],
   "source": [
    "\n",
    "# On Linux/macOS:\n",
    "!echo $SHELL\n",
    "# On Windows:\n",
    "!echo %COMSPEC%\n"
   ]
  },
  {
   "cell_type": "markdown",
   "id": "197e5a2e",
   "metadata": {},
   "source": [
    "\n",
    "**Exercise 2:**\n",
    "Find out how to open a terminal on your operating system.\n"
   ]
  },
  {
   "cell_type": "markdown",
   "id": "8208bd74",
   "metadata": {},
   "source": [
    "\n",
    "# Solution:\n",
    "- **Windows:** Search for \"Command Prompt\" or \"PowerShell\" in the Start menu.\n",
    "- **macOS:** Open \"Terminal\" from Applications > Utilities.\n",
    "- **Linux:** Press Ctrl+Alt+T or search for \"Terminal\" in your applications menu.\n"
   ]
  },
  {
   "cell_type": "markdown",
   "id": "fba24a0f",
   "metadata": {},
   "source": [
    "\n",
    "## 2. Basic Terminal Usage and Navigation\n",
    "**Exercise 1:**\n",
    "Use `pwd` to see your current directory. Then use `ls` to list its contents.\n"
   ]
  },
  {
   "cell_type": "code",
   "execution_count": null,
   "id": "0ad80276",
   "metadata": {},
   "outputs": [],
   "source": [
    "\n",
    "!pwd\n",
    "!ls\n"
   ]
  },
  {
   "cell_type": "markdown",
   "id": "440b282c",
   "metadata": {},
   "source": [
    "\n",
    "**Exercise 2:**\n",
    "Change to your home directory using `cd ~` and list the files there.\n"
   ]
  },
  {
   "cell_type": "code",
   "execution_count": null,
   "id": "46d4ee3b",
   "metadata": {},
   "outputs": [],
   "source": [
    "\n",
    "!cd ~\n",
    "!ls ~\n"
   ]
  },
  {
   "cell_type": "markdown",
   "id": "de9b22f7",
   "metadata": {},
   "source": [
    "\n",
    "## 3. Working with Files and Directories\n",
    "**Exercise 1:**\n",
    "Create a directory called `practice` and a file called `hello.txt` inside it.\n"
   ]
  },
  {
   "cell_type": "code",
   "execution_count": null,
   "id": "39cd570b",
   "metadata": {},
   "outputs": [],
   "source": [
    "\n",
    "!mkdir -p practice\n",
    "!touch practice/hello.txt\n",
    "!ls practice\n"
   ]
  },
  {
   "cell_type": "markdown",
   "id": "f056079b",
   "metadata": {},
   "source": [
    "\n",
    "**Exercise 2:**\n",
    "Copy `hello.txt` to your home directory, then delete the original file in `practice`.\n"
   ]
  },
  {
   "cell_type": "code",
   "execution_count": null,
   "id": "6d7ba2dc",
   "metadata": {},
   "outputs": [],
   "source": [
    "\n",
    "!cp practice/hello.txt ~/\n",
    "!rm practice/hello.txt\n",
    "!ls ~\n"
   ]
  },
  {
   "cell_type": "markdown",
   "id": "8c417079",
   "metadata": {},
   "source": [
    "\n",
    "## 4. Viewing File Contents\n",
    "**Exercise 1:**\n",
    "Use `cat` to display the contents of `hello.txt`.\n"
   ]
  },
  {
   "cell_type": "code",
   "execution_count": null,
   "id": "0f9b5459",
   "metadata": {},
   "outputs": [],
   "source": [
    "\n",
    "!cat ~/hello.txt\n"
   ]
  },
  {
   "cell_type": "markdown",
   "id": "cc40940a",
   "metadata": {},
   "source": [
    "\n",
    "**Exercise 2:**\n",
    "Use `head` and `tail` to view the first and last lines of any text file.\n"
   ]
  },
  {
   "cell_type": "code",
   "execution_count": null,
   "id": "878222f5",
   "metadata": {},
   "outputs": [],
   "source": [
    "\n",
    "!head ~/hello.txt\n",
    "!tail ~/hello.txt\n"
   ]
  },
  {
   "cell_type": "markdown",
   "id": "ce33454d",
   "metadata": {},
   "source": [
    "\n",
    "## 5. Running Programs and Scripts\n",
    "**Exercise 1:**\n",
    "Create a simple Python script that prints \"Hello from Python!\" and run it from the terminal.\n"
   ]
  },
  {
   "cell_type": "code",
   "execution_count": null,
   "id": "a4eed598",
   "metadata": {},
   "outputs": [],
   "source": [
    "\n",
    "with open(\"hello_python.py\", \"w\") as f:\n",
    "    f.write('print(\"Hello from Python!\")\n",
    "')\n",
    "!python hello_python.py\n"
   ]
  },
  {
   "cell_type": "markdown",
   "id": "2e52632a",
   "metadata": {},
   "source": [
    "\n",
    "**Exercise 2:**\n",
    "Create a Bash script that prints \"Hello from Bash!\" and run it from the terminal.\n"
   ]
  },
  {
   "cell_type": "code",
   "execution_count": null,
   "id": "04a7b44f",
   "metadata": {},
   "outputs": [],
   "source": [
    "\n",
    "with open(\"hello_bash.sh\", \"w\") as f:\n",
    "    f.write('#!/bin/bash\n",
    "echo \"Hello from Bash!\"\n",
    "')\n",
    "!chmod +x hello_bash.sh\n",
    "!bash hello_bash.sh\n"
   ]
  },
  {
   "cell_type": "markdown",
   "id": "1520c47e",
   "metadata": {},
   "source": [
    "\n",
    "## 6. Redirection and Pipes\n",
    "**Exercise 1:**\n",
    "Use `echo` to write \"This is a test\" to a file called `test.txt`.\n"
   ]
  },
  {
   "cell_type": "code",
   "execution_count": null,
   "id": "55fd2ce4",
   "metadata": {},
   "outputs": [],
   "source": [
    "\n",
    "!echo \"This is a test\" > test.txt\n",
    "!cat test.txt\n"
   ]
  },
  {
   "cell_type": "markdown",
   "id": "125a4b52",
   "metadata": {},
   "source": [
    "\n",
    "**Exercise 2:**\n",
    "Use `cat` and `|` to count the number of lines in `test.txt` (hint: `wc -l`).\n"
   ]
  },
  {
   "cell_type": "code",
   "execution_count": null,
   "id": "b09aa986",
   "metadata": {},
   "outputs": [],
   "source": [
    "\n",
    "!cat test.txt | wc -l\n"
   ]
  },
  {
   "cell_type": "markdown",
   "id": "3b56536e",
   "metadata": {},
   "source": [
    "\n",
    "## 7. Getting Help\n",
    "**Exercise 1:**\n",
    "Use `man` to read about the `cp` command.\n"
   ]
  },
  {
   "cell_type": "code",
   "execution_count": null,
   "id": "92c2dbe9",
   "metadata": {},
   "outputs": [],
   "source": [
    "\n",
    "# In a real terminal, run:\n",
    "# man cp\n",
    "# In Jupyter, you can try:\n",
    "!cp --help | head -20\n"
   ]
  },
  {
   "cell_type": "markdown",
   "id": "6b51cdf5",
   "metadata": {},
   "source": [
    "\n",
    "**Exercise 2:**\n",
    "Use `--help` to learn about options for the `mkdir` command.\n"
   ]
  },
  {
   "cell_type": "code",
   "execution_count": null,
   "id": "bb30a57f",
   "metadata": {},
   "outputs": [],
   "source": [
    "\n",
    "!mkdir --help | head -20\n"
   ]
  },
  {
   "cell_type": "markdown",
   "id": "641b6f00",
   "metadata": {},
   "source": [
    "\n",
    "## 8. Bash Scripting Basics\n",
    "**Exercise 1:**\n",
    "Write a Bash script that prints your name using a variable.\n"
   ]
  },
  {
   "cell_type": "code",
   "execution_count": null,
   "id": "8b8db1af",
   "metadata": {},
   "outputs": [],
   "source": [
    "\n",
    "with open(\"print_name.sh\", \"w\") as f:\n",
    "    f.write('#!/bin/bash\n",
    "name=\"YourName\"\n",
    "echo $name\n",
    "')\n",
    "!chmod +x print_name.sh\n",
    "!bash print_name.sh\n"
   ]
  },
  {
   "cell_type": "markdown",
   "id": "32c61287",
   "metadata": {},
   "source": [
    "\n",
    "**Exercise 2:**\n",
    "Write a Bash script that prints numbers from 1 to 5 using a loop.\n"
   ]
  },
  {
   "cell_type": "code",
   "execution_count": null,
   "id": "4ff0e4f0",
   "metadata": {},
   "outputs": [],
   "source": [
    "\n",
    "with open(\"print_numbers.sh\", \"w\") as f:\n",
    "    f.write('#!/bin/bash\n",
    "for i in 1 2 3 4 5; do\n",
    "  echo $i\n",
    "done\n",
    "')\n",
    "!chmod +x print_numbers.sh\n",
    "!bash print_numbers.sh\n"
   ]
  },
  {
   "cell_type": "markdown",
   "id": "d6cfa3c9",
   "metadata": {},
   "source": [
    "\n",
    "**Exercise 3:**\n",
    "Write a Bash script that checks if a variable is equal to \"student\" and prints a message if true.\n"
   ]
  },
  {
   "cell_type": "code",
   "execution_count": null,
   "id": "33ea417e",
   "metadata": {},
   "outputs": [],
   "source": [
    "\n",
    "with open(\"check_student.sh\", \"w\") as f:\n",
    "    f.write('#!/bin/bash\n",
    "role=\"student\"\n",
    "if [ \"$role\" = \"student\" ]; then\n",
    "  echo \"You are a student!\"\n",
    "fi\n",
    "')\n",
    "!chmod +x check_student.sh\n",
    "!bash check_student.sh\n"
   ]
  }
 ],
 "metadata": {},
 "nbformat": 4,
 "nbformat_minor": 5
}

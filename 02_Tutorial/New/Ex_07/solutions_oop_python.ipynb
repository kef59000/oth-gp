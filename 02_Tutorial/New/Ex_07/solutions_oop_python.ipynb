{
 "cells": [
  {
   "cell_type": "markdown",
   "id": "87890f0a",
   "metadata": {},
   "source": [
    "\n",
    "# Solutions: Object-Oriented Programming (OOP) with Python\n",
    "\n",
    "This notebook contains sample solutions for the exercises in the OOP with Python tutorial.\n"
   ]
  },
  {
   "cell_type": "markdown",
   "id": "79ecf4ce",
   "metadata": {},
   "source": [
    "\n",
    "## 1. Classes and Objects\n",
    "### Exercise 1\n",
    "Create a class called `Car`.\n"
   ]
  },
  {
   "cell_type": "code",
   "execution_count": null,
   "id": "883b5b5c",
   "metadata": {},
   "outputs": [],
   "source": [
    "\n",
    "class Car:\n",
    "    pass\n"
   ]
  },
  {
   "cell_type": "markdown",
   "id": "543a31a3",
   "metadata": {},
   "source": [
    "\n",
    "### Exercise 2\n",
    "Create an object of the `Car` class and print its type.\n"
   ]
  },
  {
   "cell_type": "code",
   "execution_count": null,
   "id": "3648d05c",
   "metadata": {},
   "outputs": [],
   "source": [
    "\n",
    "my_car = Car()\n",
    "print(type(my_car))\n"
   ]
  },
  {
   "cell_type": "markdown",
   "id": "e86f93b4",
   "metadata": {},
   "source": [
    "\n",
    "## 2. Attributes\n",
    "### Exercise 1\n",
    "Add an attribute `color` to the `Car` class and set it in the constructor.\n"
   ]
  },
  {
   "cell_type": "code",
   "execution_count": null,
   "id": "e24ac4e3",
   "metadata": {},
   "outputs": [],
   "source": [
    "\n",
    "class Car:\n",
    "    def __init__(self, color):\n",
    "        self.color = color\n"
   ]
  },
  {
   "cell_type": "markdown",
   "id": "49bef32a",
   "metadata": {},
   "source": [
    "\n",
    "### Exercise 2\n",
    "Create a `Car` object with a color and print the color.\n"
   ]
  },
  {
   "cell_type": "code",
   "execution_count": null,
   "id": "b734d6f5",
   "metadata": {},
   "outputs": [],
   "source": [
    "\n",
    "my_car = Car(\"red\")\n",
    "print(my_car.color)\n"
   ]
  },
  {
   "cell_type": "markdown",
   "id": "5102544b",
   "metadata": {},
   "source": [
    "\n",
    "## 3. Methods\n",
    "### Exercise 1\n",
    "Add a method `drive` to the `Car` class that prints \"Driving...\".\n"
   ]
  },
  {
   "cell_type": "code",
   "execution_count": null,
   "id": "8c4b9367",
   "metadata": {},
   "outputs": [],
   "source": [
    "\n",
    "class Car:\n",
    "    def __init__(self, color):\n",
    "        self.color = color\n",
    "    def drive(self):\n",
    "        print(\"Driving...\")\n"
   ]
  },
  {
   "cell_type": "markdown",
   "id": "5842cc2d",
   "metadata": {},
   "source": [
    "\n",
    "### Exercise 2\n",
    "Create a `Car` object and call its `drive` method.\n"
   ]
  },
  {
   "cell_type": "code",
   "execution_count": null,
   "id": "3bf55df9",
   "metadata": {},
   "outputs": [],
   "source": [
    "\n",
    "my_car = Car(\"blue\")\n",
    "my_car.drive()\n"
   ]
  },
  {
   "cell_type": "markdown",
   "id": "e84dc622",
   "metadata": {},
   "source": [
    "\n",
    "## 4. The __init__ Method\n",
    "### Exercise 1\n",
    "Update the `Car` class to take `brand` and `year` as attributes in the constructor.\n"
   ]
  },
  {
   "cell_type": "code",
   "execution_count": null,
   "id": "26a1e785",
   "metadata": {},
   "outputs": [],
   "source": [
    "\n",
    "class Car:\n",
    "    def __init__(self, brand, year):\n",
    "        self.brand = brand\n",
    "        self.year = year\n"
   ]
  },
  {
   "cell_type": "markdown",
   "id": "62238193",
   "metadata": {},
   "source": [
    "\n",
    "### Exercise 2\n",
    "Create a `Car` object with brand and year, and print both attributes.\n"
   ]
  },
  {
   "cell_type": "code",
   "execution_count": null,
   "id": "b89aea1a",
   "metadata": {},
   "outputs": [],
   "source": [
    "\n",
    "my_car = Car(\"Toyota\", 2022)\n",
    "print(my_car.brand, my_car.year)\n"
   ]
  },
  {
   "cell_type": "markdown",
   "id": "f8d8d90d",
   "metadata": {},
   "source": [
    "\n",
    "## 5. Inheritance\n",
    "### Exercise 1\n",
    "Create a class `ElectricCar` that inherits from `Car`.\n"
   ]
  },
  {
   "cell_type": "code",
   "execution_count": null,
   "id": "8f77364a",
   "metadata": {},
   "outputs": [],
   "source": [
    "\n",
    "class ElectricCar(Car):\n",
    "    pass\n"
   ]
  },
  {
   "cell_type": "markdown",
   "id": "3777e256",
   "metadata": {},
   "source": [
    "\n",
    "### Exercise 2\n",
    "Add a method `charge` to `ElectricCar` that prints \"Charging...\".\n"
   ]
  },
  {
   "cell_type": "code",
   "execution_count": null,
   "id": "04f01afb",
   "metadata": {},
   "outputs": [],
   "source": [
    "\n",
    "class ElectricCar(Car):\n",
    "    def charge(self):\n",
    "        print(\"Charging...\")\n"
   ]
  },
  {
   "cell_type": "markdown",
   "id": "935d08b0",
   "metadata": {},
   "source": [
    "\n",
    "## 6. Putting It All Together\n",
    "### Exercise 1\n",
    "Create a class `Book` with attributes `title` and `author`, and a method `describe` that prints both.\n"
   ]
  },
  {
   "cell_type": "code",
   "execution_count": null,
   "id": "73afc50b",
   "metadata": {},
   "outputs": [],
   "source": [
    "\n",
    "class Book:\n",
    "    def __init__(self, title, author):\n",
    "        self.title = title\n",
    "        self.author = author\n",
    "    def describe(self):\n",
    "        print(f\"{self.title} by {self.author}\")\n",
    "\n",
    "b = Book(\"1984\", \"George Orwell\")\n",
    "b.describe()\n"
   ]
  },
  {
   "cell_type": "markdown",
   "id": "4b79a094",
   "metadata": {},
   "source": [
    "\n",
    "### Exercise 2\n",
    "Create a class `EBook` that inherits from `Book` and adds an attribute `file_size`.\n"
   ]
  },
  {
   "cell_type": "code",
   "execution_count": null,
   "id": "03b5feb5",
   "metadata": {},
   "outputs": [],
   "source": [
    "\n",
    "class EBook(Book):\n",
    "    def __init__(self, title, author, file_size):\n",
    "        super().__init__(title, author)\n",
    "        self.file_size = file_size\n",
    "\n",
    "my_ebook = EBook(\"Digital Fortress\", \"Dan Brown\", 2.5)\n",
    "print(my_ebook.title, my_ebook.author, my_ebook.file_size)\n"
   ]
  }
 ],
 "metadata": {},
 "nbformat": 4,
 "nbformat_minor": 5
}

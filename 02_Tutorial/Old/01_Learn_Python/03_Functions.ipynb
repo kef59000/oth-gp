{
 "cells": [
  {
   "cell_type": "markdown",
   "id": "5c7fc98f-eaf8-4952-84cf-7921ad6833ed",
   "metadata": {},
   "source": [
    "# Session 3: Functions, Scope, and Debugging (90 minutes)\n",
    "\n",
    "# Welcome to Session 3: Functions, Scope, and Debugging\n",
    "\n",
    "In this session, we'll cover several important topics that will enhance your programming capabilities:\n",
    "1. Brief review of variable types\n",
    "2. Functions\n",
    "3. Scope\n",
    "4. Testing and Debugging\n",
    "\n",
    "Let's dive in!\n",
    "\n",
    "## Quick Review of Variable Types (10 minutes)\n",
    "\n",
    "We've already worked with strings, integers, floats, and booleans. Let's quickly review these and introduce any remaining basic types:\n",
    "\n",
    "1. Strings: Text enclosed in quotes (e.g., \"Hello\")\n",
    "2. Integers: Whole numbers (e.g., 42)\n",
    "3. Floats: Decimal numbers (e.g., 3.14)\n",
    "4. Booleans: True or False\n",
    "5. NoneType: Represents the absence of a value (None)\n",
    "\n",
    "Let's see examples of each:"
   ]
  },
  {
   "cell_type": "code",
   "execution_count": 1,
   "id": "e660a065-cfd8-483e-b0c0-0ca758a6961c",
   "metadata": {},
   "outputs": [
    {
     "name": "stdout",
     "output_type": "stream",
     "text": [
      "String: Hello, World!, type: <class 'str'>\n",
      "Integer: 42, type: <class 'int'>\n",
      "Float: 3.14159, type: <class 'float'>\n",
      "Boolean: True, type: <class 'bool'>\n",
      "NoneType: None, type: <class 'NoneType'>\n"
     ]
    }
   ],
   "source": [
    "text = \"Hello, World!\"  # String\n",
    "number = 42  # Integer\n",
    "pi = 3.14159  # Float\n",
    "is_python_fun = True  # Boolean\n",
    "no_value = None  # NoneType\n",
    "\n",
    "print(f\"String: {text}, type: {type(text)}\")\n",
    "print(f\"Integer: {number}, type: {type(number)}\")\n",
    "print(f\"Float: {pi}, type: {type(pi)}\")\n",
    "print(f\"Boolean: {is_python_fun}, type: {type(is_python_fun)}\")\n",
    "print(f\"NoneType: {no_value}, type: {type(no_value)}\")"
   ]
  },
  {
   "cell_type": "markdown",
   "id": "7a6d52b7-dcbd-4257-b759-6b73aa822ebd",
   "metadata": {},
   "source": [
    "# Building Pizza Paradise\n",
    "\n",
    "Imagine you've just been hired as a junior programmer at 'Pizza Paradise,' a new pizza delivery app startup. Your first task is to create a system that manages orders and calculates prices. Through this process, we'll learn about functions, scope, debugging, and important programming principles.\n",
    "\n",
    "## Part 1: The Problem - Repetitive Pizza Orders (20 minutes)\n",
    "\n",
    "Let's start by processing a few pizza orders the way your predecessor did it - with repetitive code:"
   ]
  },
  {
   "cell_type": "code",
   "execution_count": 2,
   "id": "86310db1-9d1f-4657-b700-3a564c6aa1f0",
   "metadata": {},
   "outputs": [
    {
     "name": "stdout",
     "output_type": "stream",
     "text": [
      "Order received: Medium Margherita pizza\n",
      "Price: $10.99\n",
      "Thank you for choosing Pizza Paradise!\n",
      "------------------------------\n",
      "Order received: Large Pepperoni pizza\n",
      "Price: $14.99\n",
      "Thank you for choosing Pizza Paradise!\n",
      "------------------------------\n",
      "Order received: Small Vegetarian pizza\n",
      "Price: $8.99\n",
      "Thank you for choosing Pizza Paradise!\n",
      "------------------------------\n"
     ]
    }
   ],
   "source": [
    "# Order 1\n",
    "pizza_type1 = \"Margherita\"\n",
    "size1 = \"Medium\"\n",
    "price1 = 10.99\n",
    "print(f\"Order received: {size1} {pizza_type1} pizza\")\n",
    "print(f\"Price: ${price1}\")\n",
    "print(\"Thank you for choosing Pizza Paradise!\")\n",
    "print(\"-\" * 30)\n",
    "\n",
    "# Order 2\n",
    "pizza_type2 = \"Pepperoni\"\n",
    "size2 = \"Large\"\n",
    "price2 = 14.99\n",
    "print(f\"Order received: {size2} {pizza_type2} pizza\")\n",
    "print(f\"Price: ${price2}\")\n",
    "print(\"Thank you for choosing Pizza Paradise!\")\n",
    "print(\"-\" * 30)\n",
    "\n",
    "# Order 3\n",
    "pizza_type3 = \"Vegetarian\"\n",
    "size3 = \"Small\"\n",
    "price3 = 8.99\n",
    "print(f\"Order received: {size3} {pizza_type3} pizza\")\n",
    "print(f\"Price: ${price3}\")\n",
    "print(\"Thank you for choosing Pizza Paradise!\")\n",
    "print(\"-\" * 30)"
   ]
  },
  {
   "cell_type": "markdown",
   "id": "88174bae-95a8-4785-823a-f69220a0b4fe",
   "metadata": {},
   "source": [
    "Your boss looks at this code and says, \"This works, but it's not efficient. We're repeating a lot of code here. Can you find a way to make this better?\"\n",
    "\n",
    "### Why is repeating code a problem?\n",
    "\n",
    "1. **Maintenance Nightmare**: If we need to change how orders are processed (e.g., add a new print statement), we'd have to change it in multiple places.\n",
    "2. **Increased Error Risk**: More code means more opportunities for bugs to creep in.\n",
    "3. **Reduced Readability**: Repetitive code is harder to read and understand.\n",
    "\n",
    "### Introducing the DRY Principle\n",
    "\n",
    "DRY stands for \"Don't Repeat Yourself\". It's a fundamental principle of software development aimed at reducing repetition of code. The idea is that \"Every piece of knowledge must have a single, unambiguous, authoritative representation within a system.\"\n",
    "\n",
    "By following DRY, we can:\n",
    "- Reduce the chance of bugs\n",
    "- Make our code easier to maintain\n",
    "- Improve readability\n",
    "\n",
    "<div class=\"alert alert-block alert-info\">\n",
    "<b>🤖</b> Ask Jupyternaut about DRY programming concepts to confirm.</div>\n",
    "\n",
    "Let's apply the DRY principle to our pizza ordering system.\n"
   ]
  },
  {
   "cell_type": "markdown",
   "id": "00996650-071c-4cc9-989c-c6b8c2e2bc89",
   "metadata": {},
   "source": [
    "## Part 2: Introducing Functions - The Pizza Order Processor (25 minutes)\n",
    "\n",
    "Functions allow us to write reusable code, adhering to the DRY principle. Let's create a function to process pizza orders:\n"
   ]
  },
  {
   "cell_type": "code",
   "execution_count": 3,
   "id": "b32f049a-c6df-4db6-bb5f-351b651e3e60",
   "metadata": {},
   "outputs": [
    {
     "name": "stdout",
     "output_type": "stream",
     "text": [
      "Order received: Medium Margherita pizza\n",
      "Price: $10.99\n",
      "Thank you for choosing Pizza Paradise!\n",
      "------------------------------\n",
      "Order received: Large Pepperoni pizza\n",
      "Price: $14.99\n",
      "Thank you for choosing Pizza Paradise!\n",
      "------------------------------\n",
      "Order received: Small Vegetarian pizza\n",
      "Price: $8.99\n",
      "Thank you for choosing Pizza Paradise!\n",
      "------------------------------\n"
     ]
    }
   ],
   "source": [
    "def process_pizza_order(pizza_type, size, price):\n",
    "    print(f\"Order received: {size} {pizza_type} pizza\")\n",
    "    print(f\"Price: ${price}\")\n",
    "    print(\"Thank you for choosing Pizza Paradise!\")\n",
    "    print(\"-\" * 30)\n",
    "\n",
    "# Now let's use our function\n",
    "process_pizza_order(\"Margherita\", \"Medium\", 10.99)\n",
    "process_pizza_order(\"Pepperoni\", \"Large\", 14.99)\n",
    "process_pizza_order(\"Vegetarian\", \"Small\", 8.99)"
   ]
  },
  {
   "cell_type": "markdown",
   "id": "4968080c-1978-4f5f-a56e-d86aa6a0931d",
   "metadata": {},
   "source": [
    "<div class=\"alert alert-block alert-info\">\n",
    "<b>🤖</b> Ask Jupyternaut about other/similar concepts to DRY programming that we should know about.</div>"
   ]
  },
  {
   "cell_type": "markdown",
   "id": "002545da-1c72-4ae2-a05c-40522543d05f",
   "metadata": {},
   "source": [
    "Great! We've reduced repetition and made our code more manageable. \n",
    "\n",
    "### Introducing the KISS Principle\n",
    "\n",
    "KISS stands for \"Keep It Simple, Stupid\". This principle states that most systems work best if they are kept simple rather than made complex. Simplicity should be a key goal in design, and unnecessary complexity should be avoided.\n",
    "\n",
    "Let's apply KISS to further improve our system. Instead of passing the price as a parameter, we can calculate it based on the size:\n"
   ]
  },
  {
   "cell_type": "code",
   "execution_count": 4,
   "id": "056739d3-8a6f-4689-bfe9-950e54f1176d",
   "metadata": {},
   "outputs": [
    {
     "name": "stdout",
     "output_type": "stream",
     "text": [
      "Order received: Medium Margherita pizza\n",
      "Price: $10.99\n",
      "Thank you for choosing Pizza Paradise!\n",
      "------------------------------\n",
      "Order received: Large Pepperoni pizza\n",
      "Price: $14.99\n",
      "Thank you for choosing Pizza Paradise!\n",
      "------------------------------\n",
      "Order received: Small Vegetarian pizza\n",
      "Price: $8.99\n",
      "Thank you for choosing Pizza Paradise!\n",
      "------------------------------\n"
     ]
    }
   ],
   "source": [
    "def calculate_pizza_price(size):\n",
    "    if size == \"Small\":\n",
    "        return 8.99\n",
    "    elif size == \"Medium\":\n",
    "        return 10.99\n",
    "    elif size == \"Large\":\n",
    "        return 14.99\n",
    "    else:\n",
    "        return \"Invalid size\"\n",
    "\n",
    "def process_pizza_order(pizza_type, size):\n",
    "    price = calculate_pizza_price(size)\n",
    "    print(f\"Order received: {size} {pizza_type} pizza\")\n",
    "    print(f\"Price: ${price}\")\n",
    "    print(\"Thank you for choosing Pizza Paradise!\")\n",
    "    print(\"-\" * 30)\n",
    "\n",
    "# Let's use our improved functions\n",
    "process_pizza_order(\"Margherita\", \"Medium\")\n",
    "process_pizza_order(\"Pepperoni\", \"Large\")\n",
    "process_pizza_order(\"Vegetarian\", \"Small\")"
   ]
  },
  {
   "cell_type": "markdown",
   "id": "ce1a87d4-93e8-4bc5-9add-0222acebcc16",
   "metadata": {},
   "source": [
    "By separating the price calculation into its own function, we've made our code simpler and easier to maintain.\n",
    "\n",
    "Exercise 1 (5 minutes): \n",
    "The CEO of Pizza Paradise wants to introduce a new \"Extra Large\" size. Modify the `calculate_pizza_price` function to include this new size, priced at $17.99. Remember to keep it simple!"
   ]
  },
  {
   "cell_type": "code",
   "execution_count": 10,
   "id": "8a76a14c-a7f9-4328-8e19-b4fd8b527a17",
   "metadata": {},
   "outputs": [
    {
     "name": "stdout",
     "output_type": "stream",
     "text": [
      "Order received: Extra Large Mega Meat pizza\n",
      "Price: $17.99\n",
      "Total pizzas sold today: 4\n",
      "Thank you for choosing Pizza Paradise!\n",
      "------------------------------\n"
     ]
    }
   ],
   "source": [
    "# Your modified calculate_pizza_price function here\n",
    "def calculate_pizza_price(size):\n",
    "    if size == \"Small\":\n",
    "        return 8.99\n",
    "    elif size == \"Medium\":\n",
    "        return 10.99\n",
    "    elif size == \"Large\":\n",
    "        return 14.99\n",
    "    elif size == \"Extra Large\":\n",
    "        return 17.99\n",
    "    else:\n",
    "        return \"Invalid size\"\n",
    "\n",
    "# Test your function\n",
    "process_pizza_order(\"Mega Meat\", \"Extra Large\")"
   ]
  },
  {
   "cell_type": "markdown",
   "id": "a04bf7c4-0e39-4014-b525-868d8edc5245",
   "metadata": {},
   "source": [
    "## Part 3: Scope - Managing Pizza Inventory (15 minutes)\n",
    "\n",
    "As Pizza Paradise grows, we need to keep track of how many pizzas we've sold. This introduces us to the concept of scope.\n",
    "\n",
    "Scope refers to the visibility and accessibility of variables in different parts of your code. Let's use a global variable to track pizza sales:\n"
   ]
  },
  {
   "cell_type": "code",
   "execution_count": 11,
   "id": "d0aed327-c71d-45df-a4ed-c6dffa464d37",
   "metadata": {},
   "outputs": [
    {
     "name": "stdout",
     "output_type": "stream",
     "text": [
      "Order received: Medium Margherita pizza\n",
      "Price: $10.99\n",
      "Total pizzas sold today: 1\n",
      "Thank you for choosing Pizza Paradise!\n",
      "------------------------------\n",
      "Order received: Large Pepperoni pizza\n",
      "Price: $14.99\n",
      "Total pizzas sold today: 2\n",
      "Thank you for choosing Pizza Paradise!\n",
      "------------------------------\n",
      "Order received: Small Vegetarian pizza\n",
      "Price: $8.99\n",
      "Total pizzas sold today: 3\n",
      "Thank you for choosing Pizza Paradise!\n",
      "------------------------------\n",
      "End of day report - Total pizzas sold: 3\n"
     ]
    }
   ],
   "source": [
    "total_pizzas_sold = 0  # This is a global variable\n",
    "\n",
    "def process_pizza_order(pizza_type, size):\n",
    "    global total_pizzas_sold  # This tells Python we're using the global variable\n",
    "    price = calculate_pizza_price(size)\n",
    "    print(f\"Order received: {size} {pizza_type} pizza\")\n",
    "    print(f\"Price: ${price}\")\n",
    "    total_pizzas_sold += 1\n",
    "    print(f\"Total pizzas sold today: {total_pizzas_sold}\")\n",
    "    print(\"Thank you for choosing Pizza Paradise!\")\n",
    "    print(\"-\" * 30)\n",
    "\n",
    "# Let's sell some pizzas!\n",
    "process_pizza_order(\"Margherita\", \"Medium\")\n",
    "process_pizza_order(\"Pepperoni\", \"Large\")\n",
    "process_pizza_order(\"Vegetarian\", \"Small\")\n",
    "\n",
    "print(f\"End of day report - Total pizzas sold: {total_pizzas_sold}\")"
   ]
  },
  {
   "cell_type": "markdown",
   "id": "82bcd60f-3f29-4427-ae83-3ce851b3fc1d",
   "metadata": {},
   "source": [
    "While global variables can be useful, they should be used sparingly. They can make code harder to understand and maintain if overused.\n",
    "\n",
    "Exercise 2 (5 minutes): \n",
    "Create a new global variable to track the total money earned. Modify the `process_pizza_order` function to update this variable with each order. Remember the DRY and KISS principles!\n"
   ]
  },
  {
   "cell_type": "code",
   "execution_count": 12,
   "id": "9860b739-a6a1-46c5-ac15-08d6a9e90181",
   "metadata": {},
   "outputs": [],
   "source": [
    "# Your solution here\n",
    "\n"
   ]
  },
  {
   "cell_type": "markdown",
   "id": "99e3ef0e-f7b0-43c6-a17e-43993a79055e",
   "metadata": {},
   "source": [
    "## Part 4: Testing and Debugging - Ensuring Quality Pizzas (20 minutes)\n",
    "\n",
    "As Pizza Paradise grows, it's crucial to ensure our code works correctly. This is where testing and debugging come in.\n",
    "\n",
    "Testing is the process of verifying that our code works as expected. Let's write some tests for our `calculate_pizza_price` function:\n"
   ]
  },
  {
   "cell_type": "code",
   "execution_count": 13,
   "id": "e4bf82c5-c9bf-456a-921c-af2bcb5f424f",
   "metadata": {},
   "outputs": [
    {
     "name": "stdout",
     "output_type": "stream",
     "text": [
      "All price calculations tests passed!\n"
     ]
    }
   ],
   "source": [
    "def test_calculate_pizza_price():\n",
    "    assert calculate_pizza_price(\"Small\") == 8.99, \"Small pizza price is incorrect\"\n",
    "    assert calculate_pizza_price(\"Medium\") == 10.99, \"Medium pizza price is incorrect\"\n",
    "    assert calculate_pizza_price(\"Large\") == 14.99, \"Large pizza price is incorrect\"\n",
    "    assert calculate_pizza_price(\"Extra Large\") == 17.99, \"Extra Large pizza price is incorrect\"\n",
    "    assert calculate_pizza_price(\"Jumbo\") == \"Invalid size\", \"Invalid size not handled correctly\"\n",
    "    print(\"All price calculations tests passed!\")\n",
    "\n",
    "test_calculate_pizza_price()"
   ]
  },
  {
   "cell_type": "markdown",
   "id": "c8f66bb6-aed8-415c-bb51-ae76628223f3",
   "metadata": {},
   "source": [
    "Debugging is the process of finding and fixing errors in our code. Let's introduce a bug and then debug it:"
   ]
  },
  {
   "cell_type": "code",
   "execution_count": 14,
   "id": "1bf56af6-403d-4999-96e7-f2cf2bbfbe1b",
   "metadata": {},
   "outputs": [
    {
     "name": "stdout",
     "output_type": "stream",
     "text": [
      "Order received: Medium Margherita pizza\n",
      "Price after discount: $8.99\n"
     ]
    },
    {
     "ename": "TypeError",
     "evalue": "unsupported operand type(s) for -: 'str' and 'int'",
     "output_type": "error",
     "traceback": [
      "\u001b[0;31m---------------------------------------------------------------------------\u001b[0m",
      "\u001b[0;31mTypeError\u001b[0m                                 Traceback (most recent call last)",
      "Cell \u001b[0;32mIn[14], line 14\u001b[0m\n\u001b[1;32m     11\u001b[0m process_pizza_order(\u001b[38;5;124m\"\u001b[39m\u001b[38;5;124mMargherita\u001b[39m\u001b[38;5;124m\"\u001b[39m, \u001b[38;5;124m\"\u001b[39m\u001b[38;5;124mMedium\u001b[39m\u001b[38;5;124m\"\u001b[39m)\n\u001b[1;32m     13\u001b[0m \u001b[38;5;66;03m# Now let's try an invalid size\u001b[39;00m\n\u001b[0;32m---> 14\u001b[0m \u001b[43mprocess_pizza_order\u001b[49m\u001b[43m(\u001b[49m\u001b[38;5;124;43m\"\u001b[39;49m\u001b[38;5;124;43mVeggie\u001b[39;49m\u001b[38;5;124;43m\"\u001b[39;49m\u001b[43m,\u001b[49m\u001b[43m \u001b[49m\u001b[38;5;124;43m\"\u001b[39;49m\u001b[38;5;124;43mSuper Size\u001b[39;49m\u001b[38;5;124;43m\"\u001b[39;49m\u001b[43m)\u001b[49m\n",
      "Cell \u001b[0;32mIn[14], line 6\u001b[0m, in \u001b[0;36mprocess_pizza_order\u001b[0;34m(pizza_type, size)\u001b[0m\n\u001b[1;32m      4\u001b[0m \u001b[38;5;28;01mdef\u001b[39;00m \u001b[38;5;21mprocess_pizza_order\u001b[39m(pizza_type, size):\n\u001b[1;32m      5\u001b[0m     base_price \u001b[38;5;241m=\u001b[39m calculate_pizza_price(size)\n\u001b[0;32m----> 6\u001b[0m     final_price \u001b[38;5;241m=\u001b[39m \u001b[43mapply_discount\u001b[49m\u001b[43m(\u001b[49m\u001b[43mbase_price\u001b[49m\u001b[43m)\u001b[49m\n\u001b[1;32m      7\u001b[0m     \u001b[38;5;28mprint\u001b[39m(\u001b[38;5;124mf\u001b[39m\u001b[38;5;124m\"\u001b[39m\u001b[38;5;124mOrder received: \u001b[39m\u001b[38;5;132;01m{\u001b[39;00msize\u001b[38;5;132;01m}\u001b[39;00m\u001b[38;5;124m \u001b[39m\u001b[38;5;132;01m{\u001b[39;00mpizza_type\u001b[38;5;132;01m}\u001b[39;00m\u001b[38;5;124m pizza\u001b[39m\u001b[38;5;124m\"\u001b[39m)\n\u001b[1;32m      8\u001b[0m     \u001b[38;5;28mprint\u001b[39m(\u001b[38;5;124mf\u001b[39m\u001b[38;5;124m\"\u001b[39m\u001b[38;5;124mPrice after discount: $\u001b[39m\u001b[38;5;132;01m{\u001b[39;00mfinal_price\u001b[38;5;132;01m}\u001b[39;00m\u001b[38;5;124m\"\u001b[39m)\n",
      "Cell \u001b[0;32mIn[14], line 2\u001b[0m, in \u001b[0;36mapply_discount\u001b[0;34m(price)\u001b[0m\n\u001b[1;32m      1\u001b[0m \u001b[38;5;28;01mdef\u001b[39;00m \u001b[38;5;21mapply_discount\u001b[39m(price):\n\u001b[0;32m----> 2\u001b[0m     \u001b[38;5;28;01mreturn\u001b[39;00m \u001b[43mprice\u001b[49m\u001b[43m \u001b[49m\u001b[38;5;241;43m-\u001b[39;49m\u001b[43m \u001b[49m\u001b[38;5;241;43m2\u001b[39;49m\n",
      "\u001b[0;31mTypeError\u001b[0m: unsupported operand type(s) for -: 'str' and 'int'"
     ]
    }
   ],
   "source": [
    "def apply_discount(price):\n",
    "    return price - 2  # $2 discount\n",
    "\n",
    "def process_pizza_order(pizza_type, size):\n",
    "    base_price = calculate_pizza_price(size)\n",
    "    final_price = apply_discount(base_price)\n",
    "    print(f\"Order received: {size} {pizza_type} pizza\")\n",
    "    print(f\"Price after discount: ${final_price}\")\n",
    "\n",
    "# Let's try an order\n",
    "process_pizza_order(\"Margherita\", \"Medium\")\n",
    "\n",
    "# Now let's try an invalid size\n",
    "process_pizza_order(\"Veggie\", \"Super Size\")\n"
   ]
  },
  {
   "cell_type": "markdown",
   "id": "04427342-6c29-4e21-82ea-8129e175e139",
   "metadata": {},
   "source": [
    "We've introduced a bug. The `apply_discount` function is trying to subtract 2 from \"Invalid size\".\n",
    "\n",
    "Exercise 3 (5 minutes): \n",
    "Fix the `apply_discount` function to handle the \"Invalid size\" case correctly. Remember the KISS principle!\n"
   ]
  },
  {
   "cell_type": "code",
   "execution_count": 15,
   "id": "71545e8d-3c6a-42c0-80ae-1858065eb1ad",
   "metadata": {},
   "outputs": [
    {
     "name": "stdout",
     "output_type": "stream",
     "text": [
      "Order received: Medium Margherita pizza\n",
      "Price after discount: $8.99\n"
     ]
    },
    {
     "ename": "TypeError",
     "evalue": "unsupported operand type(s) for -: 'str' and 'int'",
     "output_type": "error",
     "traceback": [
      "\u001b[0;31m---------------------------------------------------------------------------\u001b[0m",
      "\u001b[0;31mTypeError\u001b[0m                                 Traceback (most recent call last)",
      "Cell \u001b[0;32mIn[15], line 5\u001b[0m\n\u001b[1;32m      1\u001b[0m \u001b[38;5;66;03m# Your fixed apply_discount function here\u001b[39;00m\n\u001b[1;32m      2\u001b[0m \n\u001b[1;32m      3\u001b[0m \u001b[38;5;66;03m# Test your function\u001b[39;00m\n\u001b[1;32m      4\u001b[0m process_pizza_order(\u001b[38;5;124m\"\u001b[39m\u001b[38;5;124mMargherita\u001b[39m\u001b[38;5;124m\"\u001b[39m, \u001b[38;5;124m\"\u001b[39m\u001b[38;5;124mMedium\u001b[39m\u001b[38;5;124m\"\u001b[39m)\n\u001b[0;32m----> 5\u001b[0m \u001b[43mprocess_pizza_order\u001b[49m\u001b[43m(\u001b[49m\u001b[38;5;124;43m\"\u001b[39;49m\u001b[38;5;124;43mVeggie\u001b[39;49m\u001b[38;5;124;43m\"\u001b[39;49m\u001b[43m,\u001b[49m\u001b[43m \u001b[49m\u001b[38;5;124;43m\"\u001b[39;49m\u001b[38;5;124;43mSuper Size\u001b[39;49m\u001b[38;5;124;43m\"\u001b[39;49m\u001b[43m)\u001b[49m\n",
      "Cell \u001b[0;32mIn[14], line 6\u001b[0m, in \u001b[0;36mprocess_pizza_order\u001b[0;34m(pizza_type, size)\u001b[0m\n\u001b[1;32m      4\u001b[0m \u001b[38;5;28;01mdef\u001b[39;00m \u001b[38;5;21mprocess_pizza_order\u001b[39m(pizza_type, size):\n\u001b[1;32m      5\u001b[0m     base_price \u001b[38;5;241m=\u001b[39m calculate_pizza_price(size)\n\u001b[0;32m----> 6\u001b[0m     final_price \u001b[38;5;241m=\u001b[39m \u001b[43mapply_discount\u001b[49m\u001b[43m(\u001b[49m\u001b[43mbase_price\u001b[49m\u001b[43m)\u001b[49m\n\u001b[1;32m      7\u001b[0m     \u001b[38;5;28mprint\u001b[39m(\u001b[38;5;124mf\u001b[39m\u001b[38;5;124m\"\u001b[39m\u001b[38;5;124mOrder received: \u001b[39m\u001b[38;5;132;01m{\u001b[39;00msize\u001b[38;5;132;01m}\u001b[39;00m\u001b[38;5;124m \u001b[39m\u001b[38;5;132;01m{\u001b[39;00mpizza_type\u001b[38;5;132;01m}\u001b[39;00m\u001b[38;5;124m pizza\u001b[39m\u001b[38;5;124m\"\u001b[39m)\n\u001b[1;32m      8\u001b[0m     \u001b[38;5;28mprint\u001b[39m(\u001b[38;5;124mf\u001b[39m\u001b[38;5;124m\"\u001b[39m\u001b[38;5;124mPrice after discount: $\u001b[39m\u001b[38;5;132;01m{\u001b[39;00mfinal_price\u001b[38;5;132;01m}\u001b[39;00m\u001b[38;5;124m\"\u001b[39m)\n",
      "Cell \u001b[0;32mIn[14], line 2\u001b[0m, in \u001b[0;36mapply_discount\u001b[0;34m(price)\u001b[0m\n\u001b[1;32m      1\u001b[0m \u001b[38;5;28;01mdef\u001b[39;00m \u001b[38;5;21mapply_discount\u001b[39m(price):\n\u001b[0;32m----> 2\u001b[0m     \u001b[38;5;28;01mreturn\u001b[39;00m \u001b[43mprice\u001b[49m\u001b[43m \u001b[49m\u001b[38;5;241;43m-\u001b[39;49m\u001b[43m \u001b[49m\u001b[38;5;241;43m2\u001b[39;49m\n",
      "\u001b[0;31mTypeError\u001b[0m: unsupported operand type(s) for -: 'str' and 'int'"
     ]
    }
   ],
   "source": [
    "# Your fixed apply_discount function here\n",
    "\n",
    "# Test your function\n",
    "process_pizza_order(\"Margherita\", \"Medium\")\n",
    "process_pizza_order(\"Veggie\", \"Super Size\")"
   ]
  },
  {
   "cell_type": "markdown",
   "id": "0a5fa17b-7106-4d2c-9955-a7aea59b5226",
   "metadata": {},
   "source": [
    "## Wrap-up and Review (10 minutes)\n",
    "\n",
    "Congratulations! You've successfully improved the Pizza Paradise ordering system. Let's review what we've learned:\n",
    "\n",
    "1. Functions help us organize code and reduce repetition, following the DRY principle.\n",
    "2. The KISS principle encourages us to keep our code simple and avoid unnecessary complexity.\n",
    "3. Scope determines where variables can be accessed. Use global variables judiciously.\n",
    "4. Testing helps us ensure our code works correctly.\n",
    "5. Debugging is the process of finding and fixing errors in our code.\n",
    "\n",
    "These principles and practices help us write better, more maintainable code.\n",
    "\n",
    "For additional practice:\n",
    "1. Add a new feature to track the most popular pizza type, keeping the DRY and KISS principles in mind.\n",
    "2. Create a function to apply a percentage-based discount instead of a fixed amount.\n",
    "3. Write more test cases to ensure all parts of the system work correctly.\n",
    "\n",
    "Next session, we'll explore more complex data structures to store pizza menus, customer orders, and more!"
   ]
  },
  {
   "cell_type": "code",
   "execution_count": null,
   "id": "079c42ee-9acb-450a-b0a0-66cd1cfd3067",
   "metadata": {},
   "outputs": [],
   "source": []
  }
 ],
 "metadata": {
  "kernelspec": {
   "display_name": "Python 3 (ipykernel)",
   "language": "python",
   "name": "python3"
  },
  "language_info": {
   "codemirror_mode": {
    "name": "ipython",
    "version": 3
   },
   "file_extension": ".py",
   "mimetype": "text/x-python",
   "name": "python",
   "nbconvert_exporter": "python",
   "pygments_lexer": "ipython3",
   "version": "3.10.10"
  }
 },
 "nbformat": 4,
 "nbformat_minor": 5
}

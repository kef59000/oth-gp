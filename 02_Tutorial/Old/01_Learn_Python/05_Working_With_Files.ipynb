{
 "cells": [
  {
   "cell_type": "markdown",
   "metadata": {},
   "source": [
    "# Session 5: Storing and Managing Pizza Paradise Data (90 minutes)\n",
    "\n",
    "\n",
    "# Welcome to Session 5: Data Persistence for Pizza Paradise\n",
    "\n",
    "## Quick Review and Setup (10 minutes)\n",
    "\n",
    "First, let's set up our essential functions and data structures from previous sessions:\n"
   ]
  },
  {
   "cell_type": "code",
   "execution_count": null,
   "metadata": {},
   "outputs": [],
   "source": [
    "# Core functions from previous sessions\n",
    "def calculate_pizza_price(size):\n",
    "    if size == \"Small\":\n",
    "        return 8.99\n",
    "    elif size == \"Medium\":\n",
    "        return 10.99\n",
    "    elif size == \"Large\":\n",
    "        return 14.99\n",
    "    elif size == \"Extra Large\":\n",
    "        return 17.99\n",
    "    else:\n",
    "        return \"Invalid size\"\n",
    "\n",
    "def apply_discount(price):\n",
    "    if isinstance(price, (int, float)):\n",
    "        return price - 2\n",
    "    else:\n",
    "        return price\n"
   ]
  },
  {
   "cell_type": "code",
   "execution_count": null,
   "metadata": {},
   "outputs": [],
   "source": [
    "# Pizza menu and details\n",
    "pizza_menu = [\"Margherita\", \"Pepperoni\", \"Vegetarian\", \"Hawaiian\", \"Supreme\", \"BBQ Chicken\"]\n",
    "\n",
    "pizza_details = {\n",
    "    \"Margherita\": {\"ingredients\": [\"tomato sauce\", \"mozzarella\", \"basil\"], \"vegetarian\": True},\n",
    "    \"Pepperoni\": {\"ingredients\": [\"tomato sauce\", \"mozzarella\", \"pepperoni\"], \"vegetarian\": False},\n",
    "    \"Vegetarian\": {\"ingredients\": [\"tomato sauce\", \"mozzarella\", \"mushrooms\", \"bell peppers\", \"olives\"], \"vegetarian\": True},\n",
    "    \"Hawaiian\": {\"ingredients\": [\"tomato sauce\", \"mozzarella\", \"ham\", \"pineapple\"], \"vegetarian\": False},\n",
    "    \"Supreme\": {\"ingredients\": [\"tomato sauce\", \"mozzarella\", \"pepperoni\", \"sausage\", \"mushrooms\", \"bell peppers\", \"onions\"], \"vegetarian\": False},\n",
    "    \"BBQ Chicken\": {\"ingredients\": [\"bbq sauce\", \"mozzarella\", \"chicken\", \"onions\"], \"vegetarian\": False}\n",
    "}"
   ]
  },
  {
   "cell_type": "markdown",
   "metadata": {
    "vscode": {
     "languageId": "plaintext"
    }
   },
   "source": [
    "## Introduction to File Operations (15 minutes)\n",
    "\n",
    "Pizza Paradise is growing fast! We need to start saving our data permanently instead of losing it when we close our program. This is where file operations come in handy.\n",
    "\n",
    "Let's explore how to:\n",
    "1. Save data to files\n",
    "2. Read data from files\n",
    "3. Update existing files\n",
    "4. Handle different file formats\n",
    "\n",
    "### Our First File Operation: Saving the Daily Menu"
   ]
  },
  {
   "cell_type": "code",
   "execution_count": null,
   "metadata": {},
   "outputs": [],
   "source": [
    "# Let's save our menu to a simple text file\n",
    "def save_menu_to_file(filename=\"menu.txt\"):\n",
    "    try:\n",
    "        with open(filename, \"w\") as file:\n",
    "            for pizza in pizza_menu:\n",
    "                file.write(pizza + \"\\n\")\n",
    "        print(f\"Menu successfully saved to {filename}\")\n",
    "    except Exception as e:\n",
    "        print(f\"Error saving menu: {e}\")\n",
    "\n",
    "# Save the menu\n",
    "save_menu_to_file()\n"
   ]
  },
  {
   "cell_type": "markdown",
   "metadata": {},
   "source": [
    "Let's break down what just happened:\n",
    "1. `open(filename, \"w\")`: Opens a file for writing (\"w\" mode)\n",
    "2. `with` statement: Automatically closes the file when we're done\n",
    "3. `file.write()`: Writes text to the file\n",
    "4. `try/except`: Handles potential errors\n",
    "\n",
    "Now, let's read the menu back:\n"
   ]
  },
  {
   "cell_type": "code",
   "execution_count": null,
   "metadata": {},
   "outputs": [],
   "source": [
    "def read_menu_from_file(filename=\"menu.txt\"):\n",
    "    try:\n",
    "        with open(filename, \"r\") as file:\n",
    "            menu_items = file.readlines()\n",
    "            # Remove newline characters\n",
    "            menu_items = [item.strip() for item in menu_items]\n",
    "        return menu_items\n",
    "    except Exception as e:\n",
    "        print(f\"Error reading menu: {e}\")\n",
    "        return []\n",
    "\n",
    "# Read and display the menu\n",
    "loaded_menu = read_menu_from_file()\n",
    "print(\"Menu loaded from file:\")\n",
    "for item in loaded_menu:\n",
    "    print(f\"- {item}\")"
   ]
  },
  {
   "cell_type": "code",
   "execution_count": null,
   "metadata": {},
   "outputs": [],
   "source": [
    "# Try Changing the contents of the menu.txt file and see what happens once you load it again.\n",
    "\n",
    "# Read and display the menu\n",
    "for item in read_menu_from_file():\n",
    "    print(f\"- {item}\")"
   ]
  },
  {
   "cell_type": "markdown",
   "metadata": {},
   "source": [
    "## Working with CSV Files (20 minutes)\n",
    "\n",
    "For more structured data, like our daily sales records, CSV (Comma-Separated Values) files are very useful.\n",
    "\n",
    "<div class=\"alert alert-block alert-info\">\n",
    "<b>🤖</b> Ask Jupyternaut why CSV files might be helpful to store structured data.</div>\n",
    "\n",
    "Let's create a system to track our daily sales:\n"
   ]
  },
  {
   "cell_type": "code",
   "execution_count": null,
   "metadata": {},
   "outputs": [],
   "source": [
    "import csv\n",
    "from datetime import datetime\n",
    "\n",
    "def save_order_to_csv(pizza_type, size, price, filename=\"sales.csv\"):\n",
    "    try:\n",
    "        # Check if file exists, if not create with headers\n",
    "        try:\n",
    "            with open(filename, \"r\") as file:\n",
    "                pass\n",
    "        except FileNotFoundError:\n",
    "            with open(filename, \"w\", newline='') as file:\n",
    "                writer = csv.writer(file)\n",
    "                writer.writerow([\"Date\", \"Pizza\", \"Size\", \"Price\"])\n",
    "        \n",
    "        # Append the new order\n",
    "        with open(filename, \"a\", newline='') as file:\n",
    "            writer = csv.writer(file)\n",
    "            writer.writerow([\n",
    "                datetime.now().strftime(\"%Y-%m-%d %H:%M:%S\"),\n",
    "                pizza_type,\n",
    "                size,\n",
    "                price\n",
    "            ])\n",
    "        print(\"Order saved to sales record\")\n",
    "    except Exception as e:\n",
    "        print(f\"Error saving order: {e}\")"
   ]
  },
  {
   "cell_type": "code",
   "execution_count": null,
   "metadata": {},
   "outputs": [],
   "source": [
    "# Let's record some orders\n",
    "save_order_to_csv(\"Margherita\", \"Medium\", calculate_pizza_price(\"Medium\"))\n",
    "save_order_to_csv(\"Pepperoni\", \"Large\", calculate_pizza_price(\"Large\"))"
   ]
  },
  {
   "cell_type": "markdown",
   "metadata": {},
   "source": [
    "Now let's create a function to read and analyze our sales data:"
   ]
  },
  {
   "cell_type": "code",
   "execution_count": null,
   "metadata": {},
   "outputs": [],
   "source": [
    "def analyze_sales(filename=\"sales.csv\"):\n",
    "    try:\n",
    "        with open(filename, \"r\") as file:\n",
    "            reader = csv.DictReader(file)\n",
    "            total_sales = 0\n",
    "            pizza_counts = {}\n",
    "            \n",
    "            for row in reader:\n",
    "                total_sales += float(row['Price'])\n",
    "                pizza_counts[row['Pizza']] = pizza_counts.get(row['Pizza'], 0) + 1\n",
    "            \n",
    "            print(f\"Total Sales: ${total_sales:.2f}\")\n",
    "            print(\"\\nPizza Sales Breakdown:\")\n",
    "            for pizza, count in pizza_counts.items():\n",
    "                print(f\"- {pizza}: {count} sold\")\n",
    "                \n",
    "    except Exception as e:\n",
    "        print(f\"Error analyzing sales: {e}\")\n"
   ]
  },
  {
   "cell_type": "code",
   "execution_count": null,
   "metadata": {},
   "outputs": [],
   "source": [
    "# Analyze our sales\n",
    "analyze_sales()"
   ]
  },
  {
   "cell_type": "markdown",
   "metadata": {},
   "source": [
    "## Any Confusion? Remember, Jupyternaut is here to help you.\n",
    "\n",
    "<div class=\"alert alert-block alert-info\">\n",
    "<b>🤖</b> Should you be stuck or unsure about any of these functions, ask Jupyternaut to explain them to you in simple terms step by step and line by line.</div>"
   ]
  },
  {
   "cell_type": "markdown",
   "metadata": {},
   "source": [
    "## Working with JSON Files (20 minutes)\n",
    "\n",
    "JSON is perfect for storing structured data like our pizza details. \n",
    "\n",
    "<div class=\"alert alert-block alert-info\">\n",
    "<b>🤖</b> Ask Jupyternaut why JSON is so heavily used in software development and Python specifically.</div>\n",
    "\n",
    "Let's save and load our pizza details using JSON:\n"
   ]
  },
  {
   "cell_type": "code",
   "execution_count": null,
   "metadata": {},
   "outputs": [],
   "source": [
    "import json\n",
    "\n",
    "def save_pizza_details(filename=\"pizza_details.json\"):\n",
    "    try:\n",
    "        with open(filename, \"w\") as file:\n",
    "            json.dump(pizza_details, file, indent=4)\n",
    "        print(\"Pizza details saved successfully\")\n",
    "    except Exception as e:\n",
    "        print(f\"Error saving pizza details: {e}\")"
   ]
  },
  {
   "cell_type": "code",
   "execution_count": null,
   "metadata": {},
   "outputs": [],
   "source": [
    "def load_pizza_details(filename=\"pizza_details.json\"):\n",
    "    try:\n",
    "        with open(filename, \"r\") as file:\n",
    "            return json.load(file)\n",
    "    except Exception as e:\n",
    "        print(f\"Error loading pizza details: {e}\")\n",
    "        return {}"
   ]
  },
  {
   "cell_type": "markdown",
   "metadata": {},
   "source": [
    "Even though these functions are rather short and simple, it is good practice to correctly document and add comments to your code.\n",
    "\n",
    "This might also increase your understanding of these code snippets.\n",
    "\n",
    "<div class=\"alert alert-block alert-info\">\n",
    "<b>🤖</b> Use Jupyternaut to adequately document these two functions using comments.</div>"
   ]
  },
  {
   "cell_type": "code",
   "execution_count": null,
   "metadata": {},
   "outputs": [],
   "source": [
    "# Save our pizza details\n",
    "save_pizza_details()"
   ]
  },
  {
   "cell_type": "code",
   "execution_count": null,
   "metadata": {},
   "outputs": [],
   "source": [
    "# Load and display them\n",
    "loaded_details = load_pizza_details()\n",
    "print(\"\\nLoaded Pizza Details:\")\n",
    "for pizza, details in loaded_details.items():\n",
    "    print(f\"\\n{pizza}:\")\n",
    "    print(f\"Ingredients: {', '.join(details['ingredients'])}\")\n",
    "    print(f\"Vegetarian: {'Yes' if details['vegetarian'] else 'No'}\")"
   ]
  },
  {
   "cell_type": "markdown",
   "metadata": {},
   "source": [
    "## Exercise: Creating a Daily Report System (15 minutes)\n",
    "\n",
    "Create a function that generates a daily report including:\n",
    "1. Total sales\n",
    "2. Most popular pizza\n",
    "3. Most popular size\n",
    "4. Save this report to a text file\n",
    "\n",
    "Here's a starter template:\n"
   ]
  },
  {
   "cell_type": "code",
   "execution_count": null,
   "metadata": {},
   "outputs": [],
   "source": [
    "def generate_daily_report(sales_file=\"sales.csv\", report_file=\"daily_report.txt\"):\n",
    "    # Your code here to:\n",
    "    # 1. Read the sales data\n",
    "    # 2. Calculate statistics\n",
    "    # 3. Write the report to a file\n",
    "    pass"
   ]
  },
  {
   "cell_type": "markdown",
   "metadata": {},
   "source": [
    "## File Management Best Practices (10 minutes)\n",
    "\n",
    "When working with files, remember these important principles:\n",
    "\n",
    "1. Always use the `with` statement when opening files\n",
    "2. Handle exceptions appropriately\n",
    "3. Use appropriate file formats for different types of data:\n",
    "   - Text files: Simple data, logs\n",
    "   - CSV: Tabular data, sales records\n",
    "   - JSON: Structured data, configuration\n",
    "4. Back up important data\n",
    "5. Validate data when reading from files\n",
    "\n",
    "### Important Security Note:\n",
    "Never store sensitive information (like credit card details) in plain text files!\n"
   ]
  },
  {
   "cell_type": "markdown",
   "metadata": {},
   "source": [
    "## Wrap-up\n",
    "\n",
    "Today we learned how to:\n",
    "1. Read and write text files\n",
    "2. Work with CSV files for sales data\n",
    "3. Store structured data using JSON\n",
    "4. Generate reports from our data\n",
    "\n",
    "Practice Exercises:\n",
    "1. Add error logging to a separate log file\n",
    "2. Create a backup system for our data files\n",
    "3. Implement a system to track customer feedback in a CSV file\n",
    "\n",
    "Next session, we'll explore how to analyze our saved data to make business decisions!"
   ]
  }
 ],
 "metadata": {
  "kernelspec": {
   "display_name": "oth-gp",
   "language": "python",
   "name": "python3"
  },
  "language_info": {
   "codemirror_mode": {
    "name": "ipython",
    "version": 3
   },
   "file_extension": ".py",
   "mimetype": "text/x-python",
   "name": "python",
   "nbconvert_exporter": "python",
   "pygments_lexer": "ipython3",
   "version": "3.12.6"
  }
 },
 "nbformat": 4,
 "nbformat_minor": 2
}
